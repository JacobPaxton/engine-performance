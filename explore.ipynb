{
 "cells": [
  {
   "cell_type": "markdown",
   "id": "a1226a30",
   "metadata": {},
   "source": [
    "# Overview\n",
    "This notebook contains my work for exploring the dyno run data.\n",
    "\n",
    "## Notes\n",
    "For future analysis having a wide variety of 'objects' and modifications with a continuous target:\n",
    "1. If possible, decrease variety of 'objects' for feature engineering and statistical purposes\n",
    "2. If not possible to decrease variety, group instead on similar value for continuous target\n",
    "    * Choose the peak in normal distribution; if not normally distributed, choose the highest point in the distribution\n",
    "3. Create features based on the decreased-variety data\n",
    "4. Make determinations in new features for all observations\n",
    "5. Categorize 'objects' into cluster features using keywords\n",
    "    * EX: A Nissan GT-R often has more than 500 horsepower, make a feature called over_500 which encodes Nissan GT-R as True\n",
    "\n",
    "\n",
    "# Objectives\n",
    "From a practical perspective, this project should do two things:\n",
    "1. Determine which factors increase max horsepower for any given car\n",
    "2. Predict expected horsepower accurately given some information about the car\n",
    "\n",
    "Exploration is done for step 1, we will lay out the plan below.\n",
    "\n",
    "## 1. Determine which factors increase horsepower the most\n",
    "To determine which parts packages and setups increase horsepower overall, we need to do the following things:\n",
    "1. Limit cars to one overall make and model with same horsepower number\n",
    "2. Create new version of car_info df for single make+model+horsepower combination\n",
    "3. Get the stock performance of the single combination\n",
    "4. Create features for parts, fuel, and more based on 'specs' values\n",
    "    * Simplify dyno run data to max horsepower, max torque, and max boost\n",
    "    * Append run's max horsepower, torque, and boost to car_info dataframe\n",
    "    * Append stock max horsepower, torque, and boost to car_info dataframe\n",
    "5. Use correlation heatmap to visually identify drivers\n",
    "\n",
    "# Imports"
   ]
  },
  {
   "cell_type": "code",
   "execution_count": 1,
   "id": "faa78e99",
   "metadata": {},
   "outputs": [],
   "source": [
    "import warnings\n",
    "warnings.filterwarnings('ignore')\n",
    "\n",
    "import numpy as np\n",
    "import pandas as pd\n",
    "import matplotlib.pyplot as plt\n",
    "import seaborn as sns\n",
    "from scipy import stats\n",
    "\n",
    "import wrangle\n",
    "import explore"
   ]
  },
  {
   "cell_type": "code",
   "execution_count": 2,
   "id": "0ab70130",
   "metadata": {},
   "outputs": [
    {
     "data": {
      "text/plain": [
       "((2217, 10), (918491, 5))"
      ]
     },
     "execution_count": 2,
     "metadata": {},
     "output_type": "execute_result"
    }
   ],
   "source": [
    "info, runs = wrangle.prep_explore_MVP()\n",
    "info.shape, runs.shape"
   ]
  },
  {
   "cell_type": "code",
   "execution_count": 3,
   "id": "a68417c2",
   "metadata": {},
   "outputs": [
    {
     "data": {
      "text/plain": [
       "2005 Impreza WRX STI    129\n",
       "2011 Impreza WRX STI    115\n",
       "2006 Impreza WRX STI    107\n",
       "2008 Impreza WRX STI     98\n",
       "2002 Impreza WRX         83\n",
       "2004 Impreza WRX         76\n",
       "2009 GT-R                76\n",
       "2004 Impreza WRX STI     75\n",
       "2008 EVO X GSR           75\n",
       "2007 Impreza WRX STI     74\n",
       "2005 Impreza WRX         61\n",
       "2009 Impreza WRX         58\n",
       "2011 Impreza WRX         58\n",
       "2006 Impreza WRX         55\n",
       "2010 Impreza WRX STI     50\n",
       "2010 Impreza WRX         43\n",
       "2010 EVO X GSR           40\n",
       "2012 GT-R                29\n",
       "2012 Impreza WRX STI     29\n",
       "2010 GT-R                29\n",
       "2013 Impreza WRX STI     28\n",
       "2003 Impreza WRX         28\n",
       "2011 EVO X GSR           28\n",
       "2013 Impreza WRX         27\n",
       "2013 EVO X GSR           26\n",
       "Name: car_model, dtype: int64"
      ]
     },
     "execution_count": 3,
     "metadata": {},
     "output_type": "execute_result"
    }
   ],
   "source": [
    "# check for most numerous make+model\n",
    "info.car_model.value_counts().head(25)"
   ]
  },
  {
   "cell_type": "markdown",
   "id": "a04b1c00",
   "metadata": {},
   "source": [
    "Based on these numbers, we're going with the **WRX STI** as our single make+model, which has 300 - 305 horsepower stock. We will stick with **305 BHP** as our baseline."
   ]
  },
  {
   "cell_type": "code",
   "execution_count": 4,
   "id": "cc792873",
   "metadata": {},
   "outputs": [
    {
     "data": {
      "text/html": [
       "<div>\n",
       "<style scoped>\n",
       "    .dataframe tbody tr th:only-of-type {\n",
       "        vertical-align: middle;\n",
       "    }\n",
       "\n",
       "    .dataframe tbody tr th {\n",
       "        vertical-align: top;\n",
       "    }\n",
       "\n",
       "    .dataframe thead th {\n",
       "        text-align: right;\n",
       "    }\n",
       "</style>\n",
       "<table border=\"1\" class=\"dataframe\">\n",
       "  <thead>\n",
       "    <tr style=\"text-align: right;\">\n",
       "      <th></th>\n",
       "      <th>run</th>\n",
       "      <th>name</th>\n",
       "      <th>specs</th>\n",
       "      <th>car_make</th>\n",
       "      <th>car_model</th>\n",
       "      <th>has_keyword</th>\n",
       "      <th>stock_hp</th>\n",
       "      <th>psi</th>\n",
       "      <th>octane</th>\n",
       "      <th>tuned_cpu</th>\n",
       "    </tr>\n",
       "  </thead>\n",
       "  <tbody>\n",
       "    <tr>\n",
       "      <th>3263</th>\n",
       "      <td>4208</td>\n",
       "      <td>Ahmed Belazi</td>\n",
       "      <td>COBB Tuning Accessport, COBB Tuning Turboback,...</td>\n",
       "      <td>Subaru</td>\n",
       "      <td>2011 Impreza WRX STI</td>\n",
       "      <td>False</td>\n",
       "      <td>305</td>\n",
       "      <td>15</td>\n",
       "      <td>92</td>\n",
       "      <td>True</td>\n",
       "    </tr>\n",
       "    <tr>\n",
       "      <th>3271</th>\n",
       "      <td>4261</td>\n",
       "      <td>Sean Kim</td>\n",
       "      <td>COBB Tuning Accessport, Perrin Turbobck, Coswo...</td>\n",
       "      <td>Subaru</td>\n",
       "      <td>2011 Impreza WRX STI</td>\n",
       "      <td>False</td>\n",
       "      <td>305</td>\n",
       "      <td>19.5</td>\n",
       "      <td>92</td>\n",
       "      <td>True</td>\n",
       "    </tr>\n",
       "    <tr>\n",
       "      <th>3237</th>\n",
       "      <td>3827</td>\n",
       "      <td>Matt Songer</td>\n",
       "      <td>COBB Tuning AccessPORT, Invidia Catted Downpip...</td>\n",
       "      <td>Subaru</td>\n",
       "      <td>2011 Impreza WRX STI</td>\n",
       "      <td>False</td>\n",
       "      <td>305</td>\n",
       "      <td>18</td>\n",
       "      <td>92</td>\n",
       "      <td>True</td>\n",
       "    </tr>\n",
       "    <tr>\n",
       "      <th>3541</th>\n",
       "      <td>2703</td>\n",
       "      <td>COBB Tuning</td>\n",
       "      <td>MAF - Sport</td>\n",
       "      <td>Subaru</td>\n",
       "      <td>2011 Impreza WRX STI Hatch</td>\n",
       "      <td>False</td>\n",
       "      <td>305</td>\n",
       "      <td>NaN</td>\n",
       "      <td>NaN</td>\n",
       "      <td>False</td>\n",
       "    </tr>\n",
       "    <tr>\n",
       "      <th>4010</th>\n",
       "      <td>4940</td>\n",
       "      <td>Ho Joon Lee</td>\n",
       "      <td>COBB Tuning Accessport, Nameless TBE, Tial 38m...</td>\n",
       "      <td>Subaru</td>\n",
       "      <td>2013 Impreza WRX STI</td>\n",
       "      <td>False</td>\n",
       "      <td>305</td>\n",
       "      <td>15</td>\n",
       "      <td>92</td>\n",
       "      <td>True</td>\n",
       "    </tr>\n",
       "    <tr>\n",
       "      <th>...</th>\n",
       "      <td>...</td>\n",
       "      <td>...</td>\n",
       "      <td>...</td>\n",
       "      <td>...</td>\n",
       "      <td>...</td>\n",
       "      <td>...</td>\n",
       "      <td>...</td>\n",
       "      <td>...</td>\n",
       "      <td>...</td>\n",
       "      <td>...</td>\n",
       "    </tr>\n",
       "    <tr>\n",
       "      <th>3161</th>\n",
       "      <td>2762</td>\n",
       "      <td>Jon Luchsinger</td>\n",
       "      <td>COBB Tuning AccessPORT, COBB Tuning Intake, Pe...</td>\n",
       "      <td>Subaru</td>\n",
       "      <td>2011 Impreza WRX STI</td>\n",
       "      <td>False</td>\n",
       "      <td>305</td>\n",
       "      <td>16</td>\n",
       "      <td>92</td>\n",
       "      <td>True</td>\n",
       "    </tr>\n",
       "    <tr>\n",
       "      <th>1561</th>\n",
       "      <td>3711</td>\n",
       "      <td>Brandon Brown</td>\n",
       "      <td>20psi 93 Octane</td>\n",
       "      <td>Subaru</td>\n",
       "      <td>2005 Impreza WRX STI</td>\n",
       "      <td>False</td>\n",
       "      <td>300</td>\n",
       "      <td>NaN</td>\n",
       "      <td>93</td>\n",
       "      <td>False</td>\n",
       "    </tr>\n",
       "    <tr>\n",
       "      <th>3253</th>\n",
       "      <td>3981</td>\n",
       "      <td>Bryan Nichols</td>\n",
       "      <td>COBB Tuning AccessPORT, Invidia Catless Downpi...</td>\n",
       "      <td>Subaru</td>\n",
       "      <td>2011 Impreza WRX STI</td>\n",
       "      <td>False</td>\n",
       "      <td>305</td>\n",
       "      <td>16</td>\n",
       "      <td>92</td>\n",
       "      <td>True</td>\n",
       "    </tr>\n",
       "    <tr>\n",
       "      <th>3184</th>\n",
       "      <td>3020</td>\n",
       "      <td>Santos Contreras</td>\n",
       "      <td>Stage 2 93 20psi Sport</td>\n",
       "      <td>Subaru</td>\n",
       "      <td>2011 Impreza WRX STI</td>\n",
       "      <td>False</td>\n",
       "      <td>305</td>\n",
       "      <td>20</td>\n",
       "      <td>93</td>\n",
       "      <td>True</td>\n",
       "    </tr>\n",
       "    <tr>\n",
       "      <th>735</th>\n",
       "      <td>4490</td>\n",
       "      <td>Sam Bingham</td>\n",
       "      <td>COBB Tuning Accessport, Built Bottom End, Blou...</td>\n",
       "      <td>Subaru</td>\n",
       "      <td>2006 Impreza WRX STI</td>\n",
       "      <td>False</td>\n",
       "      <td>300</td>\n",
       "      <td>18.5</td>\n",
       "      <td>92</td>\n",
       "      <td>True</td>\n",
       "    </tr>\n",
       "  </tbody>\n",
       "</table>\n",
       "<p>800 rows × 10 columns</p>\n",
       "</div>"
      ],
      "text/plain": [
       "       run              name  \\\n",
       "3263  4208      Ahmed Belazi   \n",
       "3271  4261          Sean Kim   \n",
       "3237  3827       Matt Songer   \n",
       "3541  2703       COBB Tuning   \n",
       "4010  4940       Ho Joon Lee   \n",
       "...    ...               ...   \n",
       "3161  2762    Jon Luchsinger   \n",
       "1561  3711     Brandon Brown   \n",
       "3253  3981     Bryan Nichols   \n",
       "3184  3020  Santos Contreras   \n",
       "735   4490       Sam Bingham   \n",
       "\n",
       "                                                  specs car_make  \\\n",
       "3263  COBB Tuning Accessport, COBB Tuning Turboback,...   Subaru   \n",
       "3271  COBB Tuning Accessport, Perrin Turbobck, Coswo...   Subaru   \n",
       "3237  COBB Tuning AccessPORT, Invidia Catted Downpip...   Subaru   \n",
       "3541                                        MAF - Sport   Subaru   \n",
       "4010  COBB Tuning Accessport, Nameless TBE, Tial 38m...   Subaru   \n",
       "...                                                 ...      ...   \n",
       "3161  COBB Tuning AccessPORT, COBB Tuning Intake, Pe...   Subaru   \n",
       "1561                                    20psi 93 Octane   Subaru   \n",
       "3253  COBB Tuning AccessPORT, Invidia Catless Downpi...   Subaru   \n",
       "3184                             Stage 2 93 20psi Sport   Subaru   \n",
       "735   COBB Tuning Accessport, Built Bottom End, Blou...   Subaru   \n",
       "\n",
       "                       car_model  has_keyword  stock_hp   psi octane  \\\n",
       "3263        2011 Impreza WRX STI        False       305    15     92   \n",
       "3271        2011 Impreza WRX STI        False       305  19.5     92   \n",
       "3237        2011 Impreza WRX STI        False       305    18     92   \n",
       "3541  2011 Impreza WRX STI Hatch        False       305   NaN    NaN   \n",
       "4010        2013 Impreza WRX STI        False       305    15     92   \n",
       "...                          ...          ...       ...   ...    ...   \n",
       "3161        2011 Impreza WRX STI        False       305    16     92   \n",
       "1561        2005 Impreza WRX STI        False       300   NaN     93   \n",
       "3253        2011 Impreza WRX STI        False       305    16     92   \n",
       "3184        2011 Impreza WRX STI        False       305    20     93   \n",
       "735         2006 Impreza WRX STI        False       300  18.5     92   \n",
       "\n",
       "      tuned_cpu  \n",
       "3263       True  \n",
       "3271       True  \n",
       "3237       True  \n",
       "3541      False  \n",
       "4010       True  \n",
       "...         ...  \n",
       "3161       True  \n",
       "1561      False  \n",
       "3253       True  \n",
       "3184       True  \n",
       "735        True  \n",
       "\n",
       "[800 rows x 10 columns]"
      ]
     },
     "execution_count": 4,
     "metadata": {},
     "output_type": "execute_result"
    }
   ],
   "source": [
    "# new dataframe for the WRX STI\n",
    "sti_info = info[info.car_model.str.contains('STI')]\n",
    "sti_info"
   ]
  },
  {
   "cell_type": "code",
   "execution_count": 5,
   "id": "6e3fcfba",
   "metadata": {
    "scrolled": true
   },
   "outputs": [
    {
     "data": {
      "text/html": [
       "<div>\n",
       "<style scoped>\n",
       "    .dataframe tbody tr th:only-of-type {\n",
       "        vertical-align: middle;\n",
       "    }\n",
       "\n",
       "    .dataframe tbody tr th {\n",
       "        vertical-align: top;\n",
       "    }\n",
       "\n",
       "    .dataframe thead th {\n",
       "        text-align: right;\n",
       "    }\n",
       "</style>\n",
       "<table border=\"1\" class=\"dataframe\">\n",
       "  <thead>\n",
       "    <tr style=\"text-align: right;\">\n",
       "      <th></th>\n",
       "      <th>run</th>\n",
       "      <th>rpm</th>\n",
       "      <th>hp</th>\n",
       "      <th>torque</th>\n",
       "      <th>boost</th>\n",
       "    </tr>\n",
       "  </thead>\n",
       "  <tbody>\n",
       "    <tr>\n",
       "      <th>17628</th>\n",
       "      <td>61</td>\n",
       "      <td>2040.0</td>\n",
       "      <td>56.0</td>\n",
       "      <td>146.0</td>\n",
       "      <td>3.6</td>\n",
       "    </tr>\n",
       "    <tr>\n",
       "      <th>17629</th>\n",
       "      <td>61</td>\n",
       "      <td>2050.0</td>\n",
       "      <td>56.0</td>\n",
       "      <td>146.0</td>\n",
       "      <td>3.7</td>\n",
       "    </tr>\n",
       "    <tr>\n",
       "      <th>17630</th>\n",
       "      <td>61</td>\n",
       "      <td>2060.0</td>\n",
       "      <td>57.0</td>\n",
       "      <td>147.0</td>\n",
       "      <td>3.8</td>\n",
       "    </tr>\n",
       "  </tbody>\n",
       "</table>\n",
       "</div>"
      ],
      "text/plain": [
       "       run     rpm    hp  torque  boost\n",
       "17628   61  2040.0  56.0   146.0    3.6\n",
       "17629   61  2050.0  56.0   146.0    3.7\n",
       "17630   61  2060.0  57.0   147.0    3.8"
      ]
     },
     "execution_count": 5,
     "metadata": {},
     "output_type": "execute_result"
    }
   ],
   "source": [
    "# limit dyno_runs to the WRX STI runs as well\n",
    "sti_runs = runs[runs.run.isin(sti_info.run)]\n",
    "sti_runs.head(3)"
   ]
  },
  {
   "cell_type": "markdown",
   "id": "43cd7f11",
   "metadata": {},
   "source": [
    "# MVP Exploration\n",
    "Let's gather the max horsepower stats of each run and append the results to our car info dataframe."
   ]
  },
  {
   "cell_type": "code",
   "execution_count": 6,
   "id": "1189c83b",
   "metadata": {},
   "outputs": [],
   "source": [
    "# gather max horsepower of each STI run\n",
    "max_hp_groupby = pd.DataFrame(sti_runs.groupby('run').hp.max())"
   ]
  },
  {
   "cell_type": "code",
   "execution_count": 7,
   "id": "dc623331",
   "metadata": {},
   "outputs": [],
   "source": [
    "# append max horsepower to the car info dataframe\n",
    "df = pd.merge(left=sti_info, right=max_hp_groupby, left_on='run', right_on='run')"
   ]
  },
  {
   "cell_type": "code",
   "execution_count": 8,
   "id": "a91bfbdb",
   "metadata": {},
   "outputs": [],
   "source": [
    "# shorten the dataframe to our MVP features\n",
    "df = df[['hp','psi','octane']].dropna().astype('float')"
   ]
  },
  {
   "cell_type": "code",
   "execution_count": 9,
   "id": "0a6bbb39",
   "metadata": {},
   "outputs": [],
   "source": [
    "# fix a few values\n",
    "df['psi'] = df.psi / np.where(df.psi > 100, 10, 1)"
   ]
  },
  {
   "cell_type": "markdown",
   "id": "1f20a9b8",
   "metadata": {},
   "source": [
    "Now let's look at some basic visualizations."
   ]
  },
  {
   "cell_type": "code",
   "execution_count": 10,
   "id": "a5602528",
   "metadata": {},
   "outputs": [
    {
     "data": {
      "image/png": "[encoded data removed]",
      "text/plain": [
       "<Figure size 432x288 with 1 Axes>"
      ]
     },
     "metadata": {
      "needs_background": "light"
     },
     "output_type": "display_data"
    },
    {
     "data": {
      "image/png": "[encoded data removed]",
      "text/plain": [
       "<Figure size 432x288 with 1 Axes>"
      ]
     },
     "metadata": {
      "needs_background": "light"
     },
     "output_type": "display_data"
    },
    {
     "data": {
      "image/png": "[encoded data removed]",
      "text/plain": [
       "<Figure size 432x288 with 1 Axes>"
      ]
     },
     "metadata": {
      "needs_background": "light"
     },
     "output_type": "display_data"
    }
   ],
   "source": [
    "for col in df.columns:\n",
    "    plt.hist(df[col])\n",
    "    plt.title('Histogram of ' + col)\n",
    "    plt.show()"
   ]
  },
  {
   "cell_type": "code",
   "execution_count": 11,
   "id": "6c13a6a3",
   "metadata": {},
   "outputs": [
    {
     "data": {
      "text/plain": [
       "<AxesSubplot:>"
      ]
     },
     "execution_count": 11,
     "metadata": {},
     "output_type": "execute_result"
    },
    {
     "data": {
      "image/png": "[encoded data removed]",
      "text/plain": [
       "<Figure size 432x288 with 2 Axes>"
      ]
     },
     "metadata": {
      "needs_background": "light"
     },
     "output_type": "display_data"
    }
   ],
   "source": [
    "# check correlation heatmap\n",
    "sns.heatmap(df.corr(), cmap='Blues', annot=True)"
   ]
  },
  {
   "cell_type": "markdown",
   "id": "c5d50b44",
   "metadata": {},
   "source": [
    "## Does Boost PSI Correlate with Horsepower?\n",
    "- $H_0$: Boost PSI does not correlate with horsepower.\n",
    "- $H_a$: Boost PSI correlates with horsepower.\n",
    "- Confidence Interval: 95%"
   ]
  },
  {
   "cell_type": "code",
   "execution_count": 12,
   "id": "a60cbe7f",
   "metadata": {},
   "outputs": [
    {
     "data": {
      "image/png": "[encoded data removed]",
      "text/plain": [
       "<Figure size 432x288 with 1 Axes>"
      ]
     },
     "metadata": {
      "needs_background": "light"
     },
     "output_type": "display_data"
    },
    {
     "name": "stdout",
     "output_type": "stream",
     "text": [
      "Boost PSI increases as horsepower increases, with 95% confidence.\n",
      "Slope: 0.02737455972138925\n",
      "p-value: 1.4188068603670875e-61\n"
     ]
    }
   ],
   "source": [
    "# check correlation of horsepower and boost PSI\n",
    "sns.regplot(df.hp, df.psi, line_kws={'color':'red'})\n",
    "plt.title('Horsepower and Boost PSI Increase Together')\n",
    "plt.xlabel('Horsepower')\n",
    "plt.ylabel('Boost PSI')\n",
    "plt.show()\n",
    "\n",
    "slope, _, _, p, _ = stats.linregress(df.hp, df.psi)\n",
    "if slope > 0 and p < .05:\n",
    "    print('Boost PSI increases as horsepower increases, with 95% confidence.')\n",
    "elif slope < 0 and p < .05:\n",
    "    print('As boost PSI decreases, horsepower increases, with 95% confidence.')\n",
    "else:\n",
    "    print('Test does not pass 95% confidence interval. Boost PSI and horsepower are not correlated.')\n",
    "    \n",
    "print('Slope:', slope)\n",
    "print('p-value:', p)"
   ]
  },
  {
   "cell_type": "markdown",
   "id": "aa82c911",
   "metadata": {},
   "source": [
    "## Does Fuel Octane Correlate with Horsepower?\n",
    "- $H_0$: Fuel octane does not correlate with horsepower.\n",
    "- $H_a$: Fuel octane correlates with horsepower.\n",
    "- Confidence Interval: 95%"
   ]
  },
  {
   "cell_type": "code",
   "execution_count": 13,
   "id": "a40f6859",
   "metadata": {},
   "outputs": [
    {
     "data": {
      "image/png": "[encoded data removed]",
      "text/plain": [
       "<Figure size 432x288 with 1 Axes>"
      ]
     },
     "metadata": {
      "needs_background": "light"
     },
     "output_type": "display_data"
    },
    {
     "name": "stdout",
     "output_type": "stream",
     "text": [
      "Fuel octane increases as horsepower increases, with 95% confidence.\n",
      "Slope: 0.027471500274934668\n",
      "p-value: 3.774176902578124e-21\n"
     ]
    }
   ],
   "source": [
    "# check correlation of horsepower and fuel octane\n",
    "sns.regplot(df.hp, df.octane, line_kws={'color':'red'})\n",
    "plt.title('Horsepower and Fuel Octane Increase Together')\n",
    "plt.xlabel('Horsepower')\n",
    "plt.ylabel('Fuel Octane')\n",
    "plt.show()\n",
    "\n",
    "slope, _, _, p, _ = stats.linregress(df.hp, df.octane)\n",
    "\n",
    "if slope > 0 and p < .05:\n",
    "    print('Fuel octane increases as horsepower increases, with 95% confidence.')\n",
    "elif slope < 0 and p < .05:\n",
    "    print('As fuel octane decreases, horsepower increases, with 95% confidence.')\n",
    "else:\n",
    "    print('Test does not pass 95% confidence interval. Fuel octane and horsepower are not correlated.')\n",
    "\n",
    "print('Slope:', slope)\n",
    "print('p-value:', p)"
   ]
  },
  {
   "cell_type": "markdown",
   "id": "6b1d1805",
   "metadata": {},
   "source": [
    "## MVP Exploration Takeaways\n",
    "Using only Subaru WRX STI models (consistent stock horsepower of 305), our exploration shows:\n",
    "1. Boost PSI positively correlates with horsepower\n",
    "2. Fuel octane positively correlates with horsepower\n",
    "\n",
    "These two features will be used in our Minimum-Viable Product (MVP) for modeling."
   ]
  },
  {
   "cell_type": "markdown",
   "id": "82d748c0",
   "metadata": {},
   "source": [
    "# Post-MVP Exploration"
   ]
  },
  {
   "cell_type": "code",
   "execution_count": 14,
   "id": "18aac661",
   "metadata": {},
   "outputs": [],
   "source": [
    "info, runs = wrangle.prep_explore()"
   ]
  },
  {
   "cell_type": "code",
   "execution_count": 15,
   "id": "a2dda458",
   "metadata": {},
   "outputs": [
    {
     "data": {
      "text/html": [
       "<div>\n",
       "<style scoped>\n",
       "    .dataframe tbody tr th:only-of-type {\n",
       "        vertical-align: middle;\n",
       "    }\n",
       "\n",
       "    .dataframe tbody tr th {\n",
       "        vertical-align: top;\n",
       "    }\n",
       "\n",
       "    .dataframe thead th {\n",
       "        text-align: right;\n",
       "    }\n",
       "</style>\n",
       "<table border=\"1\" class=\"dataframe\">\n",
       "  <thead>\n",
       "    <tr style=\"text-align: right;\">\n",
       "      <th></th>\n",
       "      <th>run</th>\n",
       "      <th>name</th>\n",
       "      <th>specs</th>\n",
       "      <th>car_make</th>\n",
       "      <th>car_model</th>\n",
       "      <th>stock_hp</th>\n",
       "      <th>psi</th>\n",
       "      <th>octane</th>\n",
       "      <th>tuned_cpu</th>\n",
       "      <th>hp</th>\n",
       "    </tr>\n",
       "  </thead>\n",
       "  <tbody>\n",
       "    <tr>\n",
       "      <th>3263</th>\n",
       "      <td>4208</td>\n",
       "      <td>Ahmed Belazi</td>\n",
       "      <td>COBB Tuning Accessport, COBB Tuning Turboback,...</td>\n",
       "      <td>Subaru</td>\n",
       "      <td>2011 Impreza WRX STI</td>\n",
       "      <td>305</td>\n",
       "      <td>15.0</td>\n",
       "      <td>92</td>\n",
       "      <td>True</td>\n",
       "      <td>296.0</td>\n",
       "    </tr>\n",
       "    <tr>\n",
       "      <th>3271</th>\n",
       "      <td>4261</td>\n",
       "      <td>Sean Kim</td>\n",
       "      <td>COBB Tuning Accessport, Perrin Turbobck, Coswo...</td>\n",
       "      <td>Subaru</td>\n",
       "      <td>2011 Impreza WRX STI</td>\n",
       "      <td>305</td>\n",
       "      <td>19.5</td>\n",
       "      <td>92</td>\n",
       "      <td>True</td>\n",
       "      <td>317.0</td>\n",
       "    </tr>\n",
       "    <tr>\n",
       "      <th>3719</th>\n",
       "      <td>4645</td>\n",
       "      <td>Conrad N</td>\n",
       "      <td>AMS DP, CNT CBE w/ Cat, K&amp;N Intake, AMS FMIC, ...</td>\n",
       "      <td>Mitsubishi</td>\n",
       "      <td>2011 EVO X GSR</td>\n",
       "      <td>291</td>\n",
       "      <td>25.0</td>\n",
       "      <td>92</td>\n",
       "      <td>False</td>\n",
       "      <td>350.0</td>\n",
       "    </tr>\n",
       "  </tbody>\n",
       "</table>\n",
       "</div>"
      ],
      "text/plain": [
       "       run          name                                              specs  \\\n",
       "3263  4208  Ahmed Belazi  COBB Tuning Accessport, COBB Tuning Turboback,...   \n",
       "3271  4261      Sean Kim  COBB Tuning Accessport, Perrin Turbobck, Coswo...   \n",
       "3719  4645      Conrad N  AMS DP, CNT CBE w/ Cat, K&N Intake, AMS FMIC, ...   \n",
       "\n",
       "        car_make             car_model  stock_hp   psi  octane  tuned_cpu  \\\n",
       "3263      Subaru  2011 Impreza WRX STI       305  15.0      92       True   \n",
       "3271      Subaru  2011 Impreza WRX STI       305  19.5      92       True   \n",
       "3719  Mitsubishi        2011 EVO X GSR       291  25.0      92      False   \n",
       "\n",
       "         hp  \n",
       "3263  296.0  \n",
       "3271  317.0  \n",
       "3719  350.0  "
      ]
     },
     "execution_count": 15,
     "metadata": {},
     "output_type": "execute_result"
    }
   ],
   "source": [
    "info.head(3)"
   ]
  },
  {
   "cell_type": "markdown",
   "id": "f80d7982",
   "metadata": {},
   "source": [
    "We will only use WRX STI again to test the tuned_cpu feature. Our new stock_hp feature was created specifically for modeling, so we won't focus on it for exploration."
   ]
  },
  {
   "cell_type": "code",
   "execution_count": 16,
   "id": "fffe44e9",
   "metadata": {},
   "outputs": [
    {
     "data": {
      "text/html": [
       "<div>\n",
       "<style scoped>\n",
       "    .dataframe tbody tr th:only-of-type {\n",
       "        vertical-align: middle;\n",
       "    }\n",
       "\n",
       "    .dataframe tbody tr th {\n",
       "        vertical-align: top;\n",
       "    }\n",
       "\n",
       "    .dataframe thead th {\n",
       "        text-align: right;\n",
       "    }\n",
       "</style>\n",
       "<table border=\"1\" class=\"dataframe\">\n",
       "  <thead>\n",
       "    <tr style=\"text-align: right;\">\n",
       "      <th></th>\n",
       "      <th>run</th>\n",
       "      <th>name</th>\n",
       "      <th>specs</th>\n",
       "      <th>car_make</th>\n",
       "      <th>car_model</th>\n",
       "      <th>stock_hp</th>\n",
       "      <th>psi</th>\n",
       "      <th>octane</th>\n",
       "      <th>tuned_cpu</th>\n",
       "      <th>hp</th>\n",
       "    </tr>\n",
       "  </thead>\n",
       "  <tbody>\n",
       "    <tr>\n",
       "      <th>3263</th>\n",
       "      <td>4208</td>\n",
       "      <td>Ahmed Belazi</td>\n",
       "      <td>COBB Tuning Accessport, COBB Tuning Turboback,...</td>\n",
       "      <td>Subaru</td>\n",
       "      <td>2011 Impreza WRX STI</td>\n",
       "      <td>305</td>\n",
       "      <td>15.0</td>\n",
       "      <td>92</td>\n",
       "      <td>True</td>\n",
       "      <td>296.0</td>\n",
       "    </tr>\n",
       "    <tr>\n",
       "      <th>3271</th>\n",
       "      <td>4261</td>\n",
       "      <td>Sean Kim</td>\n",
       "      <td>COBB Tuning Accessport, Perrin Turbobck, Coswo...</td>\n",
       "      <td>Subaru</td>\n",
       "      <td>2011 Impreza WRX STI</td>\n",
       "      <td>305</td>\n",
       "      <td>19.5</td>\n",
       "      <td>92</td>\n",
       "      <td>True</td>\n",
       "      <td>317.0</td>\n",
       "    </tr>\n",
       "    <tr>\n",
       "      <th>3237</th>\n",
       "      <td>3827</td>\n",
       "      <td>Matt Songer</td>\n",
       "      <td>COBB Tuning AccessPORT, Invidia Catted Downpip...</td>\n",
       "      <td>Subaru</td>\n",
       "      <td>2011 Impreza WRX STI</td>\n",
       "      <td>305</td>\n",
       "      <td>18.0</td>\n",
       "      <td>92</td>\n",
       "      <td>True</td>\n",
       "      <td>277.0</td>\n",
       "    </tr>\n",
       "  </tbody>\n",
       "</table>\n",
       "</div>"
      ],
      "text/plain": [
       "       run          name                                              specs  \\\n",
       "3263  4208  Ahmed Belazi  COBB Tuning Accessport, COBB Tuning Turboback,...   \n",
       "3271  4261      Sean Kim  COBB Tuning Accessport, Perrin Turbobck, Coswo...   \n",
       "3237  3827   Matt Songer  COBB Tuning AccessPORT, Invidia Catted Downpip...   \n",
       "\n",
       "     car_make             car_model  stock_hp   psi  octane  tuned_cpu     hp  \n",
       "3263   Subaru  2011 Impreza WRX STI       305  15.0      92       True  296.0  \n",
       "3271   Subaru  2011 Impreza WRX STI       305  19.5      92       True  317.0  \n",
       "3237   Subaru  2011 Impreza WRX STI       305  18.0      92       True  277.0  "
      ]
     },
     "execution_count": 16,
     "metadata": {},
     "output_type": "execute_result"
    }
   ],
   "source": [
    "# new dataframe for the WRX STI\n",
    "sti_info = info[info.car_model.str.contains('STI')]\n",
    "sti_info.head(3)"
   ]
  },
  {
   "cell_type": "code",
   "execution_count": 17,
   "id": "04979aa5",
   "metadata": {},
   "outputs": [
    {
     "data": {
      "image/png": "[encoded data removed]",
      "text/plain": [
       "<Figure size 432x288 with 1 Axes>"
      ]
     },
     "metadata": {
      "needs_background": "light"
     },
     "output_type": "display_data"
    }
   ],
   "source": [
    "# histogram of tuned_cpu\n",
    "sns.histplot(sti_info['tuned_cpu'].astype('str'))\n",
    "plt.title('Histogram for tuned_cpu Feature')\n",
    "plt.show()"
   ]
  },
  {
   "cell_type": "markdown",
   "id": "efab50b5",
   "metadata": {},
   "source": [
    "## Do Cars with Tuned CPUs Have Higher Horsepower?\n",
    "- $H_0$: Cars with tuned CPUs do not have higher horsepower.\n",
    "- $H_a$: Cars with tuned CPUs have higher horsepower..\n",
    "- Confidence Interval: 95%"
   ]
  },
  {
   "cell_type": "code",
   "execution_count": 18,
   "id": "ad4b92ca",
   "metadata": {},
   "outputs": [
    {
     "name": "stdout",
     "output_type": "stream",
     "text": [
      "Results do not breach 95% confidence interval, cars with tuned CPUs do not have higher horsepower.\n"
     ]
    }
   ],
   "source": [
    "# conduct t-test\n",
    "t, p = stats.mannwhitneyu(sti_info[sti_info.tuned_cpu].hp,\n",
    "                          sti_info[~sti_info.tuned_cpu].hp,\n",
    "                          alternative='greater')\n",
    "\n",
    "if t > 0 and p < .05:\n",
    "    print('Cars with tuned CPUs have higher horsepower, with 95% confidence.')\n",
    "else:\n",
    "    print('Results do not breach 95% confidence interval, cars with tuned CPUs do not have higher horsepower.')"
   ]
  },
  {
   "cell_type": "code",
   "execution_count": 19,
   "id": "900f1ea6",
   "metadata": {},
   "outputs": [
    {
     "data": {
      "image/png": "[encoded data removed]",
      "text/plain": [
       "<Figure size 432x288 with 1 Axes>"
      ]
     },
     "metadata": {
      "needs_background": "light"
     },
     "output_type": "display_data"
    }
   ],
   "source": [
    "# plot bar chart\n",
    "sns.barplot(data=sti_info, x='tuned_cpu', y='hp')\n",
    "plt.title('Cars with Tuned CPUs Do Not Have Higher Horsepower')\n",
    "plt.xlabel('CPU is Tuned')\n",
    "plt.ylabel('Horsepower')\n",
    "plt.show()"
   ]
  },
  {
   "cell_type": "markdown",
   "id": "52234b03",
   "metadata": {},
   "source": [
    "## Post-MVP Exploration Takeaways\n",
    "Our test showed that our feature indicates the opposite of what we expected. The results aren't definitive of CPU-tuning worsening performance, but the results do mean that we should not use this as a feature."
   ]
  },
  {
   "cell_type": "code",
   "execution_count": null,
   "id": "881175f0",
   "metadata": {},
   "outputs": [],
   "source": []
  }
 ],
 "metadata": {
  "kernelspec": {
   "display_name": "Python 3 (ipykernel)",
   "language": "python",
   "name": "python3"
  },
  "language_info": {
   "codemirror_mode": {
    "name": "ipython",
    "version": 3
   },
   "file_extension": ".py",
   "mimetype": "text/x-python",
   "name": "python",
   "nbconvert_exporter": "python",
   "pygments_lexer": "ipython3",
   "version": "3.8.8"
  }
 },
 "nbformat": 4,
 "nbformat_minor": 5
}
