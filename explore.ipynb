{
 "cells": [
  {
   "cell_type": "markdown",
   "id": "a1226a30",
   "metadata": {},
   "source": [
    "# Overview\n",
    "This notebook contains my work for exploring the dyno run data.\n",
    "\n",
    "## Notes\n",
    "For future analysis having a wide variety of 'objects' and modifications with a continuous target:\n",
    "1. If possible, decrease variety of 'objects' for feature engineering and statistical purposes\n",
    "2. If not possible to decrease variety, group instead on similar value for continuous target\n",
    "    * Choose the peak in normal distribution; if not normally distributed, choose the highest point in the distribution\n",
    "3. Create features based on the decreased-variety data\n",
    "4. Make determinations in new features for all observations\n",
    "5. Categorize 'objects' into cluster features using keywords\n",
    "    * EX: A Nissan GT-R often has more than 500 horsepower, make a feature called over_500 which encodes Nissan GT-R as True\n",
    "\n",
    "\n",
    "# Objectives\n",
    "From a practical perspective, this project should do two things:\n",
    "1. Determine which factors increase max horsepower for any given car\n",
    "2. Predict expected horsepower accurately given some information about the car\n",
    "\n",
    "Exploration is done for step 1, we will lay out the plan below.\n",
    "\n",
    "## 1. Determine which factors increase horsepower the most\n",
    "To determine which parts packages and setups increase horsepower overall, we need to do the following things:\n",
    "1. Limit cars to one overall make and model with same horsepower number\n",
    "2. Create new version of car_info df for single make+model+horsepower combination\n",
    "3. Get the stock performance of the single combination\n",
    "4. Create features for parts, fuel, and more based on 'specs' values\n",
    "    * Simplify dyno run data to max horsepower, max torque, and max boost\n",
    "    * Append run's max horsepower, torque, and boost to car_info dataframe\n",
    "    * Append stock max horsepower, torque, and boost to car_info dataframe\n",
    "5. Use correlation heatmap to visually identify drivers\n",
    "\n",
    "# Imports"
   ]
  },
  {
   "cell_type": "code",
   "execution_count": 1,
   "id": "faa78e99",
   "metadata": {},
   "outputs": [],
   "source": [
    "import warnings\n",
    "warnings.filterwarnings('ignore')\n",
    "\n",
    "import numpy as np\n",
    "import pandas as pd\n",
    "import matplotlib.pyplot as plt\n",
    "import seaborn as sns\n",
    "from scipy import stats\n",
    "\n",
    "import wrangle\n",
    "import explore"
   ]
  },
  {
   "cell_type": "code",
   "execution_count": 2,
   "id": "0ab70130",
   "metadata": {},
   "outputs": [
    {
     "data": {
      "text/plain": [
       "((2244, 8), (920014, 5))"
      ]
     },
     "execution_count": 2,
     "metadata": {},
     "output_type": "execute_result"
    }
   ],
   "source": [
    "info, runs = wrangle.prep_explore()\n",
    "info.shape, runs.shape"
   ]
  },
  {
   "cell_type": "code",
   "execution_count": 3,
   "id": "a68417c2",
   "metadata": {},
   "outputs": [
    {
     "data": {
      "text/plain": [
       "2005 Impreza WRX STI    126\n",
       "2011 Impreza WRX STI    113\n",
       "2008 Impreza WRX STI    104\n",
       "2006 Impreza WRX STI    103\n",
       "2002 Impreza WRX         87\n",
       "2009 GT-R                84\n",
       "2008 EVO X GSR           79\n",
       "2009 Impreza WRX         77\n",
       "2007 Impreza WRX STI     76\n",
       "2004 Impreza WRX         72\n",
       "2004 Impreza WRX STI     67\n",
       "2011 Impreza WRX         66\n",
       "2006 Impreza WRX         51\n",
       "2010 Impreza WRX STI     44\n",
       "2005 Impreza WRX         40\n",
       "2003 Impreza WRX         40\n",
       "2010 Impreza WRX         36\n",
       "2007 Impreza WRX         32\n",
       "2013 Impreza WRX STI     29\n",
       "2012 Impreza WRX STI     28\n",
       "2013 Impreza WRX         27\n",
       "2008 Impreza WRX         27\n",
       "2011 EVO X GSR           26\n",
       "2010 EVO X GSR           26\n",
       "2008 EVO X MR            26\n",
       "Name: car_model, dtype: int64"
      ]
     },
     "execution_count": 3,
     "metadata": {},
     "output_type": "execute_result"
    }
   ],
   "source": [
    "# check for most numerous make+model\n",
    "info.car_model.value_counts().head(25)"
   ]
  },
  {
   "cell_type": "markdown",
   "id": "a04b1c00",
   "metadata": {},
   "source": [
    "Based on these numbers, we're going with the **WRX STI** as our single make+model, which has 300 - 305 horsepower stock. We will stick with **305 BHP** as our baseline."
   ]
  },
  {
   "cell_type": "code",
   "execution_count": 4,
   "id": "cc792873",
   "metadata": {},
   "outputs": [
    {
     "data": {
      "text/html": [
       "<div>\n",
       "<style scoped>\n",
       "    .dataframe tbody tr th:only-of-type {\n",
       "        vertical-align: middle;\n",
       "    }\n",
       "\n",
       "    .dataframe tbody tr th {\n",
       "        vertical-align: top;\n",
       "    }\n",
       "\n",
       "    .dataframe thead th {\n",
       "        text-align: right;\n",
       "    }\n",
       "</style>\n",
       "<table border=\"1\" class=\"dataframe\">\n",
       "  <thead>\n",
       "    <tr style=\"text-align: right;\">\n",
       "      <th></th>\n",
       "      <th>run</th>\n",
       "      <th>name</th>\n",
       "      <th>specs</th>\n",
       "      <th>car_make</th>\n",
       "      <th>car_model</th>\n",
       "      <th>has_keyword</th>\n",
       "      <th>psi</th>\n",
       "      <th>octane</th>\n",
       "    </tr>\n",
       "  </thead>\n",
       "  <tbody>\n",
       "    <tr>\n",
       "      <th>1583</th>\n",
       "      <td>2002</td>\n",
       "      <td>Geoffrey Rollwitz</td>\n",
       "      <td>Stage2 93 octane - AEM CAI, Invidia Catless TB...</td>\n",
       "      <td>Subaru</td>\n",
       "      <td>2008 Impreza WRX STI</td>\n",
       "      <td>False</td>\n",
       "      <td>17</td>\n",
       "      <td>93</td>\n",
       "    </tr>\n",
       "    <tr>\n",
       "      <th>118</th>\n",
       "      <td>186</td>\n",
       "      <td>Trevor Ott</td>\n",
       "      <td>20G, Full Race Header, 92 Octane</td>\n",
       "      <td>Subaru</td>\n",
       "      <td>2008 Impreza WRX STI</td>\n",
       "      <td>False</td>\n",
       "      <td>NaN</td>\n",
       "      <td>92</td>\n",
       "    </tr>\n",
       "    <tr>\n",
       "      <th>1744</th>\n",
       "      <td>2198</td>\n",
       "      <td>Brian Baker</td>\n",
       "      <td>20G-XT 20psi 93 Octane Sport#</td>\n",
       "      <td>Subaru</td>\n",
       "      <td>2011 Impreza WRX STI</td>\n",
       "      <td>False</td>\n",
       "      <td>20</td>\n",
       "      <td>93</td>\n",
       "    </tr>\n",
       "    <tr>\n",
       "      <th>2922</th>\n",
       "      <td>3667</td>\n",
       "      <td>Andrew Pearson</td>\n",
       "      <td>91OCT 18.5 psi Godspeed catless DP Invidia G20...</td>\n",
       "      <td>Subaru</td>\n",
       "      <td>2004 Impreza WRX STI</td>\n",
       "      <td>False</td>\n",
       "      <td>18.5</td>\n",
       "      <td>91</td>\n",
       "    </tr>\n",
       "    <tr>\n",
       "      <th>3873</th>\n",
       "      <td>4797</td>\n",
       "      <td>Sous Vorana</td>\n",
       "      <td>COBB Tuning Accessport, 3\" Turboback Exhaust, ...</td>\n",
       "      <td>Subaru</td>\n",
       "      <td>2013 Impreza WRX STI</td>\n",
       "      <td>False</td>\n",
       "      <td>13</td>\n",
       "      <td>92</td>\n",
       "    </tr>\n",
       "    <tr>\n",
       "      <th>...</th>\n",
       "      <td>...</td>\n",
       "      <td>...</td>\n",
       "      <td>...</td>\n",
       "      <td>...</td>\n",
       "      <td>...</td>\n",
       "      <td>...</td>\n",
       "      <td>...</td>\n",
       "      <td>...</td>\n",
       "    </tr>\n",
       "    <tr>\n",
       "      <th>548</th>\n",
       "      <td>764</td>\n",
       "      <td>David Olson</td>\n",
       "      <td>COBB Tuning AccessPORT, Turboback Exhaust, COB...</td>\n",
       "      <td>Subaru</td>\n",
       "      <td>2005 Impreza WRX STI</td>\n",
       "      <td>False</td>\n",
       "      <td>18</td>\n",
       "      <td>92</td>\n",
       "    </tr>\n",
       "    <tr>\n",
       "      <th>1029</th>\n",
       "      <td>1334</td>\n",
       "      <td>Taison Kane</td>\n",
       "      <td>COBB Tuning AccessPORT, DOM 3.0 XTR, AVO TMIC,...</td>\n",
       "      <td>Subaru</td>\n",
       "      <td>2008 Impreza WRX STI</td>\n",
       "      <td>False</td>\n",
       "      <td>17</td>\n",
       "      <td>92</td>\n",
       "    </tr>\n",
       "    <tr>\n",
       "      <th>1408</th>\n",
       "      <td>1810</td>\n",
       "      <td>Brant Proden</td>\n",
       "      <td>COBB Tuning AccessPORT, COBB Tuning SF Intake/...</td>\n",
       "      <td>Subaru</td>\n",
       "      <td>2011 Impreza WRX STI</td>\n",
       "      <td>False</td>\n",
       "      <td>19</td>\n",
       "      <td>92</td>\n",
       "    </tr>\n",
       "    <tr>\n",
       "      <th>1179</th>\n",
       "      <td>1537</td>\n",
       "      <td>Stephen Duering</td>\n",
       "      <td>Pump Gas - 17psi, Stock Turbo, COBB DP, Stock ...</td>\n",
       "      <td>Subaru</td>\n",
       "      <td>2010 Impreza WRX STI</td>\n",
       "      <td>False</td>\n",
       "      <td>17</td>\n",
       "      <td>NaN</td>\n",
       "    </tr>\n",
       "    <tr>\n",
       "      <th>2133</th>\n",
       "      <td>2652</td>\n",
       "      <td>David Liu</td>\n",
       "      <td>MAF - Economy</td>\n",
       "      <td>Subaru</td>\n",
       "      <td>2008 Impreza WRX STI</td>\n",
       "      <td>False</td>\n",
       "      <td>NaN</td>\n",
       "      <td>NaN</td>\n",
       "    </tr>\n",
       "  </tbody>\n",
       "</table>\n",
       "<p>789 rows × 8 columns</p>\n",
       "</div>"
      ],
      "text/plain": [
       "       run               name  \\\n",
       "1583  2002  Geoffrey Rollwitz   \n",
       "118    186         Trevor Ott   \n",
       "1744  2198        Brian Baker   \n",
       "2922  3667     Andrew Pearson   \n",
       "3873  4797        Sous Vorana   \n",
       "...    ...                ...   \n",
       "548    764        David Olson   \n",
       "1029  1334        Taison Kane   \n",
       "1408  1810       Brant Proden   \n",
       "1179  1537    Stephen Duering   \n",
       "2133  2652          David Liu   \n",
       "\n",
       "                                                  specs car_make  \\\n",
       "1583  Stage2 93 octane - AEM CAI, Invidia Catless TB...   Subaru   \n",
       "118                    20G, Full Race Header, 92 Octane   Subaru   \n",
       "1744                      20G-XT 20psi 93 Octane Sport#   Subaru   \n",
       "2922  91OCT 18.5 psi Godspeed catless DP Invidia G20...   Subaru   \n",
       "3873  COBB Tuning Accessport, 3\" Turboback Exhaust, ...   Subaru   \n",
       "...                                                 ...      ...   \n",
       "548   COBB Tuning AccessPORT, Turboback Exhaust, COB...   Subaru   \n",
       "1029  COBB Tuning AccessPORT, DOM 3.0 XTR, AVO TMIC,...   Subaru   \n",
       "1408  COBB Tuning AccessPORT, COBB Tuning SF Intake/...   Subaru   \n",
       "1179  Pump Gas - 17psi, Stock Turbo, COBB DP, Stock ...   Subaru   \n",
       "2133                                      MAF - Economy   Subaru   \n",
       "\n",
       "                 car_model  has_keyword   psi octane  \n",
       "1583  2008 Impreza WRX STI        False    17     93  \n",
       "118   2008 Impreza WRX STI        False   NaN     92  \n",
       "1744  2011 Impreza WRX STI        False    20     93  \n",
       "2922  2004 Impreza WRX STI        False  18.5     91  \n",
       "3873  2013 Impreza WRX STI        False    13     92  \n",
       "...                    ...          ...   ...    ...  \n",
       "548   2005 Impreza WRX STI        False    18     92  \n",
       "1029  2008 Impreza WRX STI        False    17     92  \n",
       "1408  2011 Impreza WRX STI        False    19     92  \n",
       "1179  2010 Impreza WRX STI        False    17    NaN  \n",
       "2133  2008 Impreza WRX STI        False   NaN    NaN  \n",
       "\n",
       "[789 rows x 8 columns]"
      ]
     },
     "execution_count": 4,
     "metadata": {},
     "output_type": "execute_result"
    }
   ],
   "source": [
    "# new dataframe for the WRX STI\n",
    "sti_info = info[info.car_model.str.contains('STI')]\n",
    "sti_info"
   ]
  },
  {
   "cell_type": "code",
   "execution_count": 5,
   "id": "36b01449",
   "metadata": {
    "scrolled": true
   },
   "outputs": [
    {
     "data": {
      "text/html": [
       "<div>\n",
       "<style scoped>\n",
       "    .dataframe tbody tr th:only-of-type {\n",
       "        vertical-align: middle;\n",
       "    }\n",
       "\n",
       "    .dataframe tbody tr th {\n",
       "        vertical-align: top;\n",
       "    }\n",
       "\n",
       "    .dataframe thead th {\n",
       "        text-align: right;\n",
       "    }\n",
       "</style>\n",
       "<table border=\"1\" class=\"dataframe\">\n",
       "  <thead>\n",
       "    <tr style=\"text-align: right;\">\n",
       "      <th></th>\n",
       "      <th>run</th>\n",
       "      <th>rpm</th>\n",
       "      <th>hp</th>\n",
       "      <th>torque</th>\n",
       "      <th>boost</th>\n",
       "    </tr>\n",
       "  </thead>\n",
       "  <tbody>\n",
       "    <tr>\n",
       "      <th>18974</th>\n",
       "      <td>64</td>\n",
       "      <td>2500.0</td>\n",
       "      <td>74.0</td>\n",
       "      <td>156.0</td>\n",
       "      <td>4.2</td>\n",
       "    </tr>\n",
       "    <tr>\n",
       "      <th>18975</th>\n",
       "      <td>64</td>\n",
       "      <td>2510.0</td>\n",
       "      <td>75.0</td>\n",
       "      <td>159.0</td>\n",
       "      <td>4.2</td>\n",
       "    </tr>\n",
       "    <tr>\n",
       "      <th>18976</th>\n",
       "      <td>64</td>\n",
       "      <td>2520.0</td>\n",
       "      <td>77.0</td>\n",
       "      <td>161.0</td>\n",
       "      <td>4.3</td>\n",
       "    </tr>\n",
       "  </tbody>\n",
       "</table>\n",
       "</div>"
      ],
      "text/plain": [
       "       run     rpm    hp  torque  boost\n",
       "18974   64  2500.0  74.0   156.0    4.2\n",
       "18975   64  2510.0  75.0   159.0    4.2\n",
       "18976   64  2520.0  77.0   161.0    4.3"
      ]
     },
     "execution_count": 5,
     "metadata": {},
     "output_type": "execute_result"
    }
   ],
   "source": [
    "# limit dyno_runs to the WRX STI runs as well\n",
    "sti_runs = runs[runs.run.isin(sti_info.run)]\n",
    "sti_runs.head(3)"
   ]
  },
  {
   "cell_type": "markdown",
   "id": "9722a0f8",
   "metadata": {},
   "source": [
    "# MVP Exploration\n",
    "Let's gather the max horsepower stats of each run and append the results to our car info dataframe."
   ]
  },
  {
   "cell_type": "code",
   "execution_count": 6,
   "id": "6d490934",
   "metadata": {},
   "outputs": [],
   "source": [
    "# gather max horsepower of each STI run\n",
    "max_hp_groupby = pd.DataFrame(sti_runs.groupby('run').hp.max())"
   ]
  },
  {
   "cell_type": "code",
   "execution_count": 7,
   "id": "ee7e877f",
   "metadata": {},
   "outputs": [],
   "source": [
    "# append max horsepower to the car info dataframe\n",
    "df = pd.merge(left=sti_info, right=max_hp_groupby, left_on='run', right_on='run')"
   ]
  },
  {
   "cell_type": "code",
   "execution_count": 8,
   "id": "175ecf84",
   "metadata": {},
   "outputs": [],
   "source": [
    "# shorten the dataframe to our MVP features\n",
    "df = df[['hp','psi','octane']].dropna().astype('float')"
   ]
  },
  {
   "cell_type": "code",
   "execution_count": 9,
   "id": "af7727a9",
   "metadata": {},
   "outputs": [],
   "source": [
    "# fix a few values\n",
    "df['psi'] = df.psi / np.where(df.psi > 100, 10, 1)"
   ]
  },
  {
   "cell_type": "markdown",
   "id": "d8e95ec8",
   "metadata": {},
   "source": [
    "Now let's look at some basic visualizations."
   ]
  },
  {
   "cell_type": "code",
   "execution_count": 10,
   "id": "3acc31e5",
   "metadata": {},
   "outputs": [
    {
     "data": {
      "image/png": "[encoded data removed]",
      "text/plain": [
       "<Figure size 432x288 with 1 Axes>"
      ]
     },
     "metadata": {
      "needs_background": "light"
     },
     "output_type": "display_data"
    },
    {
     "data": {
      "image/png": "[encoded data removed]",
      "text/plain": [
       "<Figure size 432x288 with 1 Axes>"
      ]
     },
     "metadata": {
      "needs_background": "light"
     },
     "output_type": "display_data"
    },
    {
     "data": {
      "image/png": "[encoded data removed]",
      "text/plain": [
       "<Figure size 432x288 with 1 Axes>"
      ]
     },
     "metadata": {
      "needs_background": "light"
     },
     "output_type": "display_data"
    }
   ],
   "source": [
    "for col in df.columns:\n",
    "    plt.hist(df[col])\n",
    "    plt.title('Histogram of ' + col)\n",
    "    plt.show()"
   ]
  },
  {
   "cell_type": "code",
   "execution_count": 11,
   "id": "400fe05d",
   "metadata": {},
   "outputs": [
    {
     "data": {
      "text/plain": [
       "<AxesSubplot:>"
      ]
     },
     "execution_count": 11,
     "metadata": {},
     "output_type": "execute_result"
    },
    {
     "data": {
      "image/png": "[encoded data removed]",
      "text/plain": [
       "<Figure size 432x288 with 2 Axes>"
      ]
     },
     "metadata": {
      "needs_background": "light"
     },
     "output_type": "display_data"
    }
   ],
   "source": [
    "# check correlation heatmap\n",
    "sns.heatmap(df.corr(), cmap='Blues', annot=True)"
   ]
  },
  {
   "cell_type": "markdown",
   "id": "92cdf423",
   "metadata": {},
   "source": [
    "## Does Boost PSI Correlate with Horsepower?\n",
    "- $H_0$: Boost PSI does not correlate with horsepower.\n",
    "- $H_a$: Boost PSI correlates with horsepower.\n",
    "- Confidence Interval: 95%"
   ]
  },
  {
   "cell_type": "code",
   "execution_count": 12,
   "id": "fb2cd48c",
   "metadata": {},
   "outputs": [
    {
     "data": {
      "image/png": "[encoded data removed]",
      "text/plain": [
       "<Figure size 432x288 with 1 Axes>"
      ]
     },
     "metadata": {
      "needs_background": "light"
     },
     "output_type": "display_data"
    },
    {
     "name": "stdout",
     "output_type": "stream",
     "text": [
      "Boost PSI increases as horsepower increases, with 95% confidence.\n",
      "Slope: 0.02307547935561363\n",
      "p-value: 4.200788410397069e-42\n"
     ]
    }
   ],
   "source": [
    "# check correlation of horsepower and boost PSI\n",
    "sns.regplot(df.hp, df.psi, line_kws={'color':'red'})\n",
    "plt.title('Horsepower and Boost PSI Increase Together')\n",
    "plt.xlabel('Horsepower')\n",
    "plt.ylabel('Boost PSI')\n",
    "plt.show()\n",
    "\n",
    "slope, _, _, p, _ = stats.linregress(df.hp, df.psi)\n",
    "if slope > 0 and p < .05:\n",
    "    print('Boost PSI increases as horsepower increases, with 95% confidence.')\n",
    "elif slope < 0 and p < .05:\n",
    "    print('As boost PSI decreases, horsepower increases, with 95% confidence.')\n",
    "else:\n",
    "    print('Test does not pass 95% confidence interval. Boost PSI and horsepower are not correlated.')\n",
    "    \n",
    "print('Slope:', slope)\n",
    "print('p-value:', p)"
   ]
  },
  {
   "cell_type": "markdown",
   "id": "231d15b2",
   "metadata": {},
   "source": [
    "## Does Fuel Octane Correlate with Horsepower?\n",
    "- $H_0$: Fuel octane does not correlate with horsepower.\n",
    "- $H_a$: Fuel octane correlates with horsepower.\n",
    "- Confidence Interval: 95%"
   ]
  },
  {
   "cell_type": "code",
   "execution_count": 13,
   "id": "0d334872",
   "metadata": {},
   "outputs": [
    {
     "data": {
      "image/png": "[encoded data removed]",
      "text/plain": [
       "<Figure size 432x288 with 1 Axes>"
      ]
     },
     "metadata": {
      "needs_background": "light"
     },
     "output_type": "display_data"
    },
    {
     "name": "stdout",
     "output_type": "stream",
     "text": [
      "Fuel octane increases as horsepower increases, with 95% confidence.\n",
      "Slope: 0.0302203459628708\n",
      "p-value: 1.0453632347455427e-23\n"
     ]
    }
   ],
   "source": [
    "# check correlation of horsepower and fuel octane\n",
    "sns.regplot(df.hp, df.octane, line_kws={'color':'red'})\n",
    "plt.title('Horsepower and Fuel Octane Increase Together')\n",
    "plt.xlabel('Horsepower')\n",
    "plt.ylabel('Fuel Octane')\n",
    "plt.show()\n",
    "\n",
    "slope, _, _, p, _ = stats.linregress(df.hp, df.octane)\n",
    "\n",
    "if slope > 0 and p < .05:\n",
    "    print('Fuel octane increases as horsepower increases, with 95% confidence.')\n",
    "elif slope < 0 and p < .05:\n",
    "    print('As fuel octane decreases, horsepower increases, with 95% confidence.')\n",
    "else:\n",
    "    print('Test does not pass 95% confidence interval. Fuel octane and horsepower are not correlated.')\n",
    "\n",
    "print('Slope:', slope)\n",
    "print('p-value:', p)"
   ]
  },
  {
   "cell_type": "markdown",
   "id": "7e0573a8",
   "metadata": {},
   "source": [
    "## MVP Exploration Takeaways\n",
    "Using only Subaru WRX STI models (consistent stock horsepower of 305), our exploration shows:\n",
    "1. Boost PSI positively correlates with horsepower\n",
    "2. Fuel octane positively correlates with horsepower\n",
    "\n",
    "These two features will be used in our Minimum-Viable Product (MVP) for modeling."
   ]
  },
  {
   "cell_type": "code",
   "execution_count": null,
   "id": "a2e0afdf",
   "metadata": {},
   "outputs": [],
   "source": []
  }
 ],
 "metadata": {
  "kernelspec": {
   "display_name": "Python 3 (ipykernel)",
   "language": "python",
   "name": "python3"
  },
  "language_info": {
   "codemirror_mode": {
    "name": "ipython",
    "version": 3
   },
   "file_extension": ".py",
   "mimetype": "text/x-python",
   "name": "python",
   "nbconvert_exporter": "python",
   "pygments_lexer": "ipython3",
   "version": "3.8.8"
  }
 },
 "nbformat": 4,
 "nbformat_minor": 5
}
