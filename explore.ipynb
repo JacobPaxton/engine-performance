{
 "cells": [
  {
   "cell_type": "markdown",
   "id": "76a4c217",
   "metadata": {},
   "source": [
    "# Overview\n",
    "This notebook contains my work for exploring the dyno run data.\n",
    "\n",
    "# Objectives\n",
    "From a practical perspective, this project should do two things:\n",
    "1. Determine which factors increase max horsepower for any given car\n",
    "2. Predict expected horsepower accurately given some information about the car\n",
    "\n",
    "## 1. Determine which factors increase horsepower the most for any given car\n",
    "To determine which parts packages and setups increase horsepower overall, we need to do the following things:\n",
    "1. Get the stock performance of all cars in the dataset\n",
    "    * May need to source this information from outside resources\n",
    "2. Add stock performance and run performance aggregates to car_info\n",
    "    * Simplify dyno run data to max horsepower, max torque, and max boost\n",
    "    * Append run's max horsepower, torque, and boost to car_info dataframe\n",
    "    * Append stock max horsepower, torque, and boost to car_info dataframe\n",
    "3. Create features for parts, fuel, and more based on 'specs' values\n",
    "4. Use correlation heatmap to visually identify drivers\n",
    "\n",
    "## 2. Predict expected horsepower accurately given some information about the car\n",
    "Once we've identified features that drive horsepower, we will build regression models to predict the max horsepower and incorporate our best model in a horsepower calculator.\n",
    "1. Isolate target column max_hp\n",
    "2. Scale and encode features\n",
    "3. Get baseline RMSE and R2\n",
    "4. Build models using scaled and encoded data\n",
    "5. Evaluate RMSE and R2 for each model on validate\n",
    "    * Show results in a plot\n",
    "6. Choose best-performing algorithm and hyperparameters\n",
    "7. Evaluate RMSE and R2 for best model on test\n",
    "8. Build horsepower calculator using best model\n",
    "\n",
    "# Imports"
   ]
  },
  {
   "cell_type": "code",
   "execution_count": 1,
   "id": "09a5794a",
   "metadata": {},
   "outputs": [],
   "source": [
    "import pandas as pd"
   ]
  },
  {
   "cell_type": "code",
   "execution_count": null,
   "id": "8b8b9e96",
   "metadata": {},
   "outputs": [],
   "source": []
  }
 ],
 "metadata": {
  "kernelspec": {
   "display_name": "Python 3 (ipykernel)",
   "language": "python",
   "name": "python3"
  },
  "language_info": {
   "codemirror_mode": {
    "name": "ipython",
    "version": 3
   },
   "file_extension": ".py",
   "mimetype": "text/x-python",
   "name": "python",
   "nbconvert_exporter": "python",
   "pygments_lexer": "ipython3",
   "version": "3.8.8"
  }
 },
 "nbformat": 4,
 "nbformat_minor": 5
}
