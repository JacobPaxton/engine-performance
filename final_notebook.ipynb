{
 "cells": [
  {
   "cell_type": "markdown",
   "id": "18cc0943",
   "metadata": {},
   "source": [
    "# Overview\n",
    "**This project intended to predict max horsepower using different characteristics about a vehicle.** I first scraped COBB Tuning's public dyno results database for dyno runs and information about the car being run. I organized this scraped data and uploaded it to Kaggle for public use, then I analyzed it using regression techniques. Using keyword features built from the column describing the car, I created and fit many models and outperformed the mean baseline by a significant margin.\n",
    "\n",
    "# Findings\n",
    "## 1. As boost PSI is increased, max horsepower increases.\n",
    "## 2. As fuel octane is increased, max horsepower increases.\n",
    "## 3. Including the stock hosepower as a feature dramatically increases model performance.\n",
    "The dataset includes various cars with different stock horsepower. Cars have varying performance at stock and that needs to be controlled-for in our model.\n",
    "## 4. For unknown reasons, cars with engine computer tuning do not have higher horsepower than cars without it.\n",
    "\n",
    "# Imports"
   ]
  },
  {
   "cell_type": "code",
   "execution_count": 1,
   "id": "f43d21f3",
   "metadata": {},
   "outputs": [],
   "source": [
    "import warnings\n",
    "warnings.filterwarnings('ignore')\n",
    "\n",
    "import numpy as np\n",
    "import pandas as pd\n",
    "import matplotlib.pyplot as plt\n",
    "import seaborn as sns\n",
    "from scipy import stats\n",
    "\n",
    "from sklearn.metrics import mean_squared_error, r2_score\n",
    "from sklearn.linear_model import LinearRegression\n",
    "from sklearn.preprocessing import PolynomialFeatures\n",
    "\n",
    "import wrangle\n",
    "import model"
   ]
  },
  {
   "cell_type": "markdown",
   "id": "7e004854",
   "metadata": {},
   "source": [
    "# Wrangle\n",
    "## My Work - Bottom Line Up Front\n",
    "1. Scraped data from the database located at dyno.cobbtuning.com\n",
    "2. Organized the data into two files using Python/Pandas\n",
    "3. Uploaded both files here: https://www.kaggle.com/paxtonjacob/cobb-tuning-dyno-data\n",
    "4. Split the year-make-model column in car_info.csv into three columns using Regular Expressions (REGEX)\n",
    "5. Drop rows with null RPM values or null Boost values in dyno_runs.csv\n",
    "    * Dropped the AFR column entirely but kept Boost as a column based on project needs\n",
    "6. Created 'psi' and 'octane' features using REGEX in car_info\n",
    "7. Imputed nulls in car_info 'psi' using the max values in dyno_runs 'Boost' for each run\n",
    "8. Filled nulls in car_info 'octane' using the most common octane value (92)\n",
    "9. Created new column for each car_info for the max horsepower in each dyno_runs run\n",
    "10. Created new column for each car_info 'car_model' stock horsepower\n",
    "11. Created 'tuned_cpu' feature based on keywords and domain knowledge\n",
    "12. Split the data into train (50% of observations), validate (30%), and test (20%) for exploration\n",
    "13. Further prepared the data for modeling by isolating the target from the features and scaling features\n",
    "\n",
    "## Implementation"
   ]
  },
  {
   "cell_type": "code",
   "execution_count": 2,
   "id": "6db502f0",
   "metadata": {},
   "outputs": [],
   "source": [
    "# acquire, wrangle data for exploration\n",
    "info_train, runs_train = wrangle.prep_explore()"
   ]
  },
  {
   "cell_type": "markdown",
   "id": "ba023a8a",
   "metadata": {},
   "source": [
    "# Explore\n",
    "## My Work - Bottom Line Up Front\n",
    "1. Limited the data to a single make and model with consistent stock horsepower (Subaru WRX STI, most common make and model in our dataset)\n",
    "2. Plotted histograms for our features\n",
    "3. Plotted correlation heatmap for our features\n",
    "4. Conducted statistical testing to verify our features for modeling\n",
    "    * Correlation test for boost PSI and max horsepower\n",
    "    * Correlation test for fuel octane and max horsepower\n",
    "    * T-test to compare cars with tuned CPUs and cars without tuned CPUs in terms of max horsepower\n",
    "5. Eliminated our tuned_cpus feature because it did not pass our confidence interval\n",
    "6. Kept boost PSI and fuel octane as features because they were significantly correlated with max horsepower\n",
    "\n",
    "## Implementation\n",
    "**1. Limited the data to a single make and model with consistent stock horsepower (Subaru WRX STI, most common make and model in our dataset)**"
   ]
  },
  {
   "cell_type": "code",
   "execution_count": 3,
   "id": "471a8353",
   "metadata": {},
   "outputs": [
    {
     "data": {
      "text/html": [
       "<div>\n",
       "<style scoped>\n",
       "    .dataframe tbody tr th:only-of-type {\n",
       "        vertical-align: middle;\n",
       "    }\n",
       "\n",
       "    .dataframe tbody tr th {\n",
       "        vertical-align: top;\n",
       "    }\n",
       "\n",
       "    .dataframe thead th {\n",
       "        text-align: right;\n",
       "    }\n",
       "</style>\n",
       "<table border=\"1\" class=\"dataframe\">\n",
       "  <thead>\n",
       "    <tr style=\"text-align: right;\">\n",
       "      <th></th>\n",
       "      <th>run</th>\n",
       "      <th>name</th>\n",
       "      <th>specs</th>\n",
       "      <th>car_make</th>\n",
       "      <th>car_model</th>\n",
       "      <th>stock_hp</th>\n",
       "      <th>psi</th>\n",
       "      <th>octane</th>\n",
       "      <th>tuned_cpu</th>\n",
       "      <th>hp</th>\n",
       "    </tr>\n",
       "  </thead>\n",
       "  <tbody>\n",
       "    <tr>\n",
       "      <th>3263</th>\n",
       "      <td>4208</td>\n",
       "      <td>Ahmed Belazi</td>\n",
       "      <td>COBB Tuning Accessport, COBB Tuning Turboback,...</td>\n",
       "      <td>Subaru</td>\n",
       "      <td>2011 Impreza WRX STI</td>\n",
       "      <td>305</td>\n",
       "      <td>15.0</td>\n",
       "      <td>92</td>\n",
       "      <td>True</td>\n",
       "      <td>296.0</td>\n",
       "    </tr>\n",
       "    <tr>\n",
       "      <th>3271</th>\n",
       "      <td>4261</td>\n",
       "      <td>Sean Kim</td>\n",
       "      <td>COBB Tuning Accessport, Perrin Turbobck, Coswo...</td>\n",
       "      <td>Subaru</td>\n",
       "      <td>2011 Impreza WRX STI</td>\n",
       "      <td>305</td>\n",
       "      <td>19.5</td>\n",
       "      <td>92</td>\n",
       "      <td>True</td>\n",
       "      <td>317.0</td>\n",
       "    </tr>\n",
       "    <tr>\n",
       "      <th>3237</th>\n",
       "      <td>3827</td>\n",
       "      <td>Matt Songer</td>\n",
       "      <td>COBB Tuning AccessPORT, Invidia Catted Downpip...</td>\n",
       "      <td>Subaru</td>\n",
       "      <td>2011 Impreza WRX STI</td>\n",
       "      <td>305</td>\n",
       "      <td>18.0</td>\n",
       "      <td>92</td>\n",
       "      <td>True</td>\n",
       "      <td>277.0</td>\n",
       "    </tr>\n",
       "    <tr>\n",
       "      <th>3541</th>\n",
       "      <td>2703</td>\n",
       "      <td>COBB Tuning</td>\n",
       "      <td>MAF - Sport</td>\n",
       "      <td>Subaru</td>\n",
       "      <td>2011 Impreza WRX STI Hatch</td>\n",
       "      <td>305</td>\n",
       "      <td>15.0</td>\n",
       "      <td>92</td>\n",
       "      <td>False</td>\n",
       "      <td>262.0</td>\n",
       "    </tr>\n",
       "    <tr>\n",
       "      <th>4010</th>\n",
       "      <td>4940</td>\n",
       "      <td>Ho Joon Lee</td>\n",
       "      <td>COBB Tuning Accessport, Nameless TBE, Tial 38m...</td>\n",
       "      <td>Subaru</td>\n",
       "      <td>2013 Impreza WRX STI</td>\n",
       "      <td>305</td>\n",
       "      <td>15.0</td>\n",
       "      <td>92</td>\n",
       "      <td>True</td>\n",
       "      <td>49.0</td>\n",
       "    </tr>\n",
       "  </tbody>\n",
       "</table>\n",
       "</div>"
      ],
      "text/plain": [
       "       run          name                                              specs  \\\n",
       "3263  4208  Ahmed Belazi  COBB Tuning Accessport, COBB Tuning Turboback,...   \n",
       "3271  4261      Sean Kim  COBB Tuning Accessport, Perrin Turbobck, Coswo...   \n",
       "3237  3827   Matt Songer  COBB Tuning AccessPORT, Invidia Catted Downpip...   \n",
       "3541  2703   COBB Tuning                                        MAF - Sport   \n",
       "4010  4940   Ho Joon Lee  COBB Tuning Accessport, Nameless TBE, Tial 38m...   \n",
       "\n",
       "     car_make                   car_model  stock_hp   psi  octane  tuned_cpu  \\\n",
       "3263   Subaru        2011 Impreza WRX STI       305  15.0      92       True   \n",
       "3271   Subaru        2011 Impreza WRX STI       305  19.5      92       True   \n",
       "3237   Subaru        2011 Impreza WRX STI       305  18.0      92       True   \n",
       "3541   Subaru  2011 Impreza WRX STI Hatch       305  15.0      92      False   \n",
       "4010   Subaru        2013 Impreza WRX STI       305  15.0      92       True   \n",
       "\n",
       "         hp  \n",
       "3263  296.0  \n",
       "3271  317.0  \n",
       "3237  277.0  \n",
       "3541  262.0  \n",
       "4010   49.0  "
      ]
     },
     "execution_count": 3,
     "metadata": {},
     "output_type": "execute_result"
    }
   ],
   "source": [
    "# limit data to WRX STI\n",
    "sti_info = info_train[info_train.car_model.str.contains('STI')]\n",
    "# check work\n",
    "sti_info.head()"
   ]
  },
  {
   "cell_type": "markdown",
   "id": "83e48117",
   "metadata": {},
   "source": [
    "**2. Plotted histograms for our features**"
   ]
  },
  {
   "cell_type": "code",
   "execution_count": 4,
   "id": "78ccf210",
   "metadata": {},
   "outputs": [
    {
     "data": {
      "image/png": "[encoded data removed]",
      "text/plain": [
       "<Figure size 432x288 with 1 Axes>"
      ]
     },
     "metadata": {
      "needs_background": "light"
     },
     "output_type": "display_data"
    },
    {
     "data": {
      "image/png": "[encoded data removed]",
      "text/plain": [
       "<Figure size 432x288 with 1 Axes>"
      ]
     },
     "metadata": {
      "needs_background": "light"
     },
     "output_type": "display_data"
    },
    {
     "data": {
      "image/png": "[encoded data removed]",
      "text/plain": [
       "<Figure size 432x288 with 1 Axes>"
      ]
     },
     "metadata": {
      "needs_background": "light"
     },
     "output_type": "display_data"
    },
    {
     "data": {
      "image/png": "[encoded data removed]",
      "text/plain": [
       "<Figure size 432x288 with 1 Axes>"
      ]
     },
     "metadata": {
      "needs_background": "light"
     },
     "output_type": "display_data"
    }
   ],
   "source": [
    "# choose columns for exploration\n",
    "sti_info = sti_info[['psi','octane','tuned_cpu','hp']].astype('float')\n",
    "# plot histograms\n",
    "for col in sti_info.columns:\n",
    "    plt.hist(sti_info[col])\n",
    "    plt.title('Histogram of ' + col)\n",
    "    plt.show()"
   ]
  },
  {
   "cell_type": "markdown",
   "id": "01043e0e",
   "metadata": {},
   "source": [
    "**3. Plotted correlation heatmap for our features**"
   ]
  },
  {
   "cell_type": "code",
   "execution_count": 5,
   "id": "8cec419c",
   "metadata": {},
   "outputs": [
    {
     "data": {
      "image/png": "[encoded data removed]",
      "text/plain": [
       "<Figure size 432x288 with 2 Axes>"
      ]
     },
     "metadata": {
      "needs_background": "light"
     },
     "output_type": "display_data"
    }
   ],
   "source": [
    "# check correlation heatmap\n",
    "sns.heatmap(sti_info.corr(), cmap='Blues', annot=True)\n",
    "plt.title('Heatmap of Features')\n",
    "plt.show()"
   ]
  },
  {
   "cell_type": "markdown",
   "id": "3c51fec0",
   "metadata": {},
   "source": [
    "**4. Conducted statistical testing to verify our features for modeling**\n",
    "\n",
    "## Does Boost PSI Correlate with Horsepower?\n",
    "- $H_0$: Boost PSI does not correlate with horsepower.\n",
    "- $H_a$: Boost PSI correlates with horsepower.\n",
    "- Confidence Interval: 95%"
   ]
  },
  {
   "cell_type": "code",
   "execution_count": 6,
   "id": "e403fb10",
   "metadata": {},
   "outputs": [
    {
     "data": {
      "image/png": "[encoded data removed]",
      "text/plain": [
       "<Figure size 432x288 with 1 Axes>"
      ]
     },
     "metadata": {
      "needs_background": "light"
     },
     "output_type": "display_data"
    },
    {
     "name": "stdout",
     "output_type": "stream",
     "text": [
      "Boost PSI increases as horsepower increases, with 95% confidence.\n",
      "Slope: 0.030947665013757102\n",
      "p-value: 2.1634495339588766e-108\n"
     ]
    }
   ],
   "source": [
    "# check correlation of horsepower and boost PSI\n",
    "sns.regplot(sti_info.hp, sti_info.psi, line_kws={'color':'red'})\n",
    "plt.title('Horsepower and Boost PSI Increase Together')\n",
    "plt.xlabel('Horsepower')\n",
    "plt.ylabel('Boost PSI')\n",
    "plt.show()\n",
    "\n",
    "slope, _, _, p, _ = stats.linregress(sti_info.hp, sti_info.psi)\n",
    "if slope > 0 and p < .05:\n",
    "    print('Boost PSI increases as horsepower increases, with 95% confidence.')\n",
    "elif slope < 0 and p < .05:\n",
    "    print('As boost PSI decreases, horsepower increases, with 95% confidence.')\n",
    "else:\n",
    "    print('Test does not pass 95% confidence interval. Boost PSI and horsepower are not correlated.')\n",
    "    \n",
    "print('Slope:', slope)\n",
    "print('p-value:', p)"
   ]
  },
  {
   "cell_type": "markdown",
   "id": "04d98872",
   "metadata": {},
   "source": [
    "## Does Fuel Octane Correlate with Horsepower?\n",
    "- $H_0$: Fuel octane does not correlate with horsepower.\n",
    "- $H_a$: Fuel octane correlates with horsepower.\n",
    "- Confidence Interval: 95%"
   ]
  },
  {
   "cell_type": "code",
   "execution_count": 7,
   "id": "bfb5a261",
   "metadata": {},
   "outputs": [
    {
     "data": {
      "image/png": "[encoded data removed]",
      "text/plain": [
       "<Figure size 432x288 with 1 Axes>"
      ]
     },
     "metadata": {
      "needs_background": "light"
     },
     "output_type": "display_data"
    },
    {
     "name": "stdout",
     "output_type": "stream",
     "text": [
      "Fuel octane increases as horsepower increases, with 95% confidence.\n",
      "Slope: 0.01963325852470509\n",
      "p-value: 1.2133858273336407e-20\n"
     ]
    }
   ],
   "source": [
    "# check correlation of horsepower and fuel octane\n",
    "sns.regplot(sti_info.hp, sti_info.octane, line_kws={'color':'red'})\n",
    "plt.title('Horsepower and Fuel Octane Increase Together')\n",
    "plt.xlabel('Horsepower')\n",
    "plt.ylabel('Fuel Octane')\n",
    "plt.show()\n",
    "\n",
    "slope, _, _, p, _ = stats.linregress(sti_info.hp, sti_info.octane)\n",
    "\n",
    "if slope > 0 and p < .05:\n",
    "    print('Fuel octane increases as horsepower increases, with 95% confidence.')\n",
    "elif slope < 0 and p < .05:\n",
    "    print('As fuel octane decreases, horsepower increases, with 95% confidence.')\n",
    "else:\n",
    "    print('Test does not pass 95% confidence interval. Fuel octane and horsepower are not correlated.')\n",
    "\n",
    "print('Slope:', slope)\n",
    "print('p-value:', p)"
   ]
  },
  {
   "cell_type": "markdown",
   "id": "4938d9c8",
   "metadata": {},
   "source": [
    "## Do Cars with Tuned CPUs Have Higher Horsepower?\n",
    "- $H_0$: Cars with tuned CPUs do not have higher horsepower.\n",
    "- $H_a$: Cars with tuned CPUs have higher horsepower.\n",
    "- Confidence Interval: 95%"
   ]
  },
  {
   "cell_type": "code",
   "execution_count": 8,
   "id": "ddadaf1a",
   "metadata": {},
   "outputs": [
    {
     "data": {
      "text/html": [
       "<div>\n",
       "<style scoped>\n",
       "    .dataframe tbody tr th:only-of-type {\n",
       "        vertical-align: middle;\n",
       "    }\n",
       "\n",
       "    .dataframe tbody tr th {\n",
       "        vertical-align: top;\n",
       "    }\n",
       "\n",
       "    .dataframe thead th {\n",
       "        text-align: right;\n",
       "    }\n",
       "</style>\n",
       "<table border=\"1\" class=\"dataframe\">\n",
       "  <thead>\n",
       "    <tr style=\"text-align: right;\">\n",
       "      <th></th>\n",
       "      <th>psi</th>\n",
       "      <th>octane</th>\n",
       "      <th>tuned_cpu</th>\n",
       "      <th>hp</th>\n",
       "    </tr>\n",
       "  </thead>\n",
       "  <tbody>\n",
       "    <tr>\n",
       "      <th>3263</th>\n",
       "      <td>15.0</td>\n",
       "      <td>92.0</td>\n",
       "      <td>1.0</td>\n",
       "      <td>296.0</td>\n",
       "    </tr>\n",
       "    <tr>\n",
       "      <th>3271</th>\n",
       "      <td>19.5</td>\n",
       "      <td>92.0</td>\n",
       "      <td>1.0</td>\n",
       "      <td>317.0</td>\n",
       "    </tr>\n",
       "    <tr>\n",
       "      <th>3237</th>\n",
       "      <td>18.0</td>\n",
       "      <td>92.0</td>\n",
       "      <td>1.0</td>\n",
       "      <td>277.0</td>\n",
       "    </tr>\n",
       "    <tr>\n",
       "      <th>3541</th>\n",
       "      <td>15.0</td>\n",
       "      <td>92.0</td>\n",
       "      <td>0.0</td>\n",
       "      <td>262.0</td>\n",
       "    </tr>\n",
       "    <tr>\n",
       "      <th>4010</th>\n",
       "      <td>15.0</td>\n",
       "      <td>92.0</td>\n",
       "      <td>1.0</td>\n",
       "      <td>49.0</td>\n",
       "    </tr>\n",
       "    <tr>\n",
       "      <th>...</th>\n",
       "      <td>...</td>\n",
       "      <td>...</td>\n",
       "      <td>...</td>\n",
       "      <td>...</td>\n",
       "    </tr>\n",
       "    <tr>\n",
       "      <th>3161</th>\n",
       "      <td>16.0</td>\n",
       "      <td>92.0</td>\n",
       "      <td>1.0</td>\n",
       "      <td>291.0</td>\n",
       "    </tr>\n",
       "    <tr>\n",
       "      <th>1561</th>\n",
       "      <td>20.0</td>\n",
       "      <td>93.0</td>\n",
       "      <td>0.0</td>\n",
       "      <td>301.0</td>\n",
       "    </tr>\n",
       "    <tr>\n",
       "      <th>3253</th>\n",
       "      <td>16.0</td>\n",
       "      <td>92.0</td>\n",
       "      <td>1.0</td>\n",
       "      <td>297.0</td>\n",
       "    </tr>\n",
       "    <tr>\n",
       "      <th>3184</th>\n",
       "      <td>20.0</td>\n",
       "      <td>93.0</td>\n",
       "      <td>1.0</td>\n",
       "      <td>307.0</td>\n",
       "    </tr>\n",
       "    <tr>\n",
       "      <th>735</th>\n",
       "      <td>18.5</td>\n",
       "      <td>92.0</td>\n",
       "      <td>1.0</td>\n",
       "      <td>309.0</td>\n",
       "    </tr>\n",
       "  </tbody>\n",
       "</table>\n",
       "<p>800 rows × 4 columns</p>\n",
       "</div>"
      ],
      "text/plain": [
       "       psi  octane  tuned_cpu     hp\n",
       "3263  15.0    92.0        1.0  296.0\n",
       "3271  19.5    92.0        1.0  317.0\n",
       "3237  18.0    92.0        1.0  277.0\n",
       "3541  15.0    92.0        0.0  262.0\n",
       "4010  15.0    92.0        1.0   49.0\n",
       "...    ...     ...        ...    ...\n",
       "3161  16.0    92.0        1.0  291.0\n",
       "1561  20.0    93.0        0.0  301.0\n",
       "3253  16.0    92.0        1.0  297.0\n",
       "3184  20.0    93.0        1.0  307.0\n",
       "735   18.5    92.0        1.0  309.0\n",
       "\n",
       "[800 rows x 4 columns]"
      ]
     },
     "execution_count": 8,
     "metadata": {},
     "output_type": "execute_result"
    }
   ],
   "source": [
    "sti_info"
   ]
  },
  {
   "cell_type": "code",
   "execution_count": 9,
   "id": "d9bc7542",
   "metadata": {},
   "outputs": [
    {
     "name": "stdout",
     "output_type": "stream",
     "text": [
      "Results do not breach 95% confidence interval, cars with tuned CPUs do not have higher horsepower.\n"
     ]
    }
   ],
   "source": [
    "# conduct t-test\n",
    "t, p = stats.mannwhitneyu(sti_info[sti_info.tuned_cpu.astype('bool')].hp,\n",
    "                          sti_info[~sti_info.tuned_cpu.astype('bool')].hp,\n",
    "                          alternative='greater')\n",
    "\n",
    "if t > 0 and p < .05:\n",
    "    print('Cars with tuned CPUs have higher horsepower, with 95% confidence.')\n",
    "else:\n",
    "    print('Results do not breach 95% confidence interval, cars with tuned CPUs do not have higher horsepower.')"
   ]
  },
  {
   "cell_type": "code",
   "execution_count": 10,
   "id": "27b06d34",
   "metadata": {},
   "outputs": [
    {
     "data": {
      "image/png": "[encoded data removed]",
      "text/plain": [
       "<Figure size 432x288 with 1 Axes>"
      ]
     },
     "metadata": {
      "needs_background": "light"
     },
     "output_type": "display_data"
    }
   ],
   "source": [
    "# plot bar chart\n",
    "sns.barplot(data=sti_info, x='tuned_cpu', y='hp')\n",
    "plt.title('Cars with Tuned CPUs Do Not Have Higher Horsepower')\n",
    "plt.xlabel('CPU is Tuned')\n",
    "plt.ylabel('Horsepower')\n",
    "plt.show()"
   ]
  },
  {
   "cell_type": "markdown",
   "id": "0df7756c",
   "metadata": {},
   "source": [
    "**5. Eliminated our tuned_cpus feature because it did not pass our confidence interval (done in Model)**\n",
    "\n",
    "**6. Kept boost PSI and fuel octane as features because they were significantly correlated with max horsepower (done in Model)**"
   ]
  },
  {
   "cell_type": "markdown",
   "id": "48ff34c7",
   "metadata": {},
   "source": [
    "# Model\n",
    "## My Work - Bottom Line Up Front\n",
    "1. Ran our initial features (boost PSI, fuel octane) through one model (Ordinary Least Squares [OLS])\n",
    "2. Plotted residuals for our Minimum Viable Product (MVP) model\n",
    "3. Evaluated our MVP model performance for RMSE, r^2 explained variance, and more using our train and validate splits\n",
    "    * Compared performance to the mean value of train as our predictions (baseline)\n",
    "    * Outperformed the baseline\n",
    "4. Added stock horsepower as a feature in our post-MVP iteration\n",
    "5. Built, fit more models and hyperparameter combinations on our three features\n",
    "    * Lasso+LARS, GLM, and Polynomial OLS\n",
    "6. Evaluated our post-MVP model performance for RMSE and r^2 explained variance using our train and validate splits\n",
    "7. Selected our best-performing model\n",
    "8. Plotted residuals for our best model\n",
    "9. Evaluated our best model on the sequestered test split\n",
    "\n",
    "## Implementation\n",
    "Note: Steps 1-3 are the MVP process. We will start with Step 4.\n",
    "\n",
    "**4. Added stock horsepower as a feature in our post-MVP iteration**"
   ]
  },
  {
   "cell_type": "code",
   "execution_count": 11,
   "id": "524806ba",
   "metadata": {},
   "outputs": [],
   "source": [
    "# acquire, prep, split, isolate for model\n",
    "X_train, y_train, X_validate, y_validate, X_test, y_test = wrangle.prep_model()"
   ]
  },
  {
   "cell_type": "markdown",
   "id": "8c1b1825",
   "metadata": {},
   "source": [
    "**5. Built, fit more models and hyperparameter combinations on our three features**"
   ]
  },
  {
   "cell_type": "code",
   "execution_count": 12,
   "id": "fc0d86fd",
   "metadata": {},
   "outputs": [
    {
     "data": {
      "text/html": [
       "<div>\n",
       "<style scoped>\n",
       "    .dataframe tbody tr th:only-of-type {\n",
       "        vertical-align: middle;\n",
       "    }\n",
       "\n",
       "    .dataframe tbody tr th {\n",
       "        vertical-align: top;\n",
       "    }\n",
       "\n",
       "    .dataframe thead th {\n",
       "        text-align: right;\n",
       "    }\n",
       "</style>\n",
       "<table border=\"1\" class=\"dataframe\">\n",
       "  <thead>\n",
       "    <tr style=\"text-align: right;\">\n",
       "      <th></th>\n",
       "      <th>actuals</th>\n",
       "      <th>mean_bl</th>\n",
       "      <th>median_bl</th>\n",
       "      <th>ols_preds</th>\n",
       "      <th>lars_0.0001_preds</th>\n",
       "      <th>lars_0.001_preds</th>\n",
       "      <th>lars_0.01_preds</th>\n",
       "      <th>lars_0.1_preds</th>\n",
       "      <th>lars_1_preds</th>\n",
       "      <th>lars_10_preds</th>\n",
       "      <th>...</th>\n",
       "      <th>glm_p3a0.1_preds</th>\n",
       "      <th>glm_p3a1_preds</th>\n",
       "      <th>glm_p3a10_preds</th>\n",
       "      <th>glm_p3a100_preds</th>\n",
       "      <th>glm_p3a1000_preds</th>\n",
       "      <th>lm_pf_2_preds</th>\n",
       "      <th>lm_pf_3_preds</th>\n",
       "      <th>lm_pf_4_preds</th>\n",
       "      <th>lm_pf_5_preds</th>\n",
       "      <th>lm_pf_6_preds</th>\n",
       "    </tr>\n",
       "  </thead>\n",
       "  <tbody>\n",
       "    <tr>\n",
       "      <th>1285</th>\n",
       "      <td>299.0</td>\n",
       "      <td>326.894207</td>\n",
       "      <td>304.0</td>\n",
       "      <td>318.719849</td>\n",
       "      <td>318.722038</td>\n",
       "      <td>318.741742</td>\n",
       "      <td>318.938786</td>\n",
       "      <td>320.909225</td>\n",
       "      <td>329.924514</td>\n",
       "      <td>328.913505</td>\n",
       "      <td>...</td>\n",
       "      <td>328.913505</td>\n",
       "      <td>328.913505</td>\n",
       "      <td>328.913505</td>\n",
       "      <td>328.913505</td>\n",
       "      <td>328.913505</td>\n",
       "      <td>300.894291</td>\n",
       "      <td>297.472794</td>\n",
       "      <td>291.735217</td>\n",
       "      <td>295.641207</td>\n",
       "      <td>296.937087</td>\n",
       "    </tr>\n",
       "    <tr>\n",
       "      <th>2780</th>\n",
       "      <td>296.0</td>\n",
       "      <td>326.894207</td>\n",
       "      <td>304.0</td>\n",
       "      <td>301.888066</td>\n",
       "      <td>301.890030</td>\n",
       "      <td>301.907704</td>\n",
       "      <td>302.084442</td>\n",
       "      <td>303.851821</td>\n",
       "      <td>322.509652</td>\n",
       "      <td>328.913505</td>\n",
       "      <td>...</td>\n",
       "      <td>328.913505</td>\n",
       "      <td>328.913505</td>\n",
       "      <td>328.913505</td>\n",
       "      <td>328.913505</td>\n",
       "      <td>328.913505</td>\n",
       "      <td>305.371334</td>\n",
       "      <td>291.498907</td>\n",
       "      <td>285.887752</td>\n",
       "      <td>288.357145</td>\n",
       "      <td>290.370292</td>\n",
       "    </tr>\n",
       "    <tr>\n",
       "      <th>1700</th>\n",
       "      <td>318.0</td>\n",
       "      <td>326.894207</td>\n",
       "      <td>304.0</td>\n",
       "      <td>245.116738</td>\n",
       "      <td>245.126143</td>\n",
       "      <td>245.210785</td>\n",
       "      <td>246.057209</td>\n",
       "      <td>254.521444</td>\n",
       "      <td>315.094790</td>\n",
       "      <td>328.913505</td>\n",
       "      <td>...</td>\n",
       "      <td>328.913505</td>\n",
       "      <td>328.913505</td>\n",
       "      <td>328.913505</td>\n",
       "      <td>328.913505</td>\n",
       "      <td>328.913505</td>\n",
       "      <td>239.727767</td>\n",
       "      <td>230.479723</td>\n",
       "      <td>251.344555</td>\n",
       "      <td>244.936050</td>\n",
       "      <td>241.293144</td>\n",
       "    </tr>\n",
       "    <tr>\n",
       "      <th>1552</th>\n",
       "      <td>276.0</td>\n",
       "      <td>326.894207</td>\n",
       "      <td>304.0</td>\n",
       "      <td>332.028088</td>\n",
       "      <td>332.027821</td>\n",
       "      <td>332.025419</td>\n",
       "      <td>332.001398</td>\n",
       "      <td>331.761195</td>\n",
       "      <td>329.924514</td>\n",
       "      <td>328.913505</td>\n",
       "      <td>...</td>\n",
       "      <td>328.913505</td>\n",
       "      <td>328.913505</td>\n",
       "      <td>328.913505</td>\n",
       "      <td>328.913505</td>\n",
       "      <td>328.913505</td>\n",
       "      <td>323.281844</td>\n",
       "      <td>312.888260</td>\n",
       "      <td>303.973276</td>\n",
       "      <td>308.319957</td>\n",
       "      <td>306.736114</td>\n",
       "    </tr>\n",
       "    <tr>\n",
       "      <th>1748</th>\n",
       "      <td>353.0</td>\n",
       "      <td>326.894207</td>\n",
       "      <td>304.0</td>\n",
       "      <td>327.466589</td>\n",
       "      <td>327.467541</td>\n",
       "      <td>327.476116</td>\n",
       "      <td>327.561859</td>\n",
       "      <td>328.419290</td>\n",
       "      <td>330.983780</td>\n",
       "      <td>328.913505</td>\n",
       "      <td>...</td>\n",
       "      <td>328.913505</td>\n",
       "      <td>328.913505</td>\n",
       "      <td>328.913505</td>\n",
       "      <td>328.913505</td>\n",
       "      <td>328.913505</td>\n",
       "      <td>315.092154</td>\n",
       "      <td>312.439877</td>\n",
       "      <td>307.789061</td>\n",
       "      <td>311.479359</td>\n",
       "      <td>314.090046</td>\n",
       "    </tr>\n",
       "  </tbody>\n",
       "</table>\n",
       "<p>5 rows × 49 columns</p>\n",
       "</div>"
      ],
      "text/plain": [
       "      actuals     mean_bl  median_bl   ols_preds  lars_0.0001_preds  \\\n",
       "1285    299.0  326.894207      304.0  318.719849         318.722038   \n",
       "2780    296.0  326.894207      304.0  301.888066         301.890030   \n",
       "1700    318.0  326.894207      304.0  245.116738         245.126143   \n",
       "1552    276.0  326.894207      304.0  332.028088         332.027821   \n",
       "1748    353.0  326.894207      304.0  327.466589         327.467541   \n",
       "\n",
       "      lars_0.001_preds  lars_0.01_preds  lars_0.1_preds  lars_1_preds  \\\n",
       "1285        318.741742       318.938786      320.909225    329.924514   \n",
       "2780        301.907704       302.084442      303.851821    322.509652   \n",
       "1700        245.210785       246.057209      254.521444    315.094790   \n",
       "1552        332.025419       332.001398      331.761195    329.924514   \n",
       "1748        327.476116       327.561859      328.419290    330.983780   \n",
       "\n",
       "      lars_10_preds  ...  glm_p3a0.1_preds  glm_p3a1_preds  glm_p3a10_preds  \\\n",
       "1285     328.913505  ...        328.913505      328.913505       328.913505   \n",
       "2780     328.913505  ...        328.913505      328.913505       328.913505   \n",
       "1700     328.913505  ...        328.913505      328.913505       328.913505   \n",
       "1552     328.913505  ...        328.913505      328.913505       328.913505   \n",
       "1748     328.913505  ...        328.913505      328.913505       328.913505   \n",
       "\n",
       "      glm_p3a100_preds  glm_p3a1000_preds  lm_pf_2_preds  lm_pf_3_preds  \\\n",
       "1285        328.913505         328.913505     300.894291     297.472794   \n",
       "2780        328.913505         328.913505     305.371334     291.498907   \n",
       "1700        328.913505         328.913505     239.727767     230.479723   \n",
       "1552        328.913505         328.913505     323.281844     312.888260   \n",
       "1748        328.913505         328.913505     315.092154     312.439877   \n",
       "\n",
       "      lm_pf_4_preds  lm_pf_5_preds  lm_pf_6_preds  \n",
       "1285     291.735217     295.641207     296.937087  \n",
       "2780     285.887752     288.357145     290.370292  \n",
       "1700     251.344555     244.936050     241.293144  \n",
       "1552     303.973276     308.319957     306.736114  \n",
       "1748     307.789061     311.479359     314.090046  \n",
       "\n",
       "[5 rows x 49 columns]"
      ]
     },
     "execution_count": 12,
     "metadata": {},
     "output_type": "execute_result"
    }
   ],
   "source": [
    "# prepare train and validate for regression shotgun\n",
    "y_train = pd.DataFrame(y_train).rename(columns={'hp':'actuals'})\n",
    "y_validate = pd.DataFrame(y_validate).rename(columns={'hp':'actuals'})\n",
    "# run the regression shotgun\n",
    "y_train, y_validate = model.regression_shotgun(X_train, y_train, X_validate, y_validate)\n",
    "# check work\n",
    "y_validate.head()"
   ]
  },
  {
   "cell_type": "markdown",
   "id": "97f4c66d",
   "metadata": {},
   "source": [
    "**6. Evaluated our post-MVP model performance for RMSE and r^2 explained variance using our train and validate splits**"
   ]
  },
  {
   "cell_type": "code",
   "execution_count": 13,
   "id": "01de2229",
   "metadata": {},
   "outputs": [
    {
     "data": {
      "text/html": [
       "<div>\n",
       "<style scoped>\n",
       "    .dataframe tbody tr th:only-of-type {\n",
       "        vertical-align: middle;\n",
       "    }\n",
       "\n",
       "    .dataframe tbody tr th {\n",
       "        vertical-align: top;\n",
       "    }\n",
       "\n",
       "    .dataframe thead th {\n",
       "        text-align: right;\n",
       "    }\n",
       "</style>\n",
       "<table border=\"1\" class=\"dataframe\">\n",
       "  <thead>\n",
       "    <tr style=\"text-align: right;\">\n",
       "      <th></th>\n",
       "      <th>Model</th>\n",
       "      <th>Train_RMSE</th>\n",
       "      <th>Validate_RMSE</th>\n",
       "      <th>Train_r2</th>\n",
       "      <th>Validate_r2</th>\n",
       "    </tr>\n",
       "  </thead>\n",
       "  <tbody>\n",
       "    <tr>\n",
       "      <th>45</th>\n",
       "      <td>lm_pf_4_preds</td>\n",
       "      <td>50.659167</td>\n",
       "      <td>60.861762</td>\n",
       "      <td>0.734984</td>\n",
       "      <td>0.613175</td>\n",
       "    </tr>\n",
       "    <tr>\n",
       "      <th>43</th>\n",
       "      <td>lm_pf_2_preds</td>\n",
       "      <td>58.427301</td>\n",
       "      <td>64.294286</td>\n",
       "      <td>0.647476</td>\n",
       "      <td>0.568312</td>\n",
       "    </tr>\n",
       "    <tr>\n",
       "      <th>27</th>\n",
       "      <td>glm_p2a0.0001_preds</td>\n",
       "      <td>92.670653</td>\n",
       "      <td>67.384360</td>\n",
       "      <td>0.113168</td>\n",
       "      <td>0.525820</td>\n",
       "    </tr>\n",
       "    <tr>\n",
       "      <th>44</th>\n",
       "      <td>lm_pf_3_preds</td>\n",
       "      <td>54.328950</td>\n",
       "      <td>67.447989</td>\n",
       "      <td>0.695197</td>\n",
       "      <td>0.524924</td>\n",
       "    </tr>\n",
       "    <tr>\n",
       "      <th>19</th>\n",
       "      <td>glm_p1a0.0001_preds</td>\n",
       "      <td>69.064539</td>\n",
       "      <td>68.910583</td>\n",
       "      <td>0.507431</td>\n",
       "      <td>0.504097</td>\n",
       "    </tr>\n",
       "  </tbody>\n",
       "</table>\n",
       "</div>"
      ],
      "text/plain": [
       "                  Model  Train_RMSE  Validate_RMSE  Train_r2  Validate_r2\n",
       "45        lm_pf_4_preds   50.659167      60.861762  0.734984     0.613175\n",
       "43        lm_pf_2_preds   58.427301      64.294286  0.647476     0.568312\n",
       "27  glm_p2a0.0001_preds   92.670653      67.384360  0.113168     0.525820\n",
       "44        lm_pf_3_preds   54.328950      67.447989  0.695197     0.524924\n",
       "19  glm_p1a0.0001_preds   69.064539      68.910583  0.507431     0.504097"
      ]
     },
     "execution_count": 13,
     "metadata": {},
     "output_type": "execute_result"
    }
   ],
   "source": [
    "# check RMSE and R^2 value for each model on train and validate\n",
    "running_df = model.y_df_RMSE_r2(y_train, y_validate)\n",
    "# check results\n",
    "running_df.sort_values(by='Validate_r2', ascending=False).head()"
   ]
  },
  {
   "cell_type": "markdown",
   "id": "b5f470e6",
   "metadata": {},
   "source": [
    "**7. Selected our best-performing model: OLS with Polynomial Features (second model in above dataframe)**\n",
    "\n",
    "**8. Plotted residuals for our best model**"
   ]
  },
  {
   "cell_type": "code",
   "execution_count": 14,
   "id": "9b1809e2",
   "metadata": {},
   "outputs": [
    {
     "data": {
      "image/png": "[encoded data removed]",
      "text/plain": [
       "<Figure size 360x360 with 1 Axes>"
      ]
     },
     "metadata": {
      "needs_background": "light"
     },
     "output_type": "display_data"
    },
    {
     "data": {
      "image/png": "[encoded data removed]",
      "text/plain": [
       "<Figure size 360x360 with 1 Axes>"
      ]
     },
     "metadata": {
      "needs_background": "light"
     },
     "output_type": "display_data"
    }
   ],
   "source": [
    "# show residuals for best model\n",
    "# calculate residuals\n",
    "pf_train_residuals = y_train['actuals'] - y_train['lm_pf_2_preds']\n",
    "pf_validate_residuals = y_validate['actuals'] - y_validate['lm_pf_2_preds']\n",
    "\n",
    "# plot residuals for train split\n",
    "sns.relplot(x=y_train['actuals'], y=pf_train_residuals)\n",
    "plt.title('Residuals for Features and PF Model on Train Split')\n",
    "plt.axhline(y=0, c='gray', alpha=.3)\n",
    "plt.xlabel('Horsepower')\n",
    "plt.ylabel('Residuals')\n",
    "plt.show()\n",
    "\n",
    "# plot residuals for validate split\n",
    "sns.relplot(x=y_validate['actuals'], y=pf_validate_residuals)\n",
    "plt.title('Residuals for Features and PF Model on Validate Split')\n",
    "plt.axhline(y=0, c='gray', alpha=.3)\n",
    "plt.xlabel('Horsepower')\n",
    "plt.ylabel('Residuals')\n",
    "plt.show()"
   ]
  },
  {
   "cell_type": "markdown",
   "id": "697a71f4",
   "metadata": {},
   "source": [
    "**9. Evaluated our best model on the sequestered test split**"
   ]
  },
  {
   "cell_type": "code",
   "execution_count": 15,
   "id": "da26078e",
   "metadata": {},
   "outputs": [],
   "source": [
    "lm = LinearRegression(normalize=True) # Create linear regression model\n",
    "# Create polynomial variables\n",
    "X_train_pf = PolynomialFeatures(degree=2).fit_transform(X_train)\n",
    "X_test_pf = PolynomialFeatures(degree=2).fit(X_train).transform(X_test)\n",
    "# Make predictions on polynomial variables\n",
    "train_predictions = lm.fit(X_train_pf, y_train.actuals).predict(X_train_pf)\n",
    "test_predictions = lm.fit(X_train_pf, y_train.actuals).predict(X_test_pf)"
   ]
  },
  {
   "cell_type": "code",
   "execution_count": 16,
   "id": "42507504",
   "metadata": {},
   "outputs": [],
   "source": [
    "# Evaluate!\n",
    "rmse_train = mean_squared_error(y_train.actuals, train_predictions) ** 0.5\n",
    "rmse_test = mean_squared_error(y_test, test_predictions) ** 0.5\n",
    "r2_train = r2_score(y_train.actuals, train_predictions)\n",
    "r2_test = r2_score(y_test, test_predictions)"
   ]
  },
  {
   "cell_type": "code",
   "execution_count": 17,
   "id": "e58e0edc",
   "metadata": {},
   "outputs": [
    {
     "name": "stdout",
     "output_type": "stream",
     "text": [
      "Train: RMSE of 58 horsepower, explained variance of 64.7%.\n",
      "Test: RMSE of 69 horsepower, explained variance of 47.1%.\n"
     ]
    }
   ],
   "source": [
    "# print results\n",
    "print(f'Train: RMSE of {int(rmse_train)} horsepower, explained variance of {round(r2_train * 100, 1)}%.')\n",
    "print(f'Test: RMSE of {int(rmse_test)} horsepower, explained variance of {round(r2_test * 100, 1)}%.')"
   ]
  },
  {
   "cell_type": "markdown",
   "id": "d3aae8ec",
   "metadata": {},
   "source": [
    "# Conclusion\n",
    "## Through keyword engineering and statistical testing, I was able to create features that significantly improved prediction performance of our models\n",
    "## Scraping and analyzing this data showed that boost PSI and fuel octane correlate with max horsepower\n",
    "## Additional analysis may yield individual horsepower increases on a part-to-part basis"
   ]
  },
  {
   "cell_type": "code",
   "execution_count": null,
   "id": "157e03f4",
   "metadata": {},
   "outputs": [],
   "source": []
  }
 ],
 "metadata": {
  "kernelspec": {
   "display_name": "Python 3 (ipykernel)",
   "language": "python",
   "name": "python3"
  },
  "language_info": {
   "codemirror_mode": {
    "name": "ipython",
    "version": 3
   },
   "file_extension": ".py",
   "mimetype": "text/x-python",
   "name": "python",
   "nbconvert_exporter": "python",
   "pygments_lexer": "ipython3",
   "version": "3.8.8"
  }
 },
 "nbformat": 4,
 "nbformat_minor": 5
}
