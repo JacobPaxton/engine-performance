{
 "cells": [
  {
   "cell_type": "markdown",
   "id": "4e303740",
   "metadata": {},
   "source": [
    "# Project Overview\n",
    "Goal is to **acquire engine performance data** from some source yet to be determined, then run **statistical analysis** on horsepower and torque (targets) against engine data, then **build features** and **create regression models** in order to predict horsepower."
   ]
  },
  {
   "cell_type": "code",
   "execution_count": 1,
   "id": "f9d55454",
   "metadata": {},
   "outputs": [],
   "source": [
    "import pandas as pd\n",
    "import re\n",
    "import tabula\n",
    "\n",
    "import prepare"
   ]
  },
  {
   "cell_type": "markdown",
   "id": "ef5cfdb4",
   "metadata": {},
   "source": [
    "# Setup\n",
    "## Bottom Line Up Front\n",
    "1. Used tabula for first time\n",
    "2. Ran into Issue #1, read_pdf concatenates values past page one into a single column, fixed with: **prepare.py/fix_dyno_pdf(df)**\n",
    "3. Ran into Issue #2, will need to create functions to run conversion and fix through loops, fixed with: **multiple prepare.py functions**\n",
    "4. Ran into Issue #3, will need to create a function to store dataframes locally from the dataframe dictionary, fixed by **manual assignment** because tabula-py had issues reading larger PDFs\n",
    "5. Ran into Issue #4, needed to decide what to do for project, chose **max horsepower analysis** as initial approach.\n",
    "\n",
    "## Initial try with tabula-py\n",
    "First I will attempt to read data from a Cobb Tuning PDF."
   ]
  },
  {
   "cell_type": "code",
   "execution_count": 2,
   "id": "885768b7",
   "metadata": {},
   "outputs": [],
   "source": [
    "# pull pdf into dataframe\n",
    "# df = tabula.read_pdf('cobb_dyno_data/subaru/subaru_impreza_wrx_sti/2013_model_subaru_wrx_sti_Adam_B_1.pdf', \n",
    "#                             pages='all', \n",
    "#                             multiple_tables=False)[0]"
   ]
  },
  {
   "cell_type": "code",
   "execution_count": 3,
   "id": "6ce780e7",
   "metadata": {},
   "outputs": [],
   "source": [
    "# check work\n",
    "# df"
   ]
  },
  {
   "cell_type": "markdown",
   "id": "9a936a8d",
   "metadata": {},
   "source": [
    "## Issue #1: Fix concatenation issue\n",
    "Because pages after page one do not have column names, the read_pdf function concatenates each row's values into the RPM column. Next, I will create a function that fixes this."
   ]
  },
  {
   "cell_type": "code",
   "execution_count": 4,
   "id": "ae383dd0",
   "metadata": {},
   "outputs": [],
   "source": [
    "# Function outlined here before definition\n",
    "# for i, item in enumerate(df['RPM']):\n",
    "#     if len(item) > 5:\n",
    "#         RPM = item[:4]\n",
    "#         item = item[4:]\n",
    "#         HP = re.findall(r'...\\.\\w\\w', item)[0]\n",
    "#         item = item[len(HP):]\n",
    "#         Torque = re.findall(r'...\\.\\w\\w', item)[0]\n",
    "#         item = item[len(Torque):]\n",
    "#         AFR = re.findall(r'..\\.\\w\\w', item)[0]\n",
    "#         item = item[len(AFR):]\n",
    "#         Boost = re.findall(r'..\\.\\w\\w', item)[0]\n",
    "#         df.loc[i] = {'RPM':RPM, 'HP':HP, 'Torque':Torque, 'AFR':AFR, 'Boost':Boost}\n",
    "#     else:\n",
    "#         continue"
   ]
  },
  {
   "cell_type": "code",
   "execution_count": 5,
   "id": "2e4abae7",
   "metadata": {},
   "outputs": [],
   "source": [
    "# test work\n",
    "# df = df.astype('float')\n",
    "# print(df.sample(5), '\\n\\n')\n",
    "# df.info()"
   ]
  },
  {
   "cell_type": "markdown",
   "id": "62f019a5",
   "metadata": {},
   "source": [
    "### Solution to Issue #1\n",
    "I've pushed the function to prepare.py, now I will import the function and test it on a new PDF."
   ]
  },
  {
   "cell_type": "code",
   "execution_count": 6,
   "id": "a7eec08d",
   "metadata": {},
   "outputs": [],
   "source": [
    "# read second pdf as test\n",
    "# df2 = tabula.read_pdf('cobb_dyno_data/subaru/subaru_impreza_wrx_sti/2013_model_subaru_wrx_sti_Adam_B_2.pdf', \n",
    "#                             pages='all', \n",
    "#                             multiple_tables=False)[0]"
   ]
  },
  {
   "cell_type": "code",
   "execution_count": 7,
   "id": "1da66163",
   "metadata": {},
   "outputs": [],
   "source": [
    "# try out function\n",
    "# df2 = prepare.fix_dyno_pdf(df2)\n",
    "# df2.sample(5)"
   ]
  },
  {
   "cell_type": "markdown",
   "id": "7eae306f",
   "metadata": {},
   "source": [
    "So the function works when you call it with a dataframe. I will need to call the function in a loop to iterate through PDFs.\n",
    "\n",
    "## Issue #2: Convert PDFs programatically\n",
    "I need to create three functions:\n",
    "1. Uses tabula-py to convert a PDF to dataframe\n",
    "2. Identifies filepaths of PDFs in a given directory\n",
    "3. Loops through filepaths from #2 and calls #1 on each PDF. \n",
    "\n",
    "The end goal is to convert all PDFs into individual CSV files.\n",
    "\n",
    "### Solution to Issue #2\n",
    "All three files added to prepare.py:\n",
    "1. prepare.py/pdf_to_df(filepath)\n",
    "2. prepare.py/iterate_pdfs(folder_path)\n",
    "3. prepare.py/fix_pdfs(folder_path)"
   ]
  },
  {
   "cell_type": "code",
   "execution_count": 8,
   "id": "c156e21c",
   "metadata": {},
   "outputs": [],
   "source": [
    "# testing all three functions\n",
    "# df_dict = prepare.fix_pdfs('cobb_dyno_data/subaru/subaru_impreza_wrx_sti/')\n",
    "# df_dict"
   ]
  },
  {
   "cell_type": "markdown",
   "id": "2532ee89",
   "metadata": {},
   "source": [
    "Looking good! Now that these PDFs are cached, I can push each of these dataframes to CSV or use them inline."
   ]
  },
  {
   "cell_type": "markdown",
   "id": "28f3594d",
   "metadata": {},
   "source": [
    "## Issue #3: Programatically store new dataframes to CSVs\n",
    "So, I ran into a new issue. Apparently, tabula has trouble with larger PDFs due to memory allocation. So, I messed around a bit, and found out that following the URL in each pdf (getrundetails.php?runid1=number) gives a page with no weird column issues. I can copy straight out of that PHP into the CSV, manually. It's a better solution and a worse solution at the same time... but it's a solution that's guaranteed to work. Well, it was fun while it lasted.\n",
    "\n",
    "ID list: \n",
    "4591\n",
    "4592\n",
    "4721\n",
    "4722\n",
    "4443\n",
    "4876\n",
    "4496\n",
    "4542 \n",
    "4642 \n",
    "5648 \n",
    "4494 \n",
    "4495 \n",
    "4794 \n",
    "4162 \n",
    "4163 \n",
    "5385 \n",
    "5386 \n",
    "4825 \n",
    "4624 \n",
    "4625 \n",
    "4623 \n",
    "4501 \n",
    "4502 \n",
    "4500\n",
    "5168\n",
    "4938\n",
    "4091\n",
    "4092\n",
    "4093\n",
    "5174\n",
    "5366\n",
    "5367\n",
    "5170\n",
    "4834\n",
    "4872\n",
    "4994\n",
    "4764\n",
    "5262\n",
    "5263\n",
    "5123\n",
    "5389\n",
    "4576\n",
    "5022\n",
    "5023\n",
    "5310\n",
    "4724\n",
    "4713\n",
    "4797\n",
    "4634\n",
    "4632\n",
    "4633\n",
    "4827\n",
    "5554"
   ]
  },
  {
   "cell_type": "code",
   "execution_count": 9,
   "id": "19690b6f",
   "metadata": {},
   "outputs": [],
   "source": [
    "runlist = [4591,4592,4721,4722,4443,4876,4496,4542,4642,5648,4494,4495,4794,4162,4163,\n",
    "           5385,5386,4825,4624,4625,4623,4501,4502,4500,5168,4938,4091,4092,4093,5174,\n",
    "           5366,5367,5170,4834,4872,4994,4764,5262,5263,5123,5389,4576,5022,5023,5310,\n",
    "           4724,4713,4797,4634,4632,4633,4827,5554]\n",
    "runlist.sort()"
   ]
  },
  {
   "cell_type": "markdown",
   "id": "e8a6a03c",
   "metadata": {},
   "source": [
    "- 4091, OTS\n",
    "- 4092, Stage 2 Sport\n",
    "- 4093, Stage 2 Sport#\n",
    "- 4162, Stage 2 17.5psi 93 Octane\n",
    "- 4163, Stage 2 20.5psi 93 Octane\n",
    "- 4443, Cobb TBE, Cobb SF Intake\n",
    "- 4494, COBB Tuning Accessport, COBB Tuning Turboback- Econ- 92 Octane\n",
    "- 4495, COBB Tuning Accessport, COBB Tuning Turboback- 15psi- 92 Octane\n",
    "- 4496, COBB Tuning Accessport, COBB Tuning Turboback- 18psi- 92 Octane\n",
    "- 4500, COBB Tuning Accessport, Turboback, COBB Tuning SF Intake- 16psi- 92 Octane\n",
    "- 4501, COBB Tuning Accessport, Turboback, COBB Tuning SF Intake- 18psi- 92 Octane\n",
    "- 4502, COBB Tuning Accessport, Turboback, COBB Tuning SF Intake- 19psi- 92 Octane\n",
    "- 4542, Periin CAI, BOV, TBE, DW 265lph\n",
    "- 4576, PW TMIC, TBE, EBCS, Tomei Header, Uppipe\n",
    "- 4591, COBB Downpipe\n",
    "- 4592, COBB Downpipe + Torco\n",
    "- 4623, COBB Tuning Accessport, Invidia Turboback, COBB Tuning EWG (Rerouted), COBB Tuning 3-Port EBCS, COBB Tuning SF Intake/Airbox, Deatschwerks 65c Fuel Pump, Injector Dynamics 1000cc Injectors- Wastegate- 92 Octane\n",
    "- 4624, COBB Tuning Accessport, Invidia Turboback, COBB Tuning EWG (Rerouted), COBB Tuning 3-Port EBCS, COBB Tuning SF Intake/Airbox, Deatschwerks 65c Fuel Pump, Injector Dynamics 1000cc Injectors- 16psi- 92 Octane\n",
    "- 4625, COBB Tuning Accessport, Invidia Turboback, COBB Tuning EWG (Rerouted), COBB Tuning 3-Port EBCS, COBB Tuning SF Intake/Airbox, Deatschwerks 65c Fuel Pump, Injector Dynamics 1000cc Injectors- 18psi- 92 Octane\n",
    "- 4632, COBB Tuning Accessport, COBB Tuning Downpipe, COBB Tuning EWG w/Reroute,SPT Catback, COBB Tuning EBCS, ETS TMIC, Injector Dynamics 1000cc Injectors, Deatschwerks Fuel Pump, COBB Tuning SF Intake/Airbox, LPC FPR Backdate, Perrin Big Tube Header- Wastegate-\n",
    "- 4633, COBB Tuning Accessport, COBB Tuning Downpipe, COBB Tuning EWG w/Reroute,SPT Catback, COBB Tuning EBCS, ETS TMIC, Injector Dynamics 1000cc Injectors, Deatschwerks Fuel Pump, COBB Tuning SF Intake/Airbox, LPC FPR Backdate, Perrin Big Tube Header- 15psi- 92\n",
    "- 4634, COBB Tuning Accessport, COBB Tuning Downpipe, COBB Tuning EWG w/Reroute,SPT Catback, COBB Tuning EBCS, ETS TMIC, Injector Dynamics 1000cc Injectors, Deatschwerks Fuel Pump, COBB Tuning SF Intake/Airbox, LPC FPR Backdate, Perrin Big Tube Header- 18.5psi- 9\n",
    "- 4642 Anthony L, TBE, EBCS\n",
    "- 4713, Invidia TBE, COBB SF Intake, COBB EBCS, DW FP, PW TMIC, Ported WG\n",
    "- 4721, COBB SF Intake, COBB Downpipe, DW FP, Protune\n",
    "- 4722, COBB SF Intake, COBB Downpipe, DW FP, OTS Map (Stage 2 + SF ACN91)\n",
    "- 4724, Invidia TBE, Tomei ELH, COBB SF Intake\n",
    "- 4764, COBB Tuning Accessport, COBB Tuning Turboback, Deatschwerks Fuel Pump, Injector Dymamics 1000cc Injectors, '04 STi Fuel Pressure Regulator- 15psi- 92 Octane\n",
    "- 4794, COBB Tuning Accessport, Perrin Turboback, Perrin Big Tube Header/Up Pipe, Perrin CAI w/Airbox- 14psi- 92 Octane\n",
    "- 4797, COBB Tuning Accessport, 3\" Turboback Exhaust, '04 STi FPR Backdate- 13psi- 92 Octane\n",
    "- 4825, TBE, COBB SF Intake\n",
    "- 4827, COBB Downpipe, SF Intake\n",
    "- 4834, Downpipe, SF Intake\n",
    "- 4872, TBE, SF Intake\n",
    "- 4876, SF Intake, TBE\n",
    "- 4938, COBB Tuning Accessport, Nameless TBE, Tial 38mm EWG- DTA, Perrin Header, Grimmspeed EBCS, Process West TMIC, COBB Tuning SF Intake, Deatschwerks 65c Fuel Pump- 18psi- 92 Octane\n",
    "- 4994, Cobb Tuning Accessport, Cobb Tuning downpipe, SPT catback, GD STi FPR, COBB 1000cc, DW 65c- 14psi - 92 octane\n",
    "- 5022, Built Block Stage 2 w/ Headers E85\n",
    "- 5023, Built Block Stage 2 w/ Headers ACN91\n",
    "- 5123, Stage 2 19.5psi 93 Octane\n",
    "- 5168, 18.5psi 93 octane\n",
    "- 5170, Stage 2 19psi 93 Octane\n",
    "- 5174, 20G 22psi 91 Octane\n",
    "- 5262, Stage 2 OTS\n",
    "- 5263, Stage 2 19.5psi 93 Octane\n",
    "- 5310, Stage 2 19.5psi 93 Octane\n",
    "- 5366, GTX3076 23psi 91 Octane\n",
    "- 5367, GTX3076 28psi 110 Octane\n",
    "- 5385, Stage 3 93 Octane 19.5psi\n",
    "- 5386, Stage 3 E85 19.5psi\n",
    "- 5389, COBB 20g 20psi 93 Octane\n",
    "- 5554, Stage 3 20psi 93 octane\n",
    "- 5648, Stage 2 20psi 93 Octane\n",
    "\n",
    "Alright... it's unfortunate that I ended up doing it this way, but it's done.\n",
    "\n",
    "## Issue #4: Deciding what to do with the data\n",
    "I now have CSVs for each car's dyno test. Some CSVs are runs on the same car with different gas octane and tuning. Since I only have 53 dyno tests, I have to be careful with how I approach this problem. I could look at each car's max horsepower as an observation and create features for boost PSI levels, gas octane levels, stages, etc. I could also look at max torque, or other maximums. \n",
    "\n",
    "### Understanding the data\n",
    "1. RPM: Revolutions Per Minute, referring to how many times the camshaft spins in a minute. Independent variable.\n",
    "2. HP: Horsepower, referring to the power output of the engine, likely calculated at the wheels (WHP). Dependent.\n",
    "3. Torque: refers to the ability of the engine to overcome resistance, in lb/sqft. Dependent.\n",
    "4. AFR: Air-Fuel Ratio, refers to how lean the engine is running (higher number = more lean). Independent (you may consider this dependent, but the issue is that you can tune the car to run more lean or more rich).\n",
    "5. Boost: refers to the additional air pressure in PSI from a turbo. Independent.\n",
    "\n",
    "### Decision\n",
    "For the initial analysis, I will look at max horsepower as an observation. I'll add features that capture the different specifications of each car, then perform statistical analysis on those features against horsepower. Later, I may look at max torque (would be fairly easy to swap with max horsepower as a variable). I could look into area-under-curve analysis for horsepower and torque to see which cars have best performance through the entire cycle, but I'd need to be careful with cars having a wider RPM spread (torque and HP held even, a car with wider RPM spread will have larger area under curve)."
   ]
  },
  {
   "cell_type": "markdown",
   "id": "bd2b43f0",
   "metadata": {},
   "source": [
    "# Prepare\n",
    "I will first create a function that locates the max HP row in each CSV and appends the row to a max_hp dataframe along with an index. Then I will create a feature list and add each feature as a column with one-hot encoded values (manually-entered) for whether the observation had the feature or not. After this is done, I will push the max-HP dataframe to a CSV."
   ]
  },
  {
   "cell_type": "code",
   "execution_count": null,
   "id": "c724c1c7",
   "metadata": {},
   "outputs": [],
   "source": [
    "# function here"
   ]
  },
  {
   "cell_type": "markdown",
   "id": "8ba153b0",
   "metadata": {},
   "source": [
    "Features Candidates:\n",
    "1. OTS: Off-The-Shelf, a standard tuning setting for the car of that make model and year\n",
    "2. Stages 1,2,3: Specific tune and parts, each stage increases performance. See: https://thinktuning.com/wrx-stages/. Downpipes are part of Stage 2, but dyno tests say downpipe *or* Stage 2, so I will need to combine the two in some way, potentially relaxing Stage 2 into its component parts and making each part a feature\n",
    "3. PSI: Boost amounts, lowest is 13 highest is 28\n",
    "4. Octane: Fuel quality, E85 is 105 octane, lowest is 91, highest is 110\n",
    "5. Cobb Tuning Accessport\n",
    "6. Parts: There are a lot of different parts combinations, but it might be useful to look at each of them against horsepower."
   ]
  },
  {
   "cell_type": "code",
   "execution_count": null,
   "id": "1fc57d5e",
   "metadata": {},
   "outputs": [],
   "source": []
  }
 ],
 "metadata": {
  "kernelspec": {
   "display_name": "Python 3 (ipykernel)",
   "language": "python",
   "name": "python3"
  },
  "language_info": {
   "codemirror_mode": {
    "name": "ipython",
    "version": 3
   },
   "file_extension": ".py",
   "mimetype": "text/x-python",
   "name": "python",
   "nbconvert_exporter": "python",
   "pygments_lexer": "ipython3",
   "version": "3.8.8"
  }
 },
 "nbformat": 4,
 "nbformat_minor": 5
}
