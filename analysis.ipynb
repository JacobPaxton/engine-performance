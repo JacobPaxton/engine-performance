{
 "cells": [
  {
   "cell_type": "markdown",
   "id": "4e303740",
   "metadata": {},
   "source": [
    "# Project Overview\n",
    "Goal is to **acquire engine performance data** from some source yet to be determined, then run **statistical analysis** on horsepower and torque (targets) against engine data, then **build features** and **create regression models** in order to predict horsepower."
   ]
  },
  {
   "cell_type": "code",
   "execution_count": 1,
   "id": "f9d55454",
   "metadata": {},
   "outputs": [],
   "source": [
    "import pandas as pd\n",
    "import tabula"
   ]
  },
  {
   "cell_type": "markdown",
   "id": "ef5cfdb4",
   "metadata": {},
   "source": [
    "First I will attempt to read data from Cobb Tuning PDFs for specifically 2013 Subaru Impreza WRX STI dyno performance."
   ]
  },
  {
   "cell_type": "code",
   "execution_count": 2,
   "id": "885768b7",
   "metadata": {},
   "outputs": [
    {
     "name": "stderr",
     "output_type": "stream",
     "text": [
      "'pages' argument isn't specified.Will extract only from page 1 by default.\n"
     ]
    },
    {
     "data": {
      "text/plain": [
       "[     RPM     HP  Torque   AFR  Boost\n",
       " 0   2240   88.0   207.0  12.5    7.5\n",
       " 1   2260   90.0   210.0  12.3    7.7\n",
       " 2   2280   92.0   212.0  12.2    8.1\n",
       " 3   2300   93.0   213.0  12.0    8.4\n",
       " 4   2320   94.0   214.0  11.9    8.8\n",
       " 5   2340   95.0   214.0  11.7    9.2\n",
       " 6   2360   97.0   217.0  11.5    9.6\n",
       " 7   2380   99.0   220.0  11.3   10.0\n",
       " 8   2400  102.0   224.0  11.2   10.4\n",
       " 9   2420  105.0   229.0  11.1   10.8\n",
       " 10  2440  108.0   233.0  11.0   11.3\n",
       " 11  2460  110.0   237.0  10.9   11.7\n",
       " 12  2480  113.0   241.0  10.9   12.2\n",
       " 13  2500  116.0   246.0  10.8   12.6\n",
       " 14  2520  119.0   250.0  10.8   13.0\n",
       " 15  2540  123.0   256.0  10.7   13.5\n",
       " 16  2560  127.0   262.0  10.7   13.8\n",
       " 17  2580  131.0   268.0  10.7   14.2\n",
       " 18  2600  135.0   273.0  10.6   14.6\n",
       " 19  2620  138.0   278.0  10.6   14.9\n",
       " 20  2640  141.0   283.0  10.6   15.2\n",
       " 21  2660  144.0   287.0  10.6   15.5\n",
       " 22  2680  147.0   290.0  10.6   15.8\n",
       " 23  2700  150.0   293.0  10.6   16.0\n",
       " 24  2720  153.0   296.0  10.6   16.3\n",
       " 25  2740  155.0   300.0  10.6   16.5\n",
       " 26  2760  159.0   303.0  10.5   16.7\n",
       " 27  2780  162.0   307.0  10.5   16.9\n",
       " 28  2800  164.0   310.0  10.5   17.1\n",
       " 29  2820  167.0   312.0  10.5   17.2\n",
       " 30  2840  169.0   314.0  10.4   17.3\n",
       " 31  2860  172.0   317.0  10.4   17.4\n",
       " 32  2880  174.0   319.0  10.4   17.5\n",
       " 33  2900  176.0   321.0  10.4   17.6\n",
       " 34  2920  178.0   321.0  10.4   17.6\n",
       " 35  2940  179.0   322.0  10.4   17.7\n",
       " 36  2960  180.0   322.0  10.4   17.8\n",
       " 37  2980  181.0   321.0  10.4   17.9\n",
       " 38  3000  182.0   321.0  10.4   18.0\n",
       " 39  3020  184.0   322.0  10.4   18.1\n",
       " 40  3040  186.0   323.0  10.4   18.1\n",
       " 41  3060  188.0   325.0  10.4   18.2\n",
       " 42  3080  190.0   326.0  10.4   18.2\n",
       " 43  3100  193.0   329.0  10.5   18.3]"
      ]
     },
     "execution_count": 2,
     "metadata": {},
     "output_type": "execute_result"
    }
   ],
   "source": [
    "tabula.read_pdf('cobb_dyno_data/subaru/subaru_impreza_wrx_sti/2013_model_subaru_wrx_sti_Adam_B_1.pdf')"
   ]
  },
  {
   "cell_type": "markdown",
   "id": "62f019a5",
   "metadata": {},
   "source": [
    "Next, I'll create a function that splits and converts this one-item list for each PDF we pass to it."
   ]
  },
  {
   "cell_type": "code",
   "execution_count": null,
   "id": "cd547cd7",
   "metadata": {},
   "outputs": [],
   "source": []
  }
 ],
 "metadata": {
  "kernelspec": {
   "display_name": "Python 3 (ipykernel)",
   "language": "python",
   "name": "python3"
  },
  "language_info": {
   "codemirror_mode": {
    "name": "ipython",
    "version": 3
   },
   "file_extension": ".py",
   "mimetype": "text/x-python",
   "name": "python",
   "nbconvert_exporter": "python",
   "pygments_lexer": "ipython3",
   "version": "3.8.8"
  }
 },
 "nbformat": 4,
 "nbformat_minor": 5
}
