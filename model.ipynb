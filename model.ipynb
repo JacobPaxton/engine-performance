{
 "cells": [
  {
   "cell_type": "markdown",
   "id": "327de7cd",
   "metadata": {},
   "source": [
    "# Overview\n",
    "This notebook contains my work for using regression in predicting horsepower.\n",
    "\n",
    "# Imports"
   ]
  },
  {
   "cell_type": "code",
   "execution_count": 1,
   "id": "93cb9414",
   "metadata": {},
   "outputs": [],
   "source": [
    "import warnings\n",
    "warnings.filterwarnings('ignore')\n",
    "\n",
    "import pandas as pd\n",
    "import matplotlib.pyplot as plt\n",
    "import seaborn as sns\n",
    "\n",
    "from sklearn.metrics import mean_squared_error, r2_score\n",
    "from sklearn.linear_model import LinearRegression\n",
    "\n",
    "import wrangle\n",
    "import model"
   ]
  },
  {
   "cell_type": "markdown",
   "id": "f86b856c",
   "metadata": {},
   "source": [
    "# MVP\n",
    "First up is the MVP. I'm only using boost PSI and fuel octane as features here. Next iterations will include more features from the car_info.csv 'specs' column.\n",
    "\n",
    "## Preparation"
   ]
  },
  {
   "cell_type": "code",
   "execution_count": 2,
   "id": "8819ee24",
   "metadata": {},
   "outputs": [],
   "source": [
    "# acquire, prep, split, and scale data for modeling\n",
    "X_train, y_train, X_validate, y_validate, X_test, y_test = wrangle.prep_model_MVP()"
   ]
  },
  {
   "cell_type": "code",
   "execution_count": 3,
   "id": "f66149e9",
   "metadata": {},
   "outputs": [
    {
     "data": {
      "text/plain": [
       "array([[0.06685237, 0.1       ],\n",
       "       [0.09749304, 0.1       ],\n",
       "       [0.05571031, 0.2       ],\n",
       "       ...,\n",
       "       [0.05849582, 0.1       ],\n",
       "       [0.08077994, 0.1       ],\n",
       "       [0.07799443, 0.15      ]])"
      ]
     },
     "execution_count": 3,
     "metadata": {},
     "output_type": "execute_result"
    }
   ],
   "source": [
    "# check work\n",
    "X_validate"
   ]
  },
  {
   "cell_type": "markdown",
   "id": "3bb7145f",
   "metadata": {},
   "source": [
    "## Generating Predictions"
   ]
  },
  {
   "cell_type": "code",
   "execution_count": 4,
   "id": "89967dc7",
   "metadata": {},
   "outputs": [],
   "source": [
    "# build, fit model\n",
    "lm = LinearRegression(normalize=True).fit(X_train, y_train)"
   ]
  },
  {
   "cell_type": "code",
   "execution_count": 5,
   "id": "1f3a2aa2",
   "metadata": {},
   "outputs": [],
   "source": [
    "# generate model predictions\n",
    "train_preds = pd.DataFrame(lm.predict(X_train), columns=['OLS'])\n",
    "validate_preds = pd.DataFrame(lm.predict(X_validate), columns=['OLS'])\n",
    "# generate mean baseline\n",
    "baseline = y_train.mean()\n",
    "train_preds['baseline'] = baseline\n",
    "validate_preds['baseline'] = baseline"
   ]
  },
  {
   "cell_type": "code",
   "execution_count": 6,
   "id": "43e7ca2f",
   "metadata": {},
   "outputs": [
    {
     "data": {
      "text/html": [
       "<div>\n",
       "<style scoped>\n",
       "    .dataframe tbody tr th:only-of-type {\n",
       "        vertical-align: middle;\n",
       "    }\n",
       "\n",
       "    .dataframe tbody tr th {\n",
       "        vertical-align: top;\n",
       "    }\n",
       "\n",
       "    .dataframe thead th {\n",
       "        text-align: right;\n",
       "    }\n",
       "</style>\n",
       "<table border=\"1\" class=\"dataframe\">\n",
       "  <thead>\n",
       "    <tr style=\"text-align: right;\">\n",
       "      <th></th>\n",
       "      <th>OLS</th>\n",
       "      <th>baseline</th>\n",
       "    </tr>\n",
       "  </thead>\n",
       "  <tbody>\n",
       "    <tr>\n",
       "      <th>0</th>\n",
       "      <td>303.562574</td>\n",
       "      <td>328.526646</td>\n",
       "    </tr>\n",
       "    <tr>\n",
       "      <th>1</th>\n",
       "      <td>406.822696</td>\n",
       "      <td>328.526646</td>\n",
       "    </tr>\n",
       "    <tr>\n",
       "      <th>2</th>\n",
       "      <td>309.399283</td>\n",
       "      <td>328.526646</td>\n",
       "    </tr>\n",
       "    <tr>\n",
       "      <th>3</th>\n",
       "      <td>321.072701</td>\n",
       "      <td>328.526646</td>\n",
       "    </tr>\n",
       "    <tr>\n",
       "      <th>4</th>\n",
       "      <td>321.072701</td>\n",
       "      <td>328.526646</td>\n",
       "    </tr>\n",
       "  </tbody>\n",
       "</table>\n",
       "</div>"
      ],
      "text/plain": [
       "          OLS    baseline\n",
       "0  303.562574  328.526646\n",
       "1  406.822696  328.526646\n",
       "2  309.399283  328.526646\n",
       "3  321.072701  328.526646\n",
       "4  321.072701  328.526646"
      ]
     },
     "execution_count": 6,
     "metadata": {},
     "output_type": "execute_result"
    }
   ],
   "source": [
    "train_preds.head()"
   ]
  },
  {
   "cell_type": "code",
   "execution_count": 7,
   "id": "4b679650",
   "metadata": {},
   "outputs": [
    {
     "data": {
      "text/html": [
       "<div>\n",
       "<style scoped>\n",
       "    .dataframe tbody tr th:only-of-type {\n",
       "        vertical-align: middle;\n",
       "    }\n",
       "\n",
       "    .dataframe tbody tr th {\n",
       "        vertical-align: top;\n",
       "    }\n",
       "\n",
       "    .dataframe thead th {\n",
       "        text-align: right;\n",
       "    }\n",
       "</style>\n",
       "<table border=\"1\" class=\"dataframe\">\n",
       "  <thead>\n",
       "    <tr style=\"text-align: right;\">\n",
       "      <th></th>\n",
       "      <th>OLS</th>\n",
       "      <th>baseline</th>\n",
       "    </tr>\n",
       "  </thead>\n",
       "  <tbody>\n",
       "    <tr>\n",
       "      <th>0</th>\n",
       "      <td>311.588049</td>\n",
       "      <td>328.526646</td>\n",
       "    </tr>\n",
       "    <tr>\n",
       "      <th>1</th>\n",
       "      <td>319.613523</td>\n",
       "      <td>328.526646</td>\n",
       "    </tr>\n",
       "    <tr>\n",
       "      <th>2</th>\n",
       "      <td>322.310979</td>\n",
       "      <td>328.526646</td>\n",
       "    </tr>\n",
       "    <tr>\n",
       "      <th>3</th>\n",
       "      <td>307.940105</td>\n",
       "      <td>328.526646</td>\n",
       "    </tr>\n",
       "    <tr>\n",
       "      <th>4</th>\n",
       "      <td>415.577759</td>\n",
       "      <td>328.526646</td>\n",
       "    </tr>\n",
       "  </tbody>\n",
       "</table>\n",
       "</div>"
      ],
      "text/plain": [
       "          OLS    baseline\n",
       "0  311.588049  328.526646\n",
       "1  319.613523  328.526646\n",
       "2  322.310979  328.526646\n",
       "3  307.940105  328.526646\n",
       "4  415.577759  328.526646"
      ]
     },
     "execution_count": 7,
     "metadata": {},
     "output_type": "execute_result"
    }
   ],
   "source": [
    "validate_preds.head()"
   ]
  },
  {
   "cell_type": "markdown",
   "id": "a9134542",
   "metadata": {},
   "source": [
    "## Evaluation of Ordinary Least Squares (OLS) Model\n",
    "### Residuals"
   ]
  },
  {
   "cell_type": "code",
   "execution_count": 8,
   "id": "5e69dfc7",
   "metadata": {
    "scrolled": false
   },
   "outputs": [
    {
     "data": {
      "image/png": "[encoded data removed]",
      "text/plain": [
       "<Figure size 360x360 with 1 Axes>"
      ]
     },
     "metadata": {
      "needs_background": "light"
     },
     "output_type": "display_data"
    },
    {
     "data": {
      "image/png": "[encoded data removed]",
      "text/plain": [
       "<Figure size 360x360 with 1 Axes>"
      ]
     },
     "metadata": {
      "needs_background": "light"
     },
     "output_type": "display_data"
    }
   ],
   "source": [
    "# calculate residuals\n",
    "train_preds['residuals'] = y_train - train_preds['OLS']\n",
    "validate_preds['residuals'] = y_validate - validate_preds['OLS']\n",
    "\n",
    "# plot residuals for train split\n",
    "sns.relplot(x=y_train, y=train_preds['residuals'])\n",
    "plt.title('Residuals for MVP Features and OLS Model on Train Split')\n",
    "plt.axhline(y=0, c='gray', alpha=.3)\n",
    "plt.xlabel('Horsepower')\n",
    "plt.ylabel('Residuals')\n",
    "plt.show()\n",
    "\n",
    "# plot residuals for validate split\n",
    "sns.relplot(x=y_validate, y=validate_preds['residuals'])\n",
    "plt.title('Residuals for MVP Features and OLS Model on Validate Split')\n",
    "plt.axhline(y=0, c='gray', alpha=.3)\n",
    "plt.xlabel('Horsepower')\n",
    "plt.ylabel('Residuals')\n",
    "plt.show()"
   ]
  },
  {
   "cell_type": "markdown",
   "id": "1afed107",
   "metadata": {},
   "source": [
    "As you can see, boost PSI and fuel octane do not tell the whole story of a car's horsepower. Once we've completed the MVP, we can dig deeper into feature engineering to reduce these residuals.\n",
    "\n",
    "### RMSE and Other Error Metrics\n",
    "**Train Split Metrics**"
   ]
  },
  {
   "cell_type": "code",
   "execution_count": 9,
   "id": "503037b1",
   "metadata": {
    "scrolled": true
   },
   "outputs": [
    {
     "name": "stdout",
     "output_type": "stream",
     "text": [
      "Sum of Squared Errors (SSE): 8721778.89\n",
      "Explained Sum of Squares (ESS): 1599328.01\n",
      "Total Sum of Squares (TSS): 10321106.9\n",
      "Mean Squared Error (MSE): 6617.43\n",
      "Root Mean Squared Error (RMSE): 81.35\n"
     ]
    }
   ],
   "source": [
    "# OLS train SSE, ESS, TSS, MSE, RMSE\n",
    "train_sse = round(mean_squared_error(y_train, train_preds['OLS']) * len(y_train), 2)\n",
    "train_ess = round(sum((train_preds['OLS'] - y_train.mean())**2), 2)\n",
    "train_tss = round(train_ess + train_sse, 2)\n",
    "train_mse = round(mean_squared_error(y_train, train_preds['OLS']), 2)\n",
    "train_rmse = round(train_mse ** 0.5, 2)\n",
    "\n",
    "print('Sum of Squared Errors (SSE):', train_sse)\n",
    "print('Explained Sum of Squares (ESS):', train_ess)\n",
    "print('Total Sum of Squares (TSS):', train_tss)\n",
    "print('Mean Squared Error (MSE):', train_mse)\n",
    "print('Root Mean Squared Error (RMSE):', train_rmse)"
   ]
  },
  {
   "cell_type": "markdown",
   "id": "ac09f90f",
   "metadata": {},
   "source": [
    "**Validate Split Metrics**"
   ]
  },
  {
   "cell_type": "code",
   "execution_count": 10,
   "id": "121abcd6",
   "metadata": {},
   "outputs": [],
   "source": [
    "# baseline error on validate split\n",
    "baseline_sse = round(mean_squared_error(y_validate, validate_preds['baseline']) * len(y_validate), 2)\n",
    "baseline_ess = round(sum((validate_preds['baseline'] - y_validate.mean())**2), 2)\n",
    "baseline_tss = round(baseline_ess + baseline_sse, 2)\n",
    "baseline_mse = round(mean_squared_error(y_validate, validate_preds['baseline']), 2)\n",
    "baseline_rmse = round(baseline_mse ** 0.5, 2)\n",
    "\n",
    "# OLS validate SSE, ESS, TSS, MSE, RMSE\n",
    "validate_sse = round(mean_squared_error(y_validate, validate_preds['OLS']) * len(y_validate), 2)\n",
    "validate_ess = round(sum((validate_preds['OLS'] - y_validate.mean())**2), 2)\n",
    "validate_tss = round(validate_ess + validate_sse, 2)\n",
    "validate_mse = round(mean_squared_error(y_validate, validate_preds['OLS']), 2)\n",
    "validate_rmse = round(validate_mse ** 0.5, 2)"
   ]
  },
  {
   "cell_type": "code",
   "execution_count": 11,
   "id": "dae81bc6",
   "metadata": {},
   "outputs": [
    {
     "name": "stdout",
     "output_type": "stream",
     "text": [
      "------- Baseline on Validate - Errors -------\n",
      "Sum of Squared Errors (SSE): 6381829.61\n",
      "Explained Sum of Squares (ESS): 51444.47\n",
      "Total Sum of Squares (TSS): 6433274.08\n",
      "Mean Squared Error (MSE): 8057.87\n",
      "Root Mean Squared Error (RMSE): 89.77\n",
      "------- OLS on Validate - Errors --------\n",
      "Sum of Squared Errors (SSE): 5217891.75\n",
      "Explained Sum of Squares (ESS): 1015106.68\n",
      "Total Sum of Squares (TSS): 6232998.43\n",
      "Mean Squared Error (MSE): 6588.25\n",
      "Root Mean Squared Error (RMSE): 81.17\n"
     ]
    }
   ],
   "source": [
    "# print baseline errors for validate split\n",
    "print('------- Baseline on Validate - Errors -------')\n",
    "print('Sum of Squared Errors (SSE):', baseline_sse)\n",
    "print('Explained Sum of Squares (ESS):', baseline_ess)\n",
    "print('Total Sum of Squares (TSS):', baseline_tss)\n",
    "print('Mean Squared Error (MSE):', baseline_mse)\n",
    "print('Root Mean Squared Error (RMSE):', baseline_rmse)\n",
    "\n",
    "# print OLS errors for validate split\n",
    "print('------- OLS on Validate - Errors --------')\n",
    "print('Sum of Squared Errors (SSE):', validate_sse)\n",
    "print('Explained Sum of Squares (ESS):', validate_ess)\n",
    "print('Total Sum of Squares (TSS):', validate_tss)\n",
    "print('Mean Squared Error (MSE):', validate_mse)\n",
    "print('Root Mean Squared Error (RMSE):', validate_rmse)"
   ]
  },
  {
   "cell_type": "markdown",
   "id": "50db1f98",
   "metadata": {},
   "source": [
    "### R^2 Explained Variance Score\n",
    "**Train Split Explained Variance**"
   ]
  },
  {
   "cell_type": "code",
   "execution_count": 12,
   "id": "48d2989d",
   "metadata": {},
   "outputs": [
    {
     "name": "stdout",
     "output_type": "stream",
     "text": [
      "R-squared =  0.155\n",
      "Percent of variance in y explained by x =  15.5 %\n"
     ]
    }
   ],
   "source": [
    "# OLS train r2\n",
    "train_r2 = train_ess / train_tss\n",
    "print('R-squared = ',round(train_r2,3))\n",
    "print(\"Percent of variance in y explained by x = \", round(train_r2*100,1), \"%\")"
   ]
  },
  {
   "cell_type": "markdown",
   "id": "99cb9cc3",
   "metadata": {},
   "source": [
    "**Validate Split Explained Variance**"
   ]
  },
  {
   "cell_type": "code",
   "execution_count": 13,
   "id": "32905a4a",
   "metadata": {},
   "outputs": [
    {
     "name": "stdout",
     "output_type": "stream",
     "text": [
      "R-squared =  0.008\n",
      "Percent of variance in y explained by x =  0.8 %\n"
     ]
    }
   ],
   "source": [
    "# baseline validate r2\n",
    "baseline_r2 = baseline_ess / baseline_tss\n",
    "print('R-squared = ',round(baseline_r2, 3))\n",
    "print(\"Percent of variance in y explained by x = \", round(baseline_r2 * 100, 1), \"%\")"
   ]
  },
  {
   "cell_type": "code",
   "execution_count": 14,
   "id": "ceb78a07",
   "metadata": {},
   "outputs": [
    {
     "name": "stdout",
     "output_type": "stream",
     "text": [
      "R-squared =  0.163\n",
      "Percent of variance in y explained by x =  16.3 %\n"
     ]
    }
   ],
   "source": [
    "# OLS validate r2\n",
    "validate_r2 = validate_ess / validate_tss\n",
    "print('R-squared = ',round(validate_r2, 3))\n",
    "print(\"Percent of variance in y explained by x = \", round(validate_r2 * 100, 1), \"%\")"
   ]
  },
  {
   "cell_type": "markdown",
   "id": "da8be009",
   "metadata": {},
   "source": [
    "## MVP Takeaways\n",
    "- Using only the boost PSI and fuel octane of each car, our OLS model:\n",
    "    * Had an RMSE of 81 horsepower (Baseline: 90 horsepower)\n",
    "    * Had an explained variance of 16% (Baseline: 1%)\n",
    "\n",
    "**Therefore, our OLS model performed significantly better than the baseline.**\n",
    "\n",
    "In next iterations, we will add more features and models to try to improve our predictions."
   ]
  },
  {
   "cell_type": "code",
   "execution_count": null,
   "id": "8cac49e5",
   "metadata": {},
   "outputs": [],
   "source": []
  }
 ],
 "metadata": {
  "kernelspec": {
   "display_name": "Python 3 (ipykernel)",
   "language": "python",
   "name": "python3"
  },
  "language_info": {
   "codemirror_mode": {
    "name": "ipython",
    "version": 3
   },
   "file_extension": ".py",
   "mimetype": "text/x-python",
   "name": "python",
   "nbconvert_exporter": "python",
   "pygments_lexer": "ipython3",
   "version": "3.8.8"
  }
 },
 "nbformat": 4,
 "nbformat_minor": 5
}
