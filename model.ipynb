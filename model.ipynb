{
 "cells": [
  {
   "cell_type": "markdown",
   "id": "3e5422cb",
   "metadata": {},
   "source": [
    "# Overview\n",
    "This notebook contains my work for using regression in predicting horsepower.\n",
    "\n",
    "# Imports"
   ]
  },
  {
   "cell_type": "code",
   "execution_count": 1,
   "id": "34955f50",
   "metadata": {},
   "outputs": [],
   "source": [
    "import warnings\n",
    "warnings.filterwarnings('ignore')\n",
    "\n",
    "import pandas as pd\n",
    "import matplotlib.pyplot as plt\n",
    "import seaborn as sns\n",
    "\n",
    "from sklearn.metrics import mean_squared_error, r2_score\n",
    "from sklearn.linear_model import LinearRegression\n",
    "from sklearn.preprocessing import PolynomialFeatures\n",
    "\n",
    "import wrangle\n",
    "import model"
   ]
  },
  {
   "cell_type": "markdown",
   "id": "fa423f9f",
   "metadata": {},
   "source": [
    "# MVP\n",
    "First up is the MVP. I'm only using boost PSI and fuel octane as features here. Next iterations will include more features from the car_info.csv 'specs' column.\n",
    "\n",
    "## Preparation"
   ]
  },
  {
   "cell_type": "code",
   "execution_count": 2,
   "id": "d64a158c",
   "metadata": {},
   "outputs": [],
   "source": [
    "# acquire, prep, split, and scale data for modeling\n",
    "X_train, y_train, X_validate, y_validate, X_test, y_test = wrangle.prep_model_MVP()"
   ]
  },
  {
   "cell_type": "code",
   "execution_count": 3,
   "id": "8b81fbbd",
   "metadata": {},
   "outputs": [
    {
     "data": {
      "text/plain": [
       "array([[0.06685237, 0.1       ],\n",
       "       [0.09749304, 0.1       ],\n",
       "       [0.05571031, 0.2       ],\n",
       "       ...,\n",
       "       [0.05849582, 0.1       ],\n",
       "       [0.08077994, 0.1       ],\n",
       "       [0.07799443, 0.15      ]])"
      ]
     },
     "execution_count": 3,
     "metadata": {},
     "output_type": "execute_result"
    }
   ],
   "source": [
    "# check work\n",
    "X_validate"
   ]
  },
  {
   "cell_type": "markdown",
   "id": "4c5a41cf",
   "metadata": {},
   "source": [
    "## Generating Predictions"
   ]
  },
  {
   "cell_type": "code",
   "execution_count": 4,
   "id": "8c6fb956",
   "metadata": {},
   "outputs": [],
   "source": [
    "# build, fit model\n",
    "lm = LinearRegression(normalize=True).fit(X_train, y_train)"
   ]
  },
  {
   "cell_type": "code",
   "execution_count": 5,
   "id": "faa367bb",
   "metadata": {},
   "outputs": [],
   "source": [
    "# generate model predictions\n",
    "train_preds = pd.DataFrame(lm.predict(X_train), columns=['OLS'])\n",
    "validate_preds = pd.DataFrame(lm.predict(X_validate), columns=['OLS'])\n",
    "# generate mean baseline\n",
    "baseline = y_train.mean()\n",
    "train_preds['baseline'] = baseline\n",
    "validate_preds['baseline'] = baseline"
   ]
  },
  {
   "cell_type": "code",
   "execution_count": 6,
   "id": "74979879",
   "metadata": {},
   "outputs": [
    {
     "data": {
      "text/html": [
       "<div>\n",
       "<style scoped>\n",
       "    .dataframe tbody tr th:only-of-type {\n",
       "        vertical-align: middle;\n",
       "    }\n",
       "\n",
       "    .dataframe tbody tr th {\n",
       "        vertical-align: top;\n",
       "    }\n",
       "\n",
       "    .dataframe thead th {\n",
       "        text-align: right;\n",
       "    }\n",
       "</style>\n",
       "<table border=\"1\" class=\"dataframe\">\n",
       "  <thead>\n",
       "    <tr style=\"text-align: right;\">\n",
       "      <th></th>\n",
       "      <th>OLS</th>\n",
       "      <th>baseline</th>\n",
       "    </tr>\n",
       "  </thead>\n",
       "  <tbody>\n",
       "    <tr>\n",
       "      <th>0</th>\n",
       "      <td>303.562574</td>\n",
       "      <td>328.526646</td>\n",
       "    </tr>\n",
       "    <tr>\n",
       "      <th>1</th>\n",
       "      <td>406.822696</td>\n",
       "      <td>328.526646</td>\n",
       "    </tr>\n",
       "    <tr>\n",
       "      <th>2</th>\n",
       "      <td>309.399283</td>\n",
       "      <td>328.526646</td>\n",
       "    </tr>\n",
       "    <tr>\n",
       "      <th>3</th>\n",
       "      <td>321.072701</td>\n",
       "      <td>328.526646</td>\n",
       "    </tr>\n",
       "    <tr>\n",
       "      <th>4</th>\n",
       "      <td>321.072701</td>\n",
       "      <td>328.526646</td>\n",
       "    </tr>\n",
       "  </tbody>\n",
       "</table>\n",
       "</div>"
      ],
      "text/plain": [
       "          OLS    baseline\n",
       "0  303.562574  328.526646\n",
       "1  406.822696  328.526646\n",
       "2  309.399283  328.526646\n",
       "3  321.072701  328.526646\n",
       "4  321.072701  328.526646"
      ]
     },
     "execution_count": 6,
     "metadata": {},
     "output_type": "execute_result"
    }
   ],
   "source": [
    "train_preds.head()"
   ]
  },
  {
   "cell_type": "code",
   "execution_count": 7,
   "id": "750388d4",
   "metadata": {},
   "outputs": [
    {
     "data": {
      "text/html": [
       "<div>\n",
       "<style scoped>\n",
       "    .dataframe tbody tr th:only-of-type {\n",
       "        vertical-align: middle;\n",
       "    }\n",
       "\n",
       "    .dataframe tbody tr th {\n",
       "        vertical-align: top;\n",
       "    }\n",
       "\n",
       "    .dataframe thead th {\n",
       "        text-align: right;\n",
       "    }\n",
       "</style>\n",
       "<table border=\"1\" class=\"dataframe\">\n",
       "  <thead>\n",
       "    <tr style=\"text-align: right;\">\n",
       "      <th></th>\n",
       "      <th>OLS</th>\n",
       "      <th>baseline</th>\n",
       "    </tr>\n",
       "  </thead>\n",
       "  <tbody>\n",
       "    <tr>\n",
       "      <th>0</th>\n",
       "      <td>311.588049</td>\n",
       "      <td>328.526646</td>\n",
       "    </tr>\n",
       "    <tr>\n",
       "      <th>1</th>\n",
       "      <td>319.613523</td>\n",
       "      <td>328.526646</td>\n",
       "    </tr>\n",
       "    <tr>\n",
       "      <th>2</th>\n",
       "      <td>322.310979</td>\n",
       "      <td>328.526646</td>\n",
       "    </tr>\n",
       "    <tr>\n",
       "      <th>3</th>\n",
       "      <td>307.940105</td>\n",
       "      <td>328.526646</td>\n",
       "    </tr>\n",
       "    <tr>\n",
       "      <th>4</th>\n",
       "      <td>415.577759</td>\n",
       "      <td>328.526646</td>\n",
       "    </tr>\n",
       "  </tbody>\n",
       "</table>\n",
       "</div>"
      ],
      "text/plain": [
       "          OLS    baseline\n",
       "0  311.588049  328.526646\n",
       "1  319.613523  328.526646\n",
       "2  322.310979  328.526646\n",
       "3  307.940105  328.526646\n",
       "4  415.577759  328.526646"
      ]
     },
     "execution_count": 7,
     "metadata": {},
     "output_type": "execute_result"
    }
   ],
   "source": [
    "validate_preds.head()"
   ]
  },
  {
   "cell_type": "markdown",
   "id": "e1dd3896",
   "metadata": {},
   "source": [
    "## Evaluation of Ordinary Least Squares (OLS) Model\n",
    "### Residuals"
   ]
  },
  {
   "cell_type": "code",
   "execution_count": 8,
   "id": "fc036441",
   "metadata": {
    "scrolled": false
   },
   "outputs": [
    {
     "data": {
      "image/png": "[encoded data removed]",
      "text/plain": [
       "<Figure size 360x360 with 1 Axes>"
      ]
     },
     "metadata": {
      "needs_background": "light"
     },
     "output_type": "display_data"
    },
    {
     "data": {
      "image/png": "[encoded data removed]",
      "text/plain": [
       "<Figure size 360x360 with 1 Axes>"
      ]
     },
     "metadata": {
      "needs_background": "light"
     },
     "output_type": "display_data"
    }
   ],
   "source": [
    "# calculate residuals\n",
    "train_preds['residuals'] = y_train - train_preds['OLS']\n",
    "validate_preds['residuals'] = y_validate - validate_preds['OLS']\n",
    "\n",
    "# plot residuals for train split\n",
    "sns.relplot(x=y_train, y=train_preds['residuals'])\n",
    "plt.title('Residuals for MVP Features and OLS Model on Train Split')\n",
    "plt.axhline(y=0, c='gray', alpha=.3)\n",
    "plt.xlabel('Horsepower')\n",
    "plt.ylabel('Residuals')\n",
    "plt.show()\n",
    "\n",
    "# plot residuals for validate split\n",
    "sns.relplot(x=y_validate, y=validate_preds['residuals'])\n",
    "plt.title('Residuals for MVP Features and OLS Model on Validate Split')\n",
    "plt.axhline(y=0, c='gray', alpha=.3)\n",
    "plt.xlabel('Horsepower')\n",
    "plt.ylabel('Residuals')\n",
    "plt.show()"
   ]
  },
  {
   "cell_type": "markdown",
   "id": "3032eca0",
   "metadata": {},
   "source": [
    "As you can see, boost PSI and fuel octane do not tell the whole story of a car's horsepower. Once we've completed the MVP, we can dig deeper into feature engineering to reduce these residuals.\n",
    "\n",
    "### RMSE and Other Error Metrics\n",
    "**Train Split Metrics**"
   ]
  },
  {
   "cell_type": "code",
   "execution_count": 9,
   "id": "cd5efd63",
   "metadata": {
    "scrolled": true
   },
   "outputs": [
    {
     "name": "stdout",
     "output_type": "stream",
     "text": [
      "Sum of Squared Errors (SSE): 8721778.89\n",
      "Explained Sum of Squares (ESS): 1599328.01\n",
      "Total Sum of Squares (TSS): 10321106.9\n",
      "Mean Squared Error (MSE): 6617.43\n",
      "Root Mean Squared Error (RMSE): 81.35\n"
     ]
    }
   ],
   "source": [
    "# OLS train SSE, ESS, TSS, MSE, RMSE\n",
    "train_sse = round(mean_squared_error(y_train, train_preds['OLS']) * len(y_train), 2)\n",
    "train_ess = round(sum((train_preds['OLS'] - y_train.mean())**2), 2)\n",
    "train_tss = round(train_ess + train_sse, 2)\n",
    "train_mse = round(mean_squared_error(y_train, train_preds['OLS']), 2)\n",
    "train_rmse = round(train_mse ** 0.5, 2)\n",
    "\n",
    "print('Sum of Squared Errors (SSE):', train_sse)\n",
    "print('Explained Sum of Squares (ESS):', train_ess)\n",
    "print('Total Sum of Squares (TSS):', train_tss)\n",
    "print('Mean Squared Error (MSE):', train_mse)\n",
    "print('Root Mean Squared Error (RMSE):', train_rmse)"
   ]
  },
  {
   "cell_type": "markdown",
   "id": "79f67c01",
   "metadata": {},
   "source": [
    "**Validate Split Metrics**"
   ]
  },
  {
   "cell_type": "code",
   "execution_count": 10,
   "id": "0d797a08",
   "metadata": {},
   "outputs": [],
   "source": [
    "# baseline error on validate split\n",
    "baseline_sse = round(mean_squared_error(y_validate, validate_preds['baseline']) * len(y_validate), 2)\n",
    "baseline_ess = round(sum((validate_preds['baseline'] - y_validate.mean())**2), 2)\n",
    "baseline_tss = round(baseline_ess + baseline_sse, 2)\n",
    "baseline_mse = round(mean_squared_error(y_validate, validate_preds['baseline']), 2)\n",
    "baseline_rmse = round(baseline_mse ** 0.5, 2)\n",
    "\n",
    "# OLS validate SSE, ESS, TSS, MSE, RMSE\n",
    "validate_sse = round(mean_squared_error(y_validate, validate_preds['OLS']) * len(y_validate), 2)\n",
    "validate_ess = round(sum((validate_preds['OLS'] - y_validate.mean())**2), 2)\n",
    "validate_tss = round(validate_ess + validate_sse, 2)\n",
    "validate_mse = round(mean_squared_error(y_validate, validate_preds['OLS']), 2)\n",
    "validate_rmse = round(validate_mse ** 0.5, 2)"
   ]
  },
  {
   "cell_type": "code",
   "execution_count": 11,
   "id": "9f8ffa09",
   "metadata": {},
   "outputs": [
    {
     "name": "stdout",
     "output_type": "stream",
     "text": [
      "------- Baseline on Validate - Errors -------\n",
      "Sum of Squared Errors (SSE): 6381829.61\n",
      "Explained Sum of Squares (ESS): 51444.47\n",
      "Total Sum of Squares (TSS): 6433274.08\n",
      "Mean Squared Error (MSE): 8057.87\n",
      "Root Mean Squared Error (RMSE): 89.77\n",
      "------- OLS on Validate - Errors --------\n",
      "Sum of Squared Errors (SSE): 5217891.75\n",
      "Explained Sum of Squares (ESS): 1015106.68\n",
      "Total Sum of Squares (TSS): 6232998.43\n",
      "Mean Squared Error (MSE): 6588.25\n",
      "Root Mean Squared Error (RMSE): 81.17\n"
     ]
    }
   ],
   "source": [
    "# print baseline errors for validate split\n",
    "print('------- Baseline on Validate - Errors -------')\n",
    "print('Sum of Squared Errors (SSE):', baseline_sse)\n",
    "print('Explained Sum of Squares (ESS):', baseline_ess)\n",
    "print('Total Sum of Squares (TSS):', baseline_tss)\n",
    "print('Mean Squared Error (MSE):', baseline_mse)\n",
    "print('Root Mean Squared Error (RMSE):', baseline_rmse)\n",
    "\n",
    "# print OLS errors for validate split\n",
    "print('------- OLS on Validate - Errors --------')\n",
    "print('Sum of Squared Errors (SSE):', validate_sse)\n",
    "print('Explained Sum of Squares (ESS):', validate_ess)\n",
    "print('Total Sum of Squares (TSS):', validate_tss)\n",
    "print('Mean Squared Error (MSE):', validate_mse)\n",
    "print('Root Mean Squared Error (RMSE):', validate_rmse)"
   ]
  },
  {
   "cell_type": "markdown",
   "id": "d412e075",
   "metadata": {},
   "source": [
    "### R^2 Explained Variance Score\n",
    "**Train Split Explained Variance**"
   ]
  },
  {
   "cell_type": "code",
   "execution_count": 12,
   "id": "f70e7265",
   "metadata": {},
   "outputs": [
    {
     "name": "stdout",
     "output_type": "stream",
     "text": [
      "R-squared =  0.155\n",
      "Percent of variance in y explained by x =  15.5 %\n"
     ]
    }
   ],
   "source": [
    "# OLS train r2\n",
    "train_r2 = train_ess / train_tss\n",
    "print('R-squared = ',round(train_r2,3))\n",
    "print(\"Percent of variance in y explained by x = \", round(train_r2*100,1), \"%\")"
   ]
  },
  {
   "cell_type": "markdown",
   "id": "3ada7988",
   "metadata": {},
   "source": [
    "**Validate Split Explained Variance**"
   ]
  },
  {
   "cell_type": "code",
   "execution_count": 13,
   "id": "3a8d13b8",
   "metadata": {},
   "outputs": [
    {
     "name": "stdout",
     "output_type": "stream",
     "text": [
      "R-squared =  0.008\n",
      "Percent of variance in y explained by x =  0.8 %\n"
     ]
    }
   ],
   "source": [
    "# baseline validate r2\n",
    "baseline_r2 = baseline_ess / baseline_tss\n",
    "print('R-squared = ',round(baseline_r2, 3))\n",
    "print(\"Percent of variance in y explained by x = \", round(baseline_r2 * 100, 1), \"%\")"
   ]
  },
  {
   "cell_type": "code",
   "execution_count": 14,
   "id": "add3a2b6",
   "metadata": {},
   "outputs": [
    {
     "name": "stdout",
     "output_type": "stream",
     "text": [
      "R-squared =  0.163\n",
      "Percent of variance in y explained by x =  16.3 %\n"
     ]
    }
   ],
   "source": [
    "# OLS validate r2\n",
    "validate_r2 = validate_ess / validate_tss\n",
    "print('R-squared = ',round(validate_r2, 3))\n",
    "print(\"Percent of variance in y explained by x = \", round(validate_r2 * 100, 1), \"%\")"
   ]
  },
  {
   "cell_type": "markdown",
   "id": "d7117f8f",
   "metadata": {},
   "source": [
    "## MVP Takeaways\n",
    "- Using only the boost PSI and fuel octane of each car, our OLS model:\n",
    "    * Had an RMSE of 81 horsepower (Baseline: 90 horsepower)\n",
    "    * Had an explained variance of 16% (Baseline: 1%)\n",
    "\n",
    "**Therefore, our OLS model performed significantly better than the baseline.**\n",
    "\n",
    "In next iterations, we will add more features and models to try to improve our predictions."
   ]
  },
  {
   "cell_type": "markdown",
   "id": "f97c66a5",
   "metadata": {},
   "source": [
    "# Post-MVP Modeling\n",
    "We imputed nulls in boost PSI and fuel octane, and we added a feature indicating the stock horsepower of the car. We created a feature called tuned_cpu that we will not use based on results from post-MVP exploration."
   ]
  },
  {
   "cell_type": "code",
   "execution_count": 15,
   "id": "9c3432b5",
   "metadata": {},
   "outputs": [],
   "source": [
    "# acquire, prep, split, and scale data for modeling\n",
    "X_train, y_train, X_validate, y_validate, X_test, y_test = wrangle.prep_model()"
   ]
  },
  {
   "cell_type": "code",
   "execution_count": 16,
   "id": "18536ae3",
   "metadata": {},
   "outputs": [
    {
     "data": {
      "text/plain": [
       "array([[0.47474747, 0.09189189, 0.17241379],\n",
       "       [0.4040404 , 0.10540541, 0.20689655],\n",
       "       [0.33333333, 0.06756757, 0.17241379],\n",
       "       ...,\n",
       "       [0.45656566, 0.12162162, 0.17241379],\n",
       "       [0.48484848, 0.1027027 , 0.17241379],\n",
       "       [0.4       , 0.10540541, 0.20689655]])"
      ]
     },
     "execution_count": 16,
     "metadata": {},
     "output_type": "execute_result"
    }
   ],
   "source": [
    "X_validate"
   ]
  },
  {
   "cell_type": "markdown",
   "id": "fee0eb2b",
   "metadata": {},
   "source": [
    "## Generating Predictions"
   ]
  },
  {
   "cell_type": "code",
   "execution_count": 17,
   "id": "a53e43bb",
   "metadata": {},
   "outputs": [],
   "source": [
    "# build, fit model\n",
    "lm = LinearRegression(normalize=True).fit(X_train, y_train)"
   ]
  },
  {
   "cell_type": "code",
   "execution_count": 18,
   "id": "65b93c99",
   "metadata": {},
   "outputs": [],
   "source": [
    "# generate model predictions\n",
    "train_preds = pd.DataFrame(lm.predict(X_train), columns=['OLS'])\n",
    "validate_preds = pd.DataFrame(lm.predict(X_validate), columns=['OLS'])\n",
    "# generate mean baseline\n",
    "baseline = y_train.mean()\n",
    "train_preds['baseline'] = baseline\n",
    "validate_preds['baseline'] = baseline"
   ]
  },
  {
   "cell_type": "code",
   "execution_count": 19,
   "id": "d95ca9c5",
   "metadata": {},
   "outputs": [
    {
     "data": {
      "text/html": [
       "<div>\n",
       "<style scoped>\n",
       "    .dataframe tbody tr th:only-of-type {\n",
       "        vertical-align: middle;\n",
       "    }\n",
       "\n",
       "    .dataframe tbody tr th {\n",
       "        vertical-align: top;\n",
       "    }\n",
       "\n",
       "    .dataframe thead th {\n",
       "        text-align: right;\n",
       "    }\n",
       "</style>\n",
       "<table border=\"1\" class=\"dataframe\">\n",
       "  <thead>\n",
       "    <tr style=\"text-align: right;\">\n",
       "      <th></th>\n",
       "      <th>OLS</th>\n",
       "      <th>baseline</th>\n",
       "    </tr>\n",
       "  </thead>\n",
       "  <tbody>\n",
       "    <tr>\n",
       "      <th>0</th>\n",
       "      <td>317.104202</td>\n",
       "      <td>328.913505</td>\n",
       "    </tr>\n",
       "    <tr>\n",
       "      <th>1</th>\n",
       "      <td>330.427271</td>\n",
       "      <td>328.913505</td>\n",
       "    </tr>\n",
       "    <tr>\n",
       "      <th>2</th>\n",
       "      <td>334.655012</td>\n",
       "      <td>328.913505</td>\n",
       "    </tr>\n",
       "    <tr>\n",
       "      <th>3</th>\n",
       "      <td>475.070708</td>\n",
       "      <td>328.913505</td>\n",
       "    </tr>\n",
       "    <tr>\n",
       "      <th>4</th>\n",
       "      <td>284.138805</td>\n",
       "      <td>328.913505</td>\n",
       "    </tr>\n",
       "  </tbody>\n",
       "</table>\n",
       "</div>"
      ],
      "text/plain": [
       "          OLS    baseline\n",
       "0  317.104202  328.913505\n",
       "1  330.427271  328.913505\n",
       "2  334.655012  328.913505\n",
       "3  475.070708  328.913505\n",
       "4  284.138805  328.913505"
      ]
     },
     "execution_count": 19,
     "metadata": {},
     "output_type": "execute_result"
    }
   ],
   "source": [
    "train_preds.head()"
   ]
  },
  {
   "cell_type": "code",
   "execution_count": 20,
   "id": "39fdcf21",
   "metadata": {},
   "outputs": [
    {
     "data": {
      "text/html": [
       "<div>\n",
       "<style scoped>\n",
       "    .dataframe tbody tr th:only-of-type {\n",
       "        vertical-align: middle;\n",
       "    }\n",
       "\n",
       "    .dataframe tbody tr th {\n",
       "        vertical-align: top;\n",
       "    }\n",
       "\n",
       "    .dataframe thead th {\n",
       "        text-align: right;\n",
       "    }\n",
       "</style>\n",
       "<table border=\"1\" class=\"dataframe\">\n",
       "  <thead>\n",
       "    <tr style=\"text-align: right;\">\n",
       "      <th></th>\n",
       "      <th>OLS</th>\n",
       "      <th>baseline</th>\n",
       "    </tr>\n",
       "  </thead>\n",
       "  <tbody>\n",
       "    <tr>\n",
       "      <th>0</th>\n",
       "      <td>318.719849</td>\n",
       "      <td>328.913505</td>\n",
       "    </tr>\n",
       "    <tr>\n",
       "      <th>1</th>\n",
       "      <td>301.888066</td>\n",
       "      <td>328.913505</td>\n",
       "    </tr>\n",
       "    <tr>\n",
       "      <th>2</th>\n",
       "      <td>245.116738</td>\n",
       "      <td>328.913505</td>\n",
       "    </tr>\n",
       "    <tr>\n",
       "      <th>3</th>\n",
       "      <td>332.028088</td>\n",
       "      <td>328.913505</td>\n",
       "    </tr>\n",
       "    <tr>\n",
       "      <th>4</th>\n",
       "      <td>327.466589</td>\n",
       "      <td>328.913505</td>\n",
       "    </tr>\n",
       "  </tbody>\n",
       "</table>\n",
       "</div>"
      ],
      "text/plain": [
       "          OLS    baseline\n",
       "0  318.719849  328.913505\n",
       "1  301.888066  328.913505\n",
       "2  245.116738  328.913505\n",
       "3  332.028088  328.913505\n",
       "4  327.466589  328.913505"
      ]
     },
     "execution_count": 20,
     "metadata": {},
     "output_type": "execute_result"
    }
   ],
   "source": [
    "validate_preds.head()"
   ]
  },
  {
   "cell_type": "markdown",
   "id": "e8c39182",
   "metadata": {},
   "source": [
    "## Evaluation of Ordinary Least Squares (OLS) Model\n",
    "### Residuals"
   ]
  },
  {
   "cell_type": "code",
   "execution_count": 21,
   "id": "b1fbcd0d",
   "metadata": {
    "scrolled": false
   },
   "outputs": [
    {
     "data": {
      "image/png": "[encoded data removed]",
      "text/plain": [
       "<Figure size 360x360 with 1 Axes>"
      ]
     },
     "metadata": {
      "needs_background": "light"
     },
     "output_type": "display_data"
    },
    {
     "data": {
      "image/png": "[encoded data removed]",
      "text/plain": [
       "<Figure size 360x360 with 1 Axes>"
      ]
     },
     "metadata": {
      "needs_background": "light"
     },
     "output_type": "display_data"
    }
   ],
   "source": [
    "# calculate residuals\n",
    "train_preds['residuals'] = y_train - train_preds['OLS']\n",
    "validate_preds['residuals'] = y_validate - validate_preds['OLS']\n",
    "\n",
    "# plot residuals for train split\n",
    "sns.relplot(x=y_train, y=train_preds['residuals'])\n",
    "plt.title('Residuals for MVP Features and OLS Model on Train Split')\n",
    "plt.axhline(y=0, c='gray', alpha=.3)\n",
    "plt.xlabel('Horsepower')\n",
    "plt.ylabel('Residuals')\n",
    "plt.show()\n",
    "\n",
    "# plot residuals for validate split\n",
    "sns.relplot(x=y_validate, y=validate_preds['residuals'])\n",
    "plt.title('Residuals for MVP Features and OLS Model on Validate Split')\n",
    "plt.axhline(y=0, c='gray', alpha=.3)\n",
    "plt.xlabel('Horsepower')\n",
    "plt.ylabel('Residuals')\n",
    "plt.show()"
   ]
  },
  {
   "cell_type": "markdown",
   "id": "bf67b6bf",
   "metadata": {},
   "source": [
    "As you can see, boost PSI, fuel octane, and stock horsepower do not tell the whole story of a car's horsepower. In future iterations we can dig deeper into feature engineering to reduce these residuals further.\n",
    "\n",
    "### RMSE and Other Error Metrics\n",
    "**Train Split Metrics**"
   ]
  },
  {
   "cell_type": "code",
   "execution_count": 22,
   "id": "5fc8b4f9",
   "metadata": {
    "scrolled": true
   },
   "outputs": [
    {
     "name": "stdout",
     "output_type": "stream",
     "text": [
      "Sum of Squared Errors (SSE): 10462265.37\n",
      "Explained Sum of Squares (ESS): 11006596.12\n",
      "Total Sum of Squares (TSS): 21468861.49\n",
      "Mean Squared Error (MSE): 4719.11\n",
      "Root Mean Squared Error (RMSE): 68.7\n"
     ]
    }
   ],
   "source": [
    "# OLS train SSE, ESS, TSS, MSE, RMSE\n",
    "train_sse = round(mean_squared_error(y_train, train_preds['OLS']) * len(y_train), 2)\n",
    "train_ess = round(sum((train_preds['OLS'] - y_train.mean())**2), 2)\n",
    "train_tss = round(train_ess + train_sse, 2)\n",
    "train_mse = round(mean_squared_error(y_train, train_preds['OLS']), 2)\n",
    "train_rmse = round(train_mse ** 0.5, 2)\n",
    "\n",
    "print('Sum of Squared Errors (SSE):', train_sse)\n",
    "print('Explained Sum of Squares (ESS):', train_ess)\n",
    "print('Total Sum of Squares (TSS):', train_tss)\n",
    "print('Mean Squared Error (MSE):', train_mse)\n",
    "print('Root Mean Squared Error (RMSE):', train_rmse)"
   ]
  },
  {
   "cell_type": "markdown",
   "id": "c5295c7a",
   "metadata": {},
   "source": [
    "**Validate Split Metrics**"
   ]
  },
  {
   "cell_type": "code",
   "execution_count": 23,
   "id": "b1b82992",
   "metadata": {},
   "outputs": [],
   "source": [
    "# baseline error on validate split\n",
    "baseline_sse = round(mean_squared_error(y_validate, validate_preds['baseline']) * len(y_validate), 2)\n",
    "baseline_ess = round(sum((validate_preds['baseline'] - y_validate.mean())**2), 2)\n",
    "baseline_tss = round(baseline_ess + baseline_sse, 2)\n",
    "baseline_mse = round(mean_squared_error(y_validate, validate_preds['baseline']), 2)\n",
    "baseline_rmse = round(baseline_mse ** 0.5, 2)\n",
    "\n",
    "# OLS validate SSE, ESS, TSS, MSE, RMSE\n",
    "validate_sse = round(mean_squared_error(y_validate, validate_preds['OLS']) * len(y_validate), 2)\n",
    "validate_ess = round(sum((validate_preds['OLS'] - y_validate.mean())**2), 2)\n",
    "validate_tss = round(validate_ess + validate_sse, 2)\n",
    "validate_mse = round(mean_squared_error(y_validate, validate_preds['OLS']), 2)\n",
    "validate_rmse = round(validate_mse ** 0.5, 2)"
   ]
  },
  {
   "cell_type": "code",
   "execution_count": 24,
   "id": "9c3378f7",
   "metadata": {},
   "outputs": [
    {
     "name": "stdout",
     "output_type": "stream",
     "text": [
      "------- Baseline on Validate - Errors -------\n",
      "Sum of Squared Errors (SSE): 12750809.13\n",
      "Explained Sum of Squares (ESS): 5427.23\n",
      "Total Sum of Squares (TSS): 12756236.36\n",
      "Mean Squared Error (MSE): 9579.87\n",
      "Root Mean Squared Error (RMSE): 97.88\n",
      "------- OLS on Validate - Errors --------\n",
      "Sum of Squared Errors (SSE): 6419811.37\n",
      "Explained Sum of Squares (ESS): 6416793.7\n",
      "Total Sum of Squares (TSS): 12836605.07\n",
      "Mean Squared Error (MSE): 4823.3\n",
      "Root Mean Squared Error (RMSE): 69.45\n"
     ]
    }
   ],
   "source": [
    "# print baseline errors for validate split\n",
    "print('------- Baseline on Validate - Errors -------')\n",
    "print('Sum of Squared Errors (SSE):', baseline_sse)\n",
    "print('Explained Sum of Squares (ESS):', baseline_ess)\n",
    "print('Total Sum of Squares (TSS):', baseline_tss)\n",
    "print('Mean Squared Error (MSE):', baseline_mse)\n",
    "print('Root Mean Squared Error (RMSE):', baseline_rmse)\n",
    "\n",
    "# print OLS errors for validate split\n",
    "print('------- OLS on Validate - Errors --------')\n",
    "print('Sum of Squared Errors (SSE):', validate_sse)\n",
    "print('Explained Sum of Squares (ESS):', validate_ess)\n",
    "print('Total Sum of Squares (TSS):', validate_tss)\n",
    "print('Mean Squared Error (MSE):', validate_mse)\n",
    "print('Root Mean Squared Error (RMSE):', validate_rmse)"
   ]
  },
  {
   "cell_type": "markdown",
   "id": "8bb35a86",
   "metadata": {},
   "source": [
    "### R^2 Explained Variance Score\n",
    "**Train Split Explained Variance**"
   ]
  },
  {
   "cell_type": "code",
   "execution_count": 25,
   "id": "9339d6bf",
   "metadata": {},
   "outputs": [
    {
     "name": "stdout",
     "output_type": "stream",
     "text": [
      "R-squared =  0.513\n",
      "Percent of variance in y explained by x =  51.3 %\n"
     ]
    }
   ],
   "source": [
    "# OLS train r2\n",
    "train_r2 = train_ess / train_tss\n",
    "print('R-squared = ',round(train_r2,3))\n",
    "print(\"Percent of variance in y explained by x = \", round(train_r2*100,1), \"%\")"
   ]
  },
  {
   "cell_type": "markdown",
   "id": "af398bd3",
   "metadata": {},
   "source": [
    "**Validate Split Explained Variance**"
   ]
  },
  {
   "cell_type": "code",
   "execution_count": 26,
   "id": "6dd2f975",
   "metadata": {},
   "outputs": [
    {
     "name": "stdout",
     "output_type": "stream",
     "text": [
      "R-squared =  0.0\n",
      "Percent of variance in y explained by x =  0.0 %\n"
     ]
    }
   ],
   "source": [
    "# baseline validate r2\n",
    "baseline_r2 = baseline_ess / baseline_tss\n",
    "print('R-squared = ',round(baseline_r2, 3))\n",
    "print(\"Percent of variance in y explained by x = \", round(baseline_r2 * 100, 1), \"%\")"
   ]
  },
  {
   "cell_type": "code",
   "execution_count": 27,
   "id": "d1f5d932",
   "metadata": {},
   "outputs": [
    {
     "name": "stdout",
     "output_type": "stream",
     "text": [
      "R-squared =  0.5\n",
      "Percent of variance in y explained by x =  50.0 %\n"
     ]
    }
   ],
   "source": [
    "# OLS validate r2\n",
    "validate_r2 = validate_ess / validate_tss\n",
    "print('R-squared = ',round(validate_r2, 3))\n",
    "print(\"Percent of variance in y explained by x = \", round(validate_r2 * 100, 1), \"%\")"
   ]
  },
  {
   "cell_type": "markdown",
   "id": "920211e0",
   "metadata": {},
   "source": [
    "## Post-MVP Takeaways\n",
    "- Using boost PSI, fuel octane, and stock horsepower of each car, our OLS model:\n",
    "    * Had an RMSE of 69 horsepower (Baseline: 98 horsepower)\n",
    "    * Had an explained variance of 50% (Baseline: 0%)\n",
    "\n",
    "**Therefore, our OLS model performed significantly better than the baseline.**\n",
    "\n",
    "## More Models\n",
    "With these three features, we've beaten the baseline significantly. Now, we will use multiple models and hyperparameter combinations to try to improve our RMSE and R^2 value even further on train and validate splits. After we've chosen our best algorithm and hyperparameter combination, we will evaluate our best model on the test split, which has been sequestered specifically for this purpose."
   ]
  },
  {
   "cell_type": "code",
   "execution_count": 28,
   "id": "a71de740",
   "metadata": {},
   "outputs": [],
   "source": [
    "# prepare train and validate for regression shotgun\n",
    "y_train = pd.DataFrame(y_train).rename(columns={'hp':'actuals'})\n",
    "y_validate = pd.DataFrame(y_validate).rename(columns={'hp':'actuals'})"
   ]
  },
  {
   "cell_type": "code",
   "execution_count": 29,
   "id": "cd6db4e0",
   "metadata": {},
   "outputs": [],
   "source": [
    "# run the regression shotgun\n",
    "y_train, y_validate = model.regression_shotgun(X_train, y_train, X_validate, y_validate)"
   ]
  },
  {
   "cell_type": "code",
   "execution_count": 30,
   "id": "1ff9db01",
   "metadata": {},
   "outputs": [
    {
     "data": {
      "text/html": [
       "<div>\n",
       "<style scoped>\n",
       "    .dataframe tbody tr th:only-of-type {\n",
       "        vertical-align: middle;\n",
       "    }\n",
       "\n",
       "    .dataframe tbody tr th {\n",
       "        vertical-align: top;\n",
       "    }\n",
       "\n",
       "    .dataframe thead th {\n",
       "        text-align: right;\n",
       "    }\n",
       "</style>\n",
       "<table border=\"1\" class=\"dataframe\">\n",
       "  <thead>\n",
       "    <tr style=\"text-align: right;\">\n",
       "      <th></th>\n",
       "      <th>actuals</th>\n",
       "      <th>mean_bl</th>\n",
       "      <th>median_bl</th>\n",
       "      <th>ols_preds</th>\n",
       "      <th>lars_0.0001_preds</th>\n",
       "      <th>lars_0.001_preds</th>\n",
       "      <th>lars_0.01_preds</th>\n",
       "      <th>lars_0.1_preds</th>\n",
       "      <th>lars_1_preds</th>\n",
       "      <th>lars_10_preds</th>\n",
       "      <th>...</th>\n",
       "      <th>glm_p3a0.1_preds</th>\n",
       "      <th>glm_p3a1_preds</th>\n",
       "      <th>glm_p3a10_preds</th>\n",
       "      <th>glm_p3a100_preds</th>\n",
       "      <th>glm_p3a1000_preds</th>\n",
       "      <th>lm_pf_2_preds</th>\n",
       "      <th>lm_pf_3_preds</th>\n",
       "      <th>lm_pf_4_preds</th>\n",
       "      <th>lm_pf_5_preds</th>\n",
       "      <th>lm_pf_6_preds</th>\n",
       "    </tr>\n",
       "  </thead>\n",
       "  <tbody>\n",
       "    <tr>\n",
       "      <th>1285</th>\n",
       "      <td>299.0</td>\n",
       "      <td>326.894207</td>\n",
       "      <td>304.0</td>\n",
       "      <td>318.719849</td>\n",
       "      <td>318.722038</td>\n",
       "      <td>318.741742</td>\n",
       "      <td>318.938786</td>\n",
       "      <td>320.909225</td>\n",
       "      <td>329.924514</td>\n",
       "      <td>328.913505</td>\n",
       "      <td>...</td>\n",
       "      <td>328.913505</td>\n",
       "      <td>328.913505</td>\n",
       "      <td>328.913505</td>\n",
       "      <td>328.913505</td>\n",
       "      <td>328.913505</td>\n",
       "      <td>300.894291</td>\n",
       "      <td>297.472794</td>\n",
       "      <td>291.735217</td>\n",
       "      <td>295.641207</td>\n",
       "      <td>296.937087</td>\n",
       "    </tr>\n",
       "    <tr>\n",
       "      <th>2780</th>\n",
       "      <td>296.0</td>\n",
       "      <td>326.894207</td>\n",
       "      <td>304.0</td>\n",
       "      <td>301.888066</td>\n",
       "      <td>301.890030</td>\n",
       "      <td>301.907704</td>\n",
       "      <td>302.084442</td>\n",
       "      <td>303.851821</td>\n",
       "      <td>322.509652</td>\n",
       "      <td>328.913505</td>\n",
       "      <td>...</td>\n",
       "      <td>328.913505</td>\n",
       "      <td>328.913505</td>\n",
       "      <td>328.913505</td>\n",
       "      <td>328.913505</td>\n",
       "      <td>328.913505</td>\n",
       "      <td>305.371334</td>\n",
       "      <td>291.498907</td>\n",
       "      <td>285.887752</td>\n",
       "      <td>288.357145</td>\n",
       "      <td>290.370292</td>\n",
       "    </tr>\n",
       "    <tr>\n",
       "      <th>1700</th>\n",
       "      <td>318.0</td>\n",
       "      <td>326.894207</td>\n",
       "      <td>304.0</td>\n",
       "      <td>245.116738</td>\n",
       "      <td>245.126143</td>\n",
       "      <td>245.210785</td>\n",
       "      <td>246.057209</td>\n",
       "      <td>254.521444</td>\n",
       "      <td>315.094790</td>\n",
       "      <td>328.913505</td>\n",
       "      <td>...</td>\n",
       "      <td>328.913505</td>\n",
       "      <td>328.913505</td>\n",
       "      <td>328.913505</td>\n",
       "      <td>328.913505</td>\n",
       "      <td>328.913505</td>\n",
       "      <td>239.727767</td>\n",
       "      <td>230.479723</td>\n",
       "      <td>251.344555</td>\n",
       "      <td>244.936050</td>\n",
       "      <td>241.293144</td>\n",
       "    </tr>\n",
       "    <tr>\n",
       "      <th>1552</th>\n",
       "      <td>276.0</td>\n",
       "      <td>326.894207</td>\n",
       "      <td>304.0</td>\n",
       "      <td>332.028088</td>\n",
       "      <td>332.027821</td>\n",
       "      <td>332.025419</td>\n",
       "      <td>332.001398</td>\n",
       "      <td>331.761195</td>\n",
       "      <td>329.924514</td>\n",
       "      <td>328.913505</td>\n",
       "      <td>...</td>\n",
       "      <td>328.913505</td>\n",
       "      <td>328.913505</td>\n",
       "      <td>328.913505</td>\n",
       "      <td>328.913505</td>\n",
       "      <td>328.913505</td>\n",
       "      <td>323.281844</td>\n",
       "      <td>312.888260</td>\n",
       "      <td>303.973276</td>\n",
       "      <td>308.319957</td>\n",
       "      <td>306.736114</td>\n",
       "    </tr>\n",
       "    <tr>\n",
       "      <th>1748</th>\n",
       "      <td>353.0</td>\n",
       "      <td>326.894207</td>\n",
       "      <td>304.0</td>\n",
       "      <td>327.466589</td>\n",
       "      <td>327.467541</td>\n",
       "      <td>327.476116</td>\n",
       "      <td>327.561859</td>\n",
       "      <td>328.419290</td>\n",
       "      <td>330.983780</td>\n",
       "      <td>328.913505</td>\n",
       "      <td>...</td>\n",
       "      <td>328.913505</td>\n",
       "      <td>328.913505</td>\n",
       "      <td>328.913505</td>\n",
       "      <td>328.913505</td>\n",
       "      <td>328.913505</td>\n",
       "      <td>315.092154</td>\n",
       "      <td>312.439877</td>\n",
       "      <td>307.789061</td>\n",
       "      <td>311.479359</td>\n",
       "      <td>314.090046</td>\n",
       "    </tr>\n",
       "    <tr>\n",
       "      <th>...</th>\n",
       "      <td>...</td>\n",
       "      <td>...</td>\n",
       "      <td>...</td>\n",
       "      <td>...</td>\n",
       "      <td>...</td>\n",
       "      <td>...</td>\n",
       "      <td>...</td>\n",
       "      <td>...</td>\n",
       "      <td>...</td>\n",
       "      <td>...</td>\n",
       "      <td>...</td>\n",
       "      <td>...</td>\n",
       "      <td>...</td>\n",
       "      <td>...</td>\n",
       "      <td>...</td>\n",
       "      <td>...</td>\n",
       "      <td>...</td>\n",
       "      <td>...</td>\n",
       "      <td>...</td>\n",
       "      <td>...</td>\n",
       "      <td>...</td>\n",
       "    </tr>\n",
       "    <tr>\n",
       "      <th>1783</th>\n",
       "      <td>250.0</td>\n",
       "      <td>326.894207</td>\n",
       "      <td>304.0</td>\n",
       "      <td>263.728137</td>\n",
       "      <td>263.734885</td>\n",
       "      <td>263.795621</td>\n",
       "      <td>264.402976</td>\n",
       "      <td>270.476530</td>\n",
       "      <td>317.848881</td>\n",
       "      <td>328.913505</td>\n",
       "      <td>...</td>\n",
       "      <td>328.913505</td>\n",
       "      <td>328.913505</td>\n",
       "      <td>328.913505</td>\n",
       "      <td>328.913505</td>\n",
       "      <td>328.913505</td>\n",
       "      <td>275.147622</td>\n",
       "      <td>264.395283</td>\n",
       "      <td>281.114550</td>\n",
       "      <td>274.452621</td>\n",
       "      <td>267.876056</td>\n",
       "    </tr>\n",
       "    <tr>\n",
       "      <th>1555</th>\n",
       "      <td>305.0</td>\n",
       "      <td>326.894207</td>\n",
       "      <td>304.0</td>\n",
       "      <td>402.906499</td>\n",
       "      <td>402.895118</td>\n",
       "      <td>402.792681</td>\n",
       "      <td>401.768311</td>\n",
       "      <td>391.524618</td>\n",
       "      <td>329.924514</td>\n",
       "      <td>328.913505</td>\n",
       "      <td>...</td>\n",
       "      <td>328.913505</td>\n",
       "      <td>328.913505</td>\n",
       "      <td>328.913505</td>\n",
       "      <td>328.913505</td>\n",
       "      <td>328.913505</td>\n",
       "      <td>360.997928</td>\n",
       "      <td>351.803935</td>\n",
       "      <td>354.135466</td>\n",
       "      <td>346.502047</td>\n",
       "      <td>346.335894</td>\n",
       "    </tr>\n",
       "    <tr>\n",
       "      <th>4054</th>\n",
       "      <td>318.0</td>\n",
       "      <td>326.894207</td>\n",
       "      <td>304.0</td>\n",
       "      <td>327.253308</td>\n",
       "      <td>327.252705</td>\n",
       "      <td>327.247277</td>\n",
       "      <td>327.193001</td>\n",
       "      <td>326.650235</td>\n",
       "      <td>328.017835</td>\n",
       "      <td>328.913505</td>\n",
       "      <td>...</td>\n",
       "      <td>328.913505</td>\n",
       "      <td>328.913505</td>\n",
       "      <td>328.913505</td>\n",
       "      <td>328.913505</td>\n",
       "      <td>328.913505</td>\n",
       "      <td>335.764140</td>\n",
       "      <td>337.376115</td>\n",
       "      <td>334.254551</td>\n",
       "      <td>329.568420</td>\n",
       "      <td>336.116185</td>\n",
       "    </tr>\n",
       "    <tr>\n",
       "      <th>820</th>\n",
       "      <td>313.0</td>\n",
       "      <td>326.894207</td>\n",
       "      <td>304.0</td>\n",
       "      <td>328.946930</td>\n",
       "      <td>328.947576</td>\n",
       "      <td>328.953397</td>\n",
       "      <td>329.011599</td>\n",
       "      <td>329.593627</td>\n",
       "      <td>330.983780</td>\n",
       "      <td>328.913505</td>\n",
       "      <td>...</td>\n",
       "      <td>328.913505</td>\n",
       "      <td>328.913505</td>\n",
       "      <td>328.913505</td>\n",
       "      <td>328.913505</td>\n",
       "      <td>328.913505</td>\n",
       "      <td>318.789299</td>\n",
       "      <td>316.277478</td>\n",
       "      <td>312.209646</td>\n",
       "      <td>315.523115</td>\n",
       "      <td>318.834680</td>\n",
       "    </tr>\n",
       "    <tr>\n",
       "      <th>782</th>\n",
       "      <td>261.0</td>\n",
       "      <td>326.894207</td>\n",
       "      <td>304.0</td>\n",
       "      <td>300.165780</td>\n",
       "      <td>300.167871</td>\n",
       "      <td>300.186692</td>\n",
       "      <td>300.374902</td>\n",
       "      <td>302.256999</td>\n",
       "      <td>322.085945</td>\n",
       "      <td>328.913505</td>\n",
       "      <td>...</td>\n",
       "      <td>328.913505</td>\n",
       "      <td>328.913505</td>\n",
       "      <td>328.913505</td>\n",
       "      <td>328.913505</td>\n",
       "      <td>328.913505</td>\n",
       "      <td>304.546163</td>\n",
       "      <td>290.659031</td>\n",
       "      <td>285.460239</td>\n",
       "      <td>287.819250</td>\n",
       "      <td>289.853845</td>\n",
       "    </tr>\n",
       "  </tbody>\n",
       "</table>\n",
       "<p>1331 rows × 49 columns</p>\n",
       "</div>"
      ],
      "text/plain": [
       "      actuals     mean_bl  median_bl   ols_preds  lars_0.0001_preds  \\\n",
       "1285    299.0  326.894207      304.0  318.719849         318.722038   \n",
       "2780    296.0  326.894207      304.0  301.888066         301.890030   \n",
       "1700    318.0  326.894207      304.0  245.116738         245.126143   \n",
       "1552    276.0  326.894207      304.0  332.028088         332.027821   \n",
       "1748    353.0  326.894207      304.0  327.466589         327.467541   \n",
       "...       ...         ...        ...         ...                ...   \n",
       "1783    250.0  326.894207      304.0  263.728137         263.734885   \n",
       "1555    305.0  326.894207      304.0  402.906499         402.895118   \n",
       "4054    318.0  326.894207      304.0  327.253308         327.252705   \n",
       "820     313.0  326.894207      304.0  328.946930         328.947576   \n",
       "782     261.0  326.894207      304.0  300.165780         300.167871   \n",
       "\n",
       "      lars_0.001_preds  lars_0.01_preds  lars_0.1_preds  lars_1_preds  \\\n",
       "1285        318.741742       318.938786      320.909225    329.924514   \n",
       "2780        301.907704       302.084442      303.851821    322.509652   \n",
       "1700        245.210785       246.057209      254.521444    315.094790   \n",
       "1552        332.025419       332.001398      331.761195    329.924514   \n",
       "1748        327.476116       327.561859      328.419290    330.983780   \n",
       "...                ...              ...             ...           ...   \n",
       "1783        263.795621       264.402976      270.476530    317.848881   \n",
       "1555        402.792681       401.768311      391.524618    329.924514   \n",
       "4054        327.247277       327.193001      326.650235    328.017835   \n",
       "820         328.953397       329.011599      329.593627    330.983780   \n",
       "782         300.186692       300.374902      302.256999    322.085945   \n",
       "\n",
       "      lars_10_preds  ...  glm_p3a0.1_preds  glm_p3a1_preds  glm_p3a10_preds  \\\n",
       "1285     328.913505  ...        328.913505      328.913505       328.913505   \n",
       "2780     328.913505  ...        328.913505      328.913505       328.913505   \n",
       "1700     328.913505  ...        328.913505      328.913505       328.913505   \n",
       "1552     328.913505  ...        328.913505      328.913505       328.913505   \n",
       "1748     328.913505  ...        328.913505      328.913505       328.913505   \n",
       "...             ...  ...               ...             ...              ...   \n",
       "1783     328.913505  ...        328.913505      328.913505       328.913505   \n",
       "1555     328.913505  ...        328.913505      328.913505       328.913505   \n",
       "4054     328.913505  ...        328.913505      328.913505       328.913505   \n",
       "820      328.913505  ...        328.913505      328.913505       328.913505   \n",
       "782      328.913505  ...        328.913505      328.913505       328.913505   \n",
       "\n",
       "      glm_p3a100_preds  glm_p3a1000_preds  lm_pf_2_preds  lm_pf_3_preds  \\\n",
       "1285        328.913505         328.913505     300.894291     297.472794   \n",
       "2780        328.913505         328.913505     305.371334     291.498907   \n",
       "1700        328.913505         328.913505     239.727767     230.479723   \n",
       "1552        328.913505         328.913505     323.281844     312.888260   \n",
       "1748        328.913505         328.913505     315.092154     312.439877   \n",
       "...                ...                ...            ...            ...   \n",
       "1783        328.913505         328.913505     275.147622     264.395283   \n",
       "1555        328.913505         328.913505     360.997928     351.803935   \n",
       "4054        328.913505         328.913505     335.764140     337.376115   \n",
       "820         328.913505         328.913505     318.789299     316.277478   \n",
       "782         328.913505         328.913505     304.546163     290.659031   \n",
       "\n",
       "      lm_pf_4_preds  lm_pf_5_preds  lm_pf_6_preds  \n",
       "1285     291.735217     295.641207     296.937087  \n",
       "2780     285.887752     288.357145     290.370292  \n",
       "1700     251.344555     244.936050     241.293144  \n",
       "1552     303.973276     308.319957     306.736114  \n",
       "1748     307.789061     311.479359     314.090046  \n",
       "...             ...            ...            ...  \n",
       "1783     281.114550     274.452621     267.876056  \n",
       "1555     354.135466     346.502047     346.335894  \n",
       "4054     334.254551     329.568420     336.116185  \n",
       "820      312.209646     315.523115     318.834680  \n",
       "782      285.460239     287.819250     289.853845  \n",
       "\n",
       "[1331 rows x 49 columns]"
      ]
     },
     "execution_count": 30,
     "metadata": {},
     "output_type": "execute_result"
    }
   ],
   "source": [
    "# check work\n",
    "y_validate"
   ]
  },
  {
   "cell_type": "code",
   "execution_count": 31,
   "id": "b6b181f6",
   "metadata": {},
   "outputs": [],
   "source": [
    "# check RMSE and R^2 value for each model on train and validate\n",
    "running_df = model.y_df_RMSE_r2(y_train, y_validate)"
   ]
  },
  {
   "cell_type": "code",
   "execution_count": 32,
   "id": "1d146a2b",
   "metadata": {},
   "outputs": [
    {
     "data": {
      "text/html": [
       "<div>\n",
       "<style scoped>\n",
       "    .dataframe tbody tr th:only-of-type {\n",
       "        vertical-align: middle;\n",
       "    }\n",
       "\n",
       "    .dataframe tbody tr th {\n",
       "        vertical-align: top;\n",
       "    }\n",
       "\n",
       "    .dataframe thead th {\n",
       "        text-align: right;\n",
       "    }\n",
       "</style>\n",
       "<table border=\"1\" class=\"dataframe\">\n",
       "  <thead>\n",
       "    <tr style=\"text-align: right;\">\n",
       "      <th></th>\n",
       "      <th>Model</th>\n",
       "      <th>Train_RMSE</th>\n",
       "      <th>Validate_RMSE</th>\n",
       "      <th>Train_r2</th>\n",
       "      <th>Validate_r2</th>\n",
       "    </tr>\n",
       "  </thead>\n",
       "  <tbody>\n",
       "    <tr>\n",
       "      <th>45</th>\n",
       "      <td>lm_pf_4_preds</td>\n",
       "      <td>50.659167</td>\n",
       "      <td>60.861762</td>\n",
       "      <td>0.734984</td>\n",
       "      <td>0.613175</td>\n",
       "    </tr>\n",
       "    <tr>\n",
       "      <th>43</th>\n",
       "      <td>lm_pf_2_preds</td>\n",
       "      <td>58.427301</td>\n",
       "      <td>64.294286</td>\n",
       "      <td>0.647476</td>\n",
       "      <td>0.568312</td>\n",
       "    </tr>\n",
       "    <tr>\n",
       "      <th>27</th>\n",
       "      <td>glm_p2a0.0001_preds</td>\n",
       "      <td>92.670653</td>\n",
       "      <td>67.384360</td>\n",
       "      <td>0.113168</td>\n",
       "      <td>0.525820</td>\n",
       "    </tr>\n",
       "    <tr>\n",
       "      <th>44</th>\n",
       "      <td>lm_pf_3_preds</td>\n",
       "      <td>54.328950</td>\n",
       "      <td>67.447989</td>\n",
       "      <td>0.695197</td>\n",
       "      <td>0.524924</td>\n",
       "    </tr>\n",
       "    <tr>\n",
       "      <th>19</th>\n",
       "      <td>glm_p1a0.0001_preds</td>\n",
       "      <td>69.064539</td>\n",
       "      <td>68.910583</td>\n",
       "      <td>0.507431</td>\n",
       "      <td>0.504097</td>\n",
       "    </tr>\n",
       "  </tbody>\n",
       "</table>\n",
       "</div>"
      ],
      "text/plain": [
       "                  Model  Train_RMSE  Validate_RMSE  Train_r2  Validate_r2\n",
       "45        lm_pf_4_preds   50.659167      60.861762  0.734984     0.613175\n",
       "43        lm_pf_2_preds   58.427301      64.294286  0.647476     0.568312\n",
       "27  glm_p2a0.0001_preds   92.670653      67.384360  0.113168     0.525820\n",
       "44        lm_pf_3_preds   54.328950      67.447989  0.695197     0.524924\n",
       "19  glm_p1a0.0001_preds   69.064539      68.910583  0.507431     0.504097"
      ]
     },
     "execution_count": 32,
     "metadata": {},
     "output_type": "execute_result"
    }
   ],
   "source": [
    "# check results\n",
    "running_df.sort_values(by='Validate_r2', ascending=False).head()"
   ]
  },
  {
   "cell_type": "markdown",
   "id": "7be131bb",
   "metadata": {},
   "source": [
    "## More Models - Takeaways\n",
    "After creating many models with various hyperparameter combinations, our best model is the Polynomial Regression model with two degrees. It is less than 10% overfit while still maintaining a decent RMSE.\n",
    "\n",
    "- **Best model: Polynomial Regression**\n",
    "- **RMSE: 64 horsepower**\n",
    "- **R^2 Explained Variance: 57%**"
   ]
  },
  {
   "cell_type": "code",
   "execution_count": 33,
   "id": "d7188600",
   "metadata": {},
   "outputs": [
    {
     "data": {
      "image/png": "[encoded data removed]",
      "text/plain": [
       "<Figure size 360x360 with 1 Axes>"
      ]
     },
     "metadata": {
      "needs_background": "light"
     },
     "output_type": "display_data"
    },
    {
     "data": {
      "image/png": "[encoded data removed]",
      "text/plain": [
       "<Figure size 360x360 with 1 Axes>"
      ]
     },
     "metadata": {
      "needs_background": "light"
     },
     "output_type": "display_data"
    }
   ],
   "source": [
    "# show residuals for best model\n",
    "# calculate residuals\n",
    "pf_train_residuals = y_train['actuals'] - y_train['lm_pf_2_preds']\n",
    "pf_validate_residuals = y_validate['actuals'] - y_validate['lm_pf_2_preds']\n",
    "\n",
    "# plot residuals for train split\n",
    "sns.relplot(x=y_train['actuals'], y=pf_train_residuals)\n",
    "plt.title('Residuals for Features and PF Model on Train Split')\n",
    "plt.axhline(y=0, c='gray', alpha=.3)\n",
    "plt.xlabel('Horsepower')\n",
    "plt.ylabel('Residuals')\n",
    "plt.show()\n",
    "\n",
    "# plot residuals for validate split\n",
    "sns.relplot(x=y_validate['actuals'], y=pf_validate_residuals)\n",
    "plt.title('Residuals for Features and PF Model on Validate Split')\n",
    "plt.axhline(y=0, c='gray', alpha=.3)\n",
    "plt.xlabel('Horsepower')\n",
    "plt.ylabel('Residuals')\n",
    "plt.show()"
   ]
  },
  {
   "cell_type": "markdown",
   "id": "bb23fb01",
   "metadata": {},
   "source": [
    "# Best Model on Test Split\n",
    "Now that we've chosen our best model, we will evaluate our model on the test split."
   ]
  },
  {
   "cell_type": "code",
   "execution_count": 34,
   "id": "f9b6cbfa",
   "metadata": {},
   "outputs": [],
   "source": [
    "lm = LinearRegression(normalize=True) # Create linear regression model\n",
    "# Create polynomial variables\n",
    "X_train_pf = PolynomialFeatures(degree=2).fit_transform(X_train)\n",
    "X_test_pf = PolynomialFeatures(degree=2).fit(X_train).transform(X_test)\n",
    "# Make predictions on polynomial variables\n",
    "train_predictions = lm.fit(X_train_pf, y_train.actuals).predict(X_train_pf)\n",
    "test_predictions = lm.fit(X_train_pf, y_train.actuals).predict(X_test_pf)"
   ]
  },
  {
   "cell_type": "code",
   "execution_count": 35,
   "id": "9b694bca",
   "metadata": {},
   "outputs": [],
   "source": [
    "# Evaluate!\n",
    "rmse_train = mean_squared_error(y_train.actuals, train_predictions) ** 0.5\n",
    "rmse_test = mean_squared_error(y_test, test_predictions) ** 0.5\n",
    "r2_train = r2_score(y_train.actuals, train_predictions)\n",
    "r2_test = r2_score(y_test, test_predictions)"
   ]
  },
  {
   "cell_type": "code",
   "execution_count": 36,
   "id": "a7978243",
   "metadata": {},
   "outputs": [
    {
     "name": "stdout",
     "output_type": "stream",
     "text": [
      "Train: RMSE of 58 horsepower, explained variance of 64.7%.\n",
      "Test: RMSE of 69 horsepower, explained variance of 47.1%.\n"
     ]
    }
   ],
   "source": [
    "print(f'Train: RMSE of {int(rmse_train)} horsepower, explained variance of {round(r2_train * 100, 1)}%.')\n",
    "print(f'Test: RMSE of {int(rmse_test)} horsepower, explained variance of {round(r2_test * 100, 1)}%.')"
   ]
  },
  {
   "cell_type": "markdown",
   "id": "e4d655c0",
   "metadata": {},
   "source": [
    "# Modeling Takeaways\n",
    "## Features\n",
    "### Stock Horsepower, Boost PSI, and Fuel Octane\n",
    "## Baseline\n",
    "### RMSE of 98 Horsepower, R^2 of 0%\n",
    "## Our Best Model: Polynomial Features Linear Regression with 2 Degrees\n",
    "### R^2 Explained Variance: 52% on unseen data\n",
    "### RMSE: 67 Horsepower"
   ]
  },
  {
   "cell_type": "code",
   "execution_count": null,
   "id": "3cb4bb3b",
   "metadata": {},
   "outputs": [],
   "source": []
  }
 ],
 "metadata": {
  "kernelspec": {
   "display_name": "Python 3 (ipykernel)",
   "language": "python",
   "name": "python3"
  },
  "language_info": {
   "codemirror_mode": {
    "name": "ipython",
    "version": 3
   },
   "file_extension": ".py",
   "mimetype": "text/x-python",
   "name": "python",
   "nbconvert_exporter": "python",
   "pygments_lexer": "ipython3",
   "version": "3.8.8"
  }
 },
 "nbformat": 4,
 "nbformat_minor": 5
}
